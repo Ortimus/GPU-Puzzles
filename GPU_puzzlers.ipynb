{
  "cells": [
    {
      "cell_type": "markdown",
      "metadata": {
        "id": "view-in-github",
        "colab_type": "text"
      },
      "source": [
        "<a href=\"https://colab.research.google.com/github/Ortimus/GPU-Puzzles/blob/main/GPU_puzzlers.ipynb\" target=\"_parent\"><img src=\"https://colab.research.google.com/assets/colab-badge.svg\" alt=\"Open In Colab\"/></a>"
      ]
    },
    {
      "cell_type": "markdown",
      "id": "23454034",
      "metadata": {
        "lines_to_next_cell": 2,
        "id": "23454034"
      },
      "source": [
        "# GPU Puzzles\n",
        "- by [Sasha Rush](http://rush-nlp.com) - [srush_nlp](https://twitter.com/srush_nlp)"
      ]
    },
    {
      "cell_type": "markdown",
      "id": "783f5a51",
      "metadata": {
        "id": "783f5a51"
      },
      "source": [
        "I recommend doing these in Colab, as it is easy to get started.  Be\n",
        "sure to make your own copy, turn on GPU mode in the settings (`Runtime / Change runtime type`, then set `Hardware accelerator` to `GPU`), and\n",
        "then get to coding."
      ]
    },
    {
      "cell_type": "markdown",
      "id": "09ffa5eb",
      "metadata": {
        "id": "09ffa5eb"
      },
      "source": [
        "![](https://github.com/srush/GPU-Puzzles/raw/main/cuda.png)"
      ]
    },
    {
      "cell_type": "markdown",
      "id": "c9064f5c",
      "metadata": {
        "id": "c9064f5c"
      },
      "source": [
        "GPU architectures are critical to machine learning, and seem to be\n",
        "becoming even more important every day. However, you can be an expert\n",
        "in machine learning without ever touching GPU code. It is hard to gain\n",
        "intuition working through abstractions."
      ]
    },
    {
      "cell_type": "markdown",
      "id": "d4af993a",
      "metadata": {
        "id": "d4af993a"
      },
      "source": [
        "This notebook is an attempt to teach beginner GPU programming in a\n",
        "completely interactive fashion. Instead of providing text with\n",
        "concepts, it throws you right into coding and building GPU\n",
        "kernels. The exercises use NUMBA which directly maps Python\n",
        "code to CUDA kernels. It looks like Python but is basically\n",
        "identical to writing low-level CUDA code.\n",
        "In a few hours, I think you can go from basics to\n",
        "understanding the real algorithms that power 99% of deep learning\n",
        "today. If you do want to read the manual, it is here:"
      ]
    },
    {
      "cell_type": "markdown",
      "id": "cb974c6b",
      "metadata": {
        "id": "cb974c6b"
      },
      "source": [
        "[NUMBA CUDA Guide](https://numba.readthedocs.io/en/stable/cuda/index.html)"
      ]
    },
    {
      "cell_type": "markdown",
      "id": "044bd802",
      "metadata": {
        "id": "044bd802"
      },
      "source": [
        "(If you are into this style of puzzle, also check out my [Tensor\n",
        "Puzzles](https://github.com/srush/Tensor-Puzzles) for PyTorch.)"
      ]
    },
    {
      "cell_type": "code",
      "execution_count": 1,
      "id": "4c078331",
      "metadata": {
        "execution": {
          "iopub.execute_input": "2022-08-07T21:24:28.090989Z",
          "iopub.status.busy": "2022-08-07T21:24:28.090509Z",
          "iopub.status.idle": "2022-08-07T21:24:40.218920Z",
          "shell.execute_reply": "2022-08-07T21:24:40.217864Z"
        },
        "lines_to_next_cell": 2,
        "id": "4c078331",
        "outputId": "6233f862-5733-4f4c-b269-2f7f73da1445",
        "colab": {
          "base_uri": "https://localhost:8080/"
        }
      },
      "outputs": [
        {
          "output_type": "stream",
          "name": "stdout",
          "text": [
            "  Preparing metadata (setup.py) ... \u001b[?25l\u001b[?25hdone\n",
            "  Installing build dependencies ... \u001b[?25l\u001b[?25hdone\n",
            "  Getting requirements to build wheel ... \u001b[?25l\u001b[?25hdone\n",
            "  Preparing metadata (pyproject.toml) ... \u001b[?25l\u001b[?25hdone\n"
          ]
        }
      ],
      "source": [
        "!pip install -qqq git+https://github.com/chalk-diagrams/planar git+https://github.com/danoneata/chalk@srush-patch-1\n",
        "!wget -q https://github.com/srush/GPU-Puzzles/raw/main/robot.png https://github.com/srush/GPU-Puzzles/raw/main/lib.py"
      ]
    },
    {
      "cell_type": "code",
      "source": [
        "!uv pip install -q --system numba-cuda==0.4.0\n",
        "from numba import config\n",
        "config.CUDA_ENABLE_PYNVJITLINK = 1\n",
        "\n",
        "#Also, as an aside, for small examples, you can hide the low occupancy warnings, if desired, by specifying:\n",
        "config.CUDA_LOW_OCCUPANCY_WARNINGS = 0"
      ],
      "metadata": {
        "id": "siA2ZXkS7JBj"
      },
      "id": "siA2ZXkS7JBj",
      "execution_count": 2,
      "outputs": []
    },
    {
      "cell_type": "code",
      "execution_count": 3,
      "id": "53cba43c",
      "metadata": {
        "execution": {
          "iopub.execute_input": "2022-08-07T21:24:40.223406Z",
          "iopub.status.busy": "2022-08-07T21:24:40.222945Z",
          "iopub.status.idle": "2022-08-07T21:24:40.697137Z",
          "shell.execute_reply": "2022-08-07T21:24:40.696287Z"
        },
        "id": "53cba43c"
      },
      "outputs": [],
      "source": [
        "import numba\n",
        "import numpy as np\n",
        "import warnings\n",
        "from lib import CudaProblem, Coord"
      ]
    },
    {
      "cell_type": "code",
      "execution_count": 4,
      "id": "76a82629",
      "metadata": {
        "execution": {
          "iopub.execute_input": "2022-08-07T21:24:40.701357Z",
          "iopub.status.busy": "2022-08-07T21:24:40.700827Z",
          "iopub.status.idle": "2022-08-07T21:24:40.705366Z",
          "shell.execute_reply": "2022-08-07T21:24:40.704574Z"
        },
        "lines_to_next_cell": 2,
        "id": "76a82629"
      },
      "outputs": [],
      "source": [
        "warnings.filterwarnings(\n",
        "    action=\"ignore\", category=numba.NumbaPerformanceWarning, module=\"numba\"\n",
        ")"
      ]
    },
    {
      "cell_type": "markdown",
      "id": "d0ad1b7a",
      "metadata": {
        "lines_to_next_cell": 2,
        "id": "d0ad1b7a"
      },
      "source": [
        "## Puzzle 1: Map\n",
        "\n",
        "Implement a \"kernel\" (GPU function) that adds 10 to each position of vector `a`\n",
        "and stores it in vector `out`.  You have 1 thread per position."
      ]
    },
    {
      "cell_type": "markdown",
      "id": "2bcbce0d",
      "metadata": {
        "lines_to_next_cell": 2,
        "id": "2bcbce0d"
      },
      "source": [
        "**Warning** This code looks like Python but it is really CUDA! You cannot use\n",
        "standard python tools like list comprehensions or ask for Numpy properties\n",
        "like shape or size (if you need the size, it is given as an argument).\n",
        "The puzzles only require doing simple operations, basically\n",
        "+, *, simple array indexing, for loops, and if statements.\n",
        "You are allowed to use local variables.\n",
        "If you get an\n",
        "error it is probably because you did something fancy :)."
      ]
    },
    {
      "cell_type": "markdown",
      "id": "cb5e1d85",
      "metadata": {
        "id": "cb5e1d85"
      },
      "source": [
        "*Tip: Think of the function `call` as being run 1 time for each thread.\n",
        "The only difference is that `cuda.threadIdx.x` changes each time.*"
      ]
    },
    {
      "cell_type": "code",
      "execution_count": 5,
      "id": "ab0899de",
      "metadata": {
        "execution": {
          "iopub.execute_input": "2022-08-07T21:24:40.710192Z",
          "iopub.status.busy": "2022-08-07T21:24:40.709745Z",
          "iopub.status.idle": "2022-08-07T21:24:40.779921Z",
          "shell.execute_reply": "2022-08-07T21:24:40.779104Z"
        },
        "id": "ab0899de",
        "outputId": "5ed2fbb1-e1f4-4b84-d43f-343067134e19",
        "colab": {
          "base_uri": "https://localhost:8080/",
          "height": 775
        }
      },
      "outputs": [
        {
          "output_type": "stream",
          "name": "stdout",
          "text": [
            "# Map\n",
            " \n",
            "   Score (Max Per Thread):\n",
            "   |  Global Reads | Global Writes |  Shared Reads | Shared Writes |\n",
            "   |             1 |             1 |             0 |             0 | \n",
            "\n"
          ]
        },
        {
          "output_type": "execute_result",
          "data": {
            "text/plain": [
              "Compose(envelope=<chalk.envelope.Envelope object at 0x78b39a4109d0>, diagram1=ApplyStyle(style=Style(line_width=None, line_color=None, fill_color=<Color white>, fill_opacity=None, dashing=None, output_size=None), diagram=Primitive(shape=Rectangle(width=11.616000000000001, height=12.936255200000002, radius=None), style=Style(line_width=None, line_color=None, fill_color=None, fill_opacity=None, dashing=None, output_size=None), transform=Affine(1.0, 0.0, 0.0,\n",
              "       0.0, 1.0, 0.0))), diagram2=ApplyTransform(transform=Affine(1.0, 0.0, -0.0,\n",
              "       0.0, 1.0, -5.643127600000001), diagram=Compose(envelope=<chalk.envelope.Envelope object at 0x78b39a4105d0>, diagram1=Compose(envelope=<chalk.envelope.Envelope object at 0x78b39a4104d0>, diagram1=Compose(envelope=<chalk.envelope.Envelope object at 0x78b39a410250>, diagram1=Compose(envelope=<chalk.envelope.Envelope object at 0x78b39a5fbed0>, diagram1=Compose(envelope=<chalk.envelope.Envelope object at 0x78b39a5fbcd0>, diagram1=Compose(envelope=<chalk.envelope.Envelope object at 0x78b39a5fba10>, diagram1=Primitive(shape=Spacer(width=0, height=1.5), style=Style(line_width=None, line_color=None, fill_color=None, fill_opacity=None, dashing=None, output_size=None), transform=Affine(1.0, 0.0, 0.0,\n",
              "       0.0, 1.0, 0.0)), diagram2=ApplyTransform(transform=Affine(1.0, 0.0, 0.0,\n",
              "       0.0, 1.0, 0.75), diagram=Primitive(shape=Text(text='Map', font_size=1), style=Style(line_width=None, line_color=None, fill_color=None, fill_opacity=None, dashing=None, output_size=None), transform=Affine(1.0, 0.0, 0.0,\n",
              "       0.0, 1.0, 0.0)))), diagram2=ApplyTransform(transform=Affine(1.0, 0.0, 0.0,\n",
              "       0.0, 1.0, 1.2501), diagram=Primitive(shape=Spacer(width=0, height=1), style=Style(line_width=None, line_color=None, fill_color=None, fill_opacity=None, dashing=None, output_size=None), transform=Affine(1.0, 0.0, 0.0,\n",
              "       0.0, 1.0, 0.0)))), diagram2=ApplyTransform(transform=Affine(1.0, 0.0, 0.0,\n",
              "       0.0, 1.0, 2.2500999999999998), diagram=ApplyTransform(transform=Affine(1.0, 0.0, -1.6500000000000001,\n",
              "       0.0, 1.0, -0.0), diagram=Compose(envelope=<chalk.envelope.Envelope object at 0x78b39a5fb610>, diagram1=Compose(envelope=<chalk.envelope.Envelope object at 0x78b39a5fb490>, diagram1=Compose(envelope=<chalk.envelope.Envelope object at 0x78b39a5fb310>, diagram1=Compose(envelope=<chalk.envelope.Envelope object at 0x78b39a5fb1d0>, diagram1=Empty(), diagram2=ApplyTransform(transform=Affine(1.0, 0.0, 0.0,\n",
              "       0.0, 1.0, 0.0), diagram=Compose(envelope=<chalk.envelope.Envelope object at 0x78b39a5fa3d0>, diagram1=ApplyStyle(style=Style(line_width=None, line_color=None, fill_color=None, fill_opacity=0.7, dashing=None, output_size=None), diagram=ApplyStyle(style=Style(line_width=None, line_color=None, fill_color=<Color red>, fill_opacity=None, dashing=None, output_size=None), diagram=Primitive(shape=Circle(radius=0.5), style=Style(line_width=None, line_color=None, fill_color=None, fill_opacity=None, dashing=None, output_size=None), transform=Affine(1.0, 0.0, 0.0,\n",
              "       0.0, 1.0, 0.0)))), diagram2=Primitive(shape=Image(local_path='robot.png', url_path='https://raw.githubusercontent.com/minitorch/diagrams/main/robot.png'), style=Style(line_width=None, line_color=None, fill_color=None, fill_opacity=None, dashing=None, output_size=None), transform=Affine(0.0008333333333333334, 0.0, 0.0,\n",
              "       0.0, 0.0008333333333333334, 0.0))))), diagram2=ApplyTransform(transform=Affine(1.0, 0.0, 1.1,\n",
              "       0.0, 1.0, 0.0), diagram=Compose(envelope=<chalk.envelope.Envelope object at 0x78b39a5fa810>, diagram1=ApplyStyle(style=Style(line_width=None, line_color=None, fill_color=None, fill_opacity=0.7, dashing=None, output_size=None), diagram=ApplyStyle(style=Style(line_width=None, line_color=None, fill_color=<Color #ff7100>, fill_opacity=None, dashing=None, output_size=None), diagram=Primitive(shape=Circle(radius=0.5), style=Style(line_width=None, line_color=None, fill_color=None, fill_opacity=None, dashing=None, output_size=None), transform=Affine(1.0, 0.0, 0.0,\n",
              "       0.0, 1.0, 0.0)))), diagram2=Primitive(shape=Image(local_path='robot.png', url_path='https://raw.githubusercontent.com/minitorch/diagrams/main/robot.png'), style=Style(line_width=None, line_color=None, fill_color=None, fill_opacity=None, dashing=None, output_size=None), transform=Affine(0.0008333333333333334, 0.0, 0.0,\n",
              "       0.0, 0.0008333333333333334, 0.0))))), diagram2=ApplyTransform(transform=Affine(1.0, 0.0, 2.2,\n",
              "       0.0, 1.0, 0.0), diagram=Compose(envelope=<chalk.envelope.Envelope object at 0x78b39a5fac50>, diagram1=ApplyStyle(style=Style(line_width=None, line_color=None, fill_color=None, fill_opacity=0.7, dashing=None, output_size=None), diagram=ApplyStyle(style=Style(line_width=None, line_color=None, fill_color=<Color #ffe300>, fill_opacity=None, dashing=None, output_size=None), diagram=Primitive(shape=Circle(radius=0.5), style=Style(line_width=None, line_color=None, fill_color=None, fill_opacity=None, dashing=None, output_size=None), transform=Affine(1.0, 0.0, 0.0,\n",
              "       0.0, 1.0, 0.0)))), diagram2=Primitive(shape=Image(local_path='robot.png', url_path='https://raw.githubusercontent.com/minitorch/diagrams/main/robot.png'), style=Style(line_width=None, line_color=None, fill_color=None, fill_opacity=None, dashing=None, output_size=None), transform=Affine(0.0008333333333333334, 0.0, 0.0,\n",
              "       0.0, 0.0008333333333333334, 0.0))))), diagram2=ApplyTransform(transform=Affine(1.0, 0.0, 3.3000000000000003,\n",
              "       0.0, 1.0, 0.0), diagram=Compose(envelope=<chalk.envelope.Envelope object at 0x78b39a5fb090>, diagram1=ApplyStyle(style=Style(line_width=None, line_color=None, fill_color=None, fill_opacity=0.7, dashing=None, output_size=None), diagram=ApplyStyle(style=Style(line_width=None, line_color=None, fill_color=<Color #af0>, fill_opacity=None, dashing=None, output_size=None), diagram=Primitive(shape=Circle(radius=0.5), style=Style(line_width=None, line_color=None, fill_color=None, fill_opacity=None, dashing=None, output_size=None), transform=Affine(1.0, 0.0, 0.0,\n",
              "       0.0, 1.0, 0.0)))), diagram2=Primitive(shape=Image(local_path='robot.png', url_path='https://raw.githubusercontent.com/minitorch/diagrams/main/robot.png'), style=Style(line_width=None, line_color=None, fill_color=None, fill_opacity=None, dashing=None, output_size=None), transform=Affine(0.0008333333333333334, 0.0, 0.0,\n",
              "       0.0, 0.0008333333333333334, 0.0)))))))), diagram2=ApplyTransform(transform=Affine(1.0, 0.0, 0.0,\n",
              "       0.0, 1.0, 3.2500999999999998), diagram=Primitive(shape=Spacer(width=0, height=1), style=Style(line_width=None, line_color=None, fill_color=None, fill_opacity=None, dashing=None, output_size=None), transform=Affine(1.0, 0.0, 0.0,\n",
              "       0.0, 1.0, 0.0)))), diagram2=ApplyTransform(transform=Affine(1.0, 0.0, 0.0,\n",
              "       0.0, 1.0, 7.380166), diagram=ApplyTransform(transform=Affine(1.0, 0.0, -0.0,\n",
              "       0.0, 1.0, -0.0), diagram=Compose(envelope=<chalk.envelope.Envelope object at 0x78b39a5fa050>, diagram1=Empty(), diagram2=ApplyTransform(transform=Affine(1.0, 0.0, 0.0,\n",
              "       0.0, 1.0, 0.0), diagram=Compose(envelope=<chalk.envelope.Envelope object at 0x78b39a5f9e10>, diagram1=Compose(envelope=<chalk.envelope.Envelope object at 0x78b39a5f9d10>, diagram1=Compose(envelope=<chalk.envelope.Envelope object at 0x78b39a5f97d0>, diagram1=ApplyTransform(transform=Affine(1.0, 0.0, -3.5,\n",
              "       0.0, 1.0, -0.0), diagram=Compose(envelope=<chalk.envelope.Envelope object at 0x78b39a5f96d0>, diagram1=Compose(envelope=<chalk.envelope.Envelope object at 0x78b39a5f9390>, diagram1=Primitive(shape=Spacer(width=1, height=0), style=Style(line_width=None, line_color=None, fill_color=None, fill_opacity=None, dashing=None, output_size=None), transform=Affine(1.0, 0.0, 0.0,\n",
              "       0.0, 1.0, 0.0)), diagram2=ApplyTransform(transform=Affine(1.0, 0.0, 3.5,\n",
              "       0.0, 1.0, 0.0), diagram=ApplyTransform(transform=Affine(1.0, 0.0, -0.0,\n",
              "       0.0, 1.0, 0.5000499999999999), diagram=Compose(envelope=<chalk.envelope.Envelope object at 0x78b39a5f9090>, diagram1=ApplyTransform(transform=Affine(1.0, 0.0, -2.5,\n",
              "       0.0, 1.0, -0.0), diagram=Compose(envelope=<chalk.envelope.Envelope object at 0x78b39a5f8590>, diagram1=Compose(envelope=<chalk.envelope.Envelope object at 0x78b39a5eb2d0>, diagram1=Compose(envelope=<chalk.envelope.Envelope object at 0x78b39a5ea050>, diagram1=Compose(envelope=<chalk.envelope.Envelope object at 0x78b39a5e8e50>, diagram1=Compose(envelope=<chalk.envelope.Envelope object at 0x78b39a5dbdd0>, diagram1=Compose(envelope=<chalk.envelope.Envelope object at 0x78b39a5dbc10>, diagram1=Compose(envelope=<chalk.envelope.Envelope object at 0x78b39a5db9d0>, diagram1=Compose(envelope=<chalk.envelope.Envelope object at 0x78b39a5db890>, diagram1=ApplyTransform(transform=Affine(1.0, 0.0, -0.0,\n",
              "       0.0, 1.0, 0.25), diagram=Compose(envelope=<chalk.envelope.Envelope object at 0x78b39a5da150>, diagram1=ApplyStyle(style=Style(line_width=(<WidthType.NORMALIZED: 2>, 0.05), line_color=None, fill_color=None, fill_opacity=None, dashing=None, output_size=None), diagram=ApplyTransform(transform=Affine(1.0, 0.0, -0.0,\n",
              "       0.0, 1.0, -1.5), diagram=Compose(envelope=<chalk.envelope.Envelope object at 0x78b39a5d9d50>, diagram1=Compose(envelope=<chalk.envelope.Envelope object at 0x78b39a5d9bd0>, diagram1=Compose(envelope=<chalk.envelope.Envelope object at 0x78b39a5d9a50>, diagram1=Compose(envelope=<chalk.envelope.Envelope object at 0x78b39a5d9890>, diagram1=Empty(), diagram2=ApplyName(dname=('a', 0), diagram=Primitive(shape=Rectangle(width=1, height=1, radius=None), style=Style(line_width=None, line_color=None, fill_color=None, fill_opacity=None, dashing=None, output_size=None), transform=Affine(1.0, 0.0, 0.0,\n",
              "       0.0, 1.0, 0.0)))), diagram2=ApplyName(dname=('a', 1), diagram=Primitive(shape=Rectangle(width=1, height=1, radius=None), style=Style(line_width=None, line_color=None, fill_color=None, fill_opacity=None, dashing=None, output_size=None), transform=Affine(1.0, 0.0, 0.0,\n",
              "       0.0, 1.0, 1.0)))), diagram2=ApplyName(dname=('a', 2), diagram=Primitive(shape=Rectangle(width=1, height=1, radius=None), style=Style(line_width=None, line_color=None, fill_color=None, fill_opacity=None, dashing=None, output_size=None), transform=Affine(1.0, 0.0, 0.0,\n",
              "       0.0, 1.0, 2.0)))), diagram2=ApplyName(dname=('a', 3), diagram=Primitive(shape=Rectangle(width=1, height=1, radius=None), style=Style(line_width=None, line_color=None, fill_color=None, fill_opacity=None, dashing=None, output_size=None), transform=Affine(1.0, 0.0, 0.0,\n",
              "       0.0, 1.0, 3.0)))))), diagram2=ApplyTransform(transform=Affine(1.0, 0.0, -0.0,\n",
              "       0.0, 1.0, -2.25), diagram=Compose(envelope=<chalk.envelope.Envelope object at 0x78b39a5da090>, diagram1=ApplyStyle(style=Style(line_width=(<WidthType.NORMALIZED: 2>, 0.0), line_color=None, fill_color=None, fill_opacity=None, dashing=None, output_size=None), diagram=ApplyStyle(style=Style(line_width=None, line_color=None, fill_color=<Color black>, fill_opacity=None, dashing=None, output_size=None), diagram=Primitive(shape=Text(text='a', font_size=0.5), style=Style(line_width=None, line_color=None, fill_color=None, fill_opacity=None, dashing=None, output_size=None), transform=Affine(1.0, 0.0, 0.0,\n",
              "       0.0, 1.0, 0.0)))), diagram2=Primitive(shape=Spacer(width=0, height=0.5), style=Style(line_width=None, line_color=None, fill_color=None, fill_opacity=None, dashing=None, output_size=None), transform=Affine(1.0, 0.0, 0.0,\n",
              "       0.0, 1.0, 0.0)))))), diagram2=ApplyTransform(transform=Affine(1.0, 0.0, 1.5,\n",
              "       0.0, 1.0, 0.0), diagram=Primitive(shape=Spacer(width=2.0, height=0), style=Style(line_width=None, line_color=None, fill_color=None, fill_opacity=None, dashing=None, output_size=None), transform=Affine(1.0, 0.0, 0.0,\n",
              "       0.0, 1.0, 0.0)))), diagram2=ApplyTransform(transform=Affine(1.0, 0.0, 2.5,\n",
              "       0.0, 1.0, 0.0), diagram=Empty())), diagram2=ApplyTransform(transform=Affine(1.0, 0.0, 3.5,\n",
              "       0.0, 1.0, 0.0), diagram=Primitive(shape=Spacer(width=2.0, height=0), style=Style(line_width=None, line_color=None, fill_color=None, fill_opacity=None, dashing=None, output_size=None), transform=Affine(1.0, 0.0, 0.0,\n",
              "       0.0, 1.0, 0.0)))), diagram2=ApplyTransform(transform=Affine(1.0, 0.0, 5.0,\n",
              "       0.0, 1.0, 0.0), diagram=ApplyTransform(transform=Affine(1.0, 0.0, -0.0,\n",
              "       0.0, 1.0, 0.25), diagram=Compose(envelope=<chalk.envelope.Envelope object at 0x78b39a5db550>, diagram1=ApplyStyle(style=Style(line_width=(<WidthType.NORMALIZED: 2>, 0.05), line_color=None, fill_color=None, fill_opacity=None, dashing=None, output_size=None), diagram=ApplyTransform(transform=Affine(1.0, 0.0, -0.0,\n",
              "       0.0, 1.0, -1.5), diagram=Compose(envelope=<chalk.envelope.Envelope object at 0x78b39a5db010>, diagram1=Compose(envelope=<chalk.envelope.Envelope object at 0x78b39a5dae10>, diagram1=Compose(envelope=<chalk.envelope.Envelope object at 0x78b39a5dac10>, diagram1=Compose(envelope=<chalk.envelope.Envelope object at 0x78b39a5daa50>, diagram1=Empty(), diagram2=ApplyName(dname=('out', 0), diagram=Primitive(shape=Rectangle(width=1, height=1, radius=None), style=Style(line_width=None, line_color=None, fill_color=None, fill_opacity=None, dashing=None, output_size=None), transform=Affine(1.0, 0.0, 0.0,\n",
              "       0.0, 1.0, 0.0)))), diagram2=ApplyName(dname=('out', 1), diagram=Primitive(shape=Rectangle(width=1, height=1, radius=None), style=Style(line_width=None, line_color=None, fill_color=None, fill_opacity=None, dashing=None, output_size=None), transform=Affine(1.0, 0.0, 0.0,\n",
              "       0.0, 1.0, 1.0)))), diagram2=ApplyName(dname=('out', 2), diagram=Primitive(shape=Rectangle(width=1, height=1, radius=None), style=Style(line_width=None, line_color=None, fill_color=None, fill_opacity=None, dashing=None, output_size=None), transform=Affine(1.0, 0.0, 0.0,\n",
              "       0.0, 1.0, 2.0)))), diagram2=ApplyName(dname=('out', 3), diagram=Primitive(shape=Rectangle(width=1, height=1, radius=None), style=Style(line_width=None, line_color=None, fill_color=None, fill_opacity=None, dashing=None, output_size=None), transform=Affine(1.0, 0.0, 0.0,\n",
              "       0.0, 1.0, 3.0)))))), diagram2=ApplyTransform(transform=Affine(1.0, 0.0, -0.0,\n",
              "       0.0, 1.0, -2.25), diagram=Compose(envelope=<chalk.envelope.Envelope object at 0x78b39a5db3d0>, diagram1=ApplyStyle(style=Style(line_width=(<WidthType.NORMALIZED: 2>, 0.0), line_color=None, fill_color=None, fill_opacity=None, dashing=None, output_size=None), diagram=ApplyStyle(style=Style(line_width=None, line_color=None, fill_color=<Color black>, fill_opacity=None, dashing=None, output_size=None), diagram=Primitive(shape=Text(text='out', font_size=0.5), style=Style(line_width=None, line_color=None, fill_color=None, fill_opacity=None, dashing=None, output_size=None), transform=Affine(1.0, 0.0, 0.0,\n",
              "       0.0, 1.0, 0.0)))), diagram2=Primitive(shape=Spacer(width=0, height=0.5), style=Style(line_width=None, line_color=None, fill_color=None, fill_opacity=None, dashing=None, output_size=None), transform=Affine(1.0, 0.0, 0.0,\n",
              "       0.0, 1.0, 0.0)))))))), diagram2=Compose(envelope=<chalk.envelope.Envelope object at 0x78b39a5dbf10>, diagram1=Compose(envelope=<chalk.envelope.Envelope object at 0x78b39a5dbf50>, diagram1=Empty(), diagram2=Empty()), diagram2=Compose(envelope=<chalk.envelope.Envelope object at 0x78b39a5e8150>, diagram1=Empty(), diagram2=Compose(envelope=<chalk.envelope.Envelope object at 0x78b39a5e8d10>, diagram1=Compose(envelope=<chalk.envelope.Envelope object at 0x78b39a5e8890>, diagram1=Compose(envelope=<chalk.envelope.Envelope object at 0x78b39a5c29d0>, diagram1=Empty(), diagram2=ApplyStyle(style=Style(line_width=None, line_color=<Color red>, fill_color=None, fill_opacity=None, dashing=None, output_size=None), diagram=ApplyStyle(style=Style(line_width=(<WidthType.NORMALIZED: 2>, 0.04), line_color=None, fill_color=None, fill_opacity=None, dashing=None, output_size=None), diagram=Primitive(shape=Path(points=Vec2Array([(0.0, 0.0), (4.81875, 0.0)]), arrow=False), style=Style(line_width=None, line_color=None, fill_color=None, fill_opacity=None, dashing=None, output_size=None), transform=Affine(-1.0, 0.0, 4.5,\n",
              "       0.0, -1.0, -1.25))))), diagram2=Compose(envelope=<chalk.envelope.Envelope object at 0x78b39a5e8810>, diagram1=Empty(), diagram2=ApplyTransform(transform=Affine(1.0, 0.0, 5.0,\n",
              "       0.0, 1.0, -1.25), diagram=ApplyStyle(style=Style(line_width=(<WidthType.NORMALIZED: 2>, 0.15), line_color=None, fill_color=None, fill_opacity=None, dashing=None, output_size=None), diagram=ApplyStyle(style=Style(line_width=None, line_color=<Color red>, fill_color=None, fill_opacity=None, dashing=None, output_size=None), diagram=ApplyStyle(style=Style(line_width=None, line_color=None, fill_color=None, fill_opacity=0, dashing=None, output_size=None), diagram=Primitive(shape=Rectangle(width=0.95, height=0.95, radius=None), style=Style(line_width=None, line_color=None, fill_color=None, fill_opacity=None, dashing=None, output_size=None), transform=Affine(1.0, 0.0, 0.0,\n",
              "       0.0, 1.0, 0.0)))))))), diagram2=Compose(envelope=<chalk.envelope.Envelope object at 0x78b39a5e8c50>, diagram1=Empty(), diagram2=ApplyTransform(transform=Affine(1.0, 0.0, -0.31875,\n",
              "       0.0, 1.0, -1.25), diagram=ApplyStyle(style=Style(line_width=None, line_color=None, fill_color=<Color red>, fill_opacity=None, dashing=None, output_size=None), diagram=ApplyStyle(style=Style(line_width=(<WidthType.NORMALIZED: 2>, 0.04), line_color=None, fill_color=None, fill_opacity=None, dashing=None, output_size=None), diagram=Primitive(shape=Circle(radius=0.1), style=Style(line_width=None, line_color=None, fill_color=None, fill_opacity=None, dashing=None, output_size=None), transform=Affine(1.0, 0.0, 0.0,\n",
              "       0.0, 1.0, 0.0)))))))))), diagram2=Compose(envelope=<chalk.envelope.Envelope object at 0x78b39a5e9150>, diagram1=Compose(envelope=<chalk.envelope.Envelope object at 0x78b39a5e9010>, diagram1=Empty(), diagram2=Empty()), diagram2=Compose(envelope=<chalk.envelope.Envelope object at 0x78b39a5e9110>, diagram1=Empty(), diagram2=Compose(envelope=<chalk.envelope.Envelope object at 0x78b39a5e9f50>, diagram1=Compose(envelope=<chalk.envelope.Envelope object at 0x78b39a5e9a90>, diagram1=Compose(envelope=<chalk.envelope.Envelope object at 0x78b39a5e9550>, diagram1=Empty(), diagram2=ApplyStyle(style=Style(line_width=None, line_color=<Color #ff7100>, fill_color=None, fill_opacity=None, dashing=None, output_size=None), diagram=ApplyStyle(style=Style(line_width=(<WidthType.NORMALIZED: 2>, 0.04), line_color=None, fill_color=None, fill_opacity=None, dashing=None, output_size=None), diagram=Primitive(shape=Path(points=Vec2Array([(0.0, 0.0), (4.60625, 0.0)]), arrow=False), style=Style(line_width=None, line_color=None, fill_color=None, fill_opacity=None, dashing=None, output_size=None), transform=Affine(-1.0, 0.0, 4.5,\n",
              "       0.0, -1.0, -0.25))))), diagram2=Compose(envelope=<chalk.envelope.Envelope object at 0x78b39a5e99d0>, diagram1=Empty(), diagram2=ApplyTransform(transform=Affine(1.0, 0.0, 5.0,\n",
              "       0.0, 1.0, -0.25), diagram=ApplyStyle(style=Style(line_width=(<WidthType.NORMALIZED: 2>, 0.15), line_color=None, fill_color=None, fill_opacity=None, dashing=None, output_size=None), diagram=ApplyStyle(style=Style(line_width=None, line_color=<Color #ff7100>, fill_color=None, fill_opacity=None, dashing=None, output_size=None), diagram=ApplyStyle(style=Style(line_width=None, line_color=None, fill_color=None, fill_opacity=0, dashing=None, output_size=None), diagram=Primitive(shape=Rectangle(width=0.95, height=0.95, radius=None), style=Style(line_width=None, line_color=None, fill_color=None, fill_opacity=None, dashing=None, output_size=None), transform=Affine(1.0, 0.0, 0.0,\n",
              "       0.0, 1.0, 0.0)))))))), diagram2=Compose(envelope=<chalk.envelope.Envelope object at 0x78b39a5e9e90>, diagram1=Empty(), diagram2=ApplyTransform(transform=Affine(1.0, 0.0, -0.10625,\n",
              "       0.0, 1.0, -0.25), diagram=ApplyStyle(style=Style(line_width=None, line_color=None, fill_color=<Color #ff7100>, fill_opacity=None, dashing=None, output_size=None), diagram=ApplyStyle(style=Style(line_width=(<WidthType.NORMALIZED: 2>, 0.04), line_color=None, fill_color=None, fill_opacity=None, dashing=None, output_size=None), diagram=Primitive(shape=Circle(radius=0.1), style=Style(line_width=None, line_color=None, fill_color=None, fill_opacity=None, dashing=None, output_size=None), transform=Affine(1.0, 0.0, 0.0,\n",
              "       0.0, 1.0, 0.0)))))))))), diagram2=Compose(envelope=<chalk.envelope.Envelope object at 0x78b39a5ea350>, diagram1=Compose(envelope=<chalk.envelope.Envelope object at 0x78b39a5ea210>, diagram1=Empty(), diagram2=Empty()), diagram2=Compose(envelope=<chalk.envelope.Envelope object at 0x78b39a5ea310>, diagram1=Empty(), diagram2=Compose(envelope=<chalk.envelope.Envelope object at 0x78b39a5eb1d0>, diagram1=Compose(envelope=<chalk.envelope.Envelope object at 0x78b39a5ead10>, diagram1=Compose(envelope=<chalk.envelope.Envelope object at 0x78b39a5ea750>, diagram1=Empty(), diagram2=ApplyStyle(style=Style(line_width=None, line_color=<Color #ffe300>, fill_color=None, fill_opacity=None, dashing=None, output_size=None), diagram=ApplyStyle(style=Style(line_width=(<WidthType.NORMALIZED: 2>, 0.04), line_color=None, fill_color=None, fill_opacity=None, dashing=None, output_size=None), diagram=Primitive(shape=Path(points=Vec2Array([(0.0, 0.0), (4.39375, 0.0)]), arrow=False), style=Style(line_width=None, line_color=None, fill_color=None, fill_opacity=None, dashing=None, output_size=None), transform=Affine(-1.0, 0.0, 4.5,\n",
              "       0.0, -1.0, 0.75))))), diagram2=Compose(envelope=<chalk.envelope.Envelope object at 0x78b39a5eac10>, diagram1=Empty(), diagram2=ApplyTransform(transform=Affine(1.0, 0.0, 5.0,\n",
              "       0.0, 1.0, 0.75), diagram=ApplyStyle(style=Style(line_width=(<WidthType.NORMALIZED: 2>, 0.15), line_color=None, fill_color=None, fill_opacity=None, dashing=None, output_size=None), diagram=ApplyStyle(style=Style(line_width=None, line_color=<Color #ffe300>, fill_color=None, fill_opacity=None, dashing=None, output_size=None), diagram=ApplyStyle(style=Style(line_width=None, line_color=None, fill_color=None, fill_opacity=0, dashing=None, output_size=None), diagram=Primitive(shape=Rectangle(width=0.95, height=0.95, radius=None), style=Style(line_width=None, line_color=None, fill_color=None, fill_opacity=None, dashing=None, output_size=None), transform=Affine(1.0, 0.0, 0.0,\n",
              "       0.0, 1.0, 0.0)))))))), diagram2=Compose(envelope=<chalk.envelope.Envelope object at 0x78b39a5eb110>, diagram1=Empty(), diagram2=ApplyTransform(transform=Affine(1.0, 0.0, 0.10625,\n",
              "       0.0, 1.0, 0.75), diagram=ApplyStyle(style=Style(line_width=None, line_color=None, fill_color=<Color #ffe300>, fill_opacity=None, dashing=None, output_size=None), diagram=ApplyStyle(style=Style(line_width=(<WidthType.NORMALIZED: 2>, 0.04), line_color=None, fill_color=None, fill_opacity=None, dashing=None, output_size=None), diagram=Primitive(shape=Circle(radius=0.1), style=Style(line_width=None, line_color=None, fill_color=None, fill_opacity=None, dashing=None, output_size=None), transform=Affine(1.0, 0.0, 0.0,\n",
              "       0.0, 1.0, 0.0)))))))))), diagram2=Compose(envelope=<chalk.envelope.Envelope object at 0x78b39a5eb610>, diagram1=Compose(envelope=<chalk.envelope.Envelope object at 0x78b39a5eb4d0>, diagram1=Empty(), diagram2=Empty()), diagram2=Compose(envelope=<chalk.envelope.Envelope object at 0x78b39a5eb5d0>, diagram1=Empty(), diagram2=Compose(envelope=<chalk.envelope.Envelope object at 0x78b39a5f8490>, diagram1=Compose(envelope=<chalk.envelope.Envelope object at 0x78b39a5ebf90>, diagram1=Compose(envelope=<chalk.envelope.Envelope object at 0x78b39a5eba10>, diagram1=Empty(), diagram2=ApplyStyle(style=Style(line_width=None, line_color=<Color #af0>, fill_color=None, fill_opacity=None, dashing=None, output_size=None), diagram=ApplyStyle(style=Style(line_width=(<WidthType.NORMALIZED: 2>, 0.04), line_color=None, fill_color=None, fill_opacity=None, dashing=None, output_size=None), diagram=Primitive(shape=Path(points=Vec2Array([(0.0, 0.0), (4.18125, 0.0)]), arrow=False), style=Style(line_width=None, line_color=None, fill_color=None, fill_opacity=None, dashing=None, output_size=None), transform=Affine(-1.0, 0.0, 4.5,\n",
              "       0.0, -1.0, 1.75))))), diagram2=Compose(envelope=<chalk.envelope.Envelope object at 0x78b39a5ebe90>, diagram1=Empty(), diagram2=ApplyTransform(transform=Affine(1.0, 0.0, 5.0,\n",
              "       0.0, 1.0, 1.75), diagram=ApplyStyle(style=Style(line_width=(<WidthType.NORMALIZED: 2>, 0.15), line_color=None, fill_color=None, fill_opacity=None, dashing=None, output_size=None), diagram=ApplyStyle(style=Style(line_width=None, line_color=<Color #af0>, fill_color=None, fill_opacity=None, dashing=None, output_size=None), diagram=ApplyStyle(style=Style(line_width=None, line_color=None, fill_color=None, fill_opacity=0, dashing=None, output_size=None), diagram=Primitive(shape=Rectangle(width=0.95, height=0.95, radius=None), style=Style(line_width=None, line_color=None, fill_color=None, fill_opacity=None, dashing=None, output_size=None), transform=Affine(1.0, 0.0, 0.0,\n",
              "       0.0, 1.0, 0.0)))))))), diagram2=Compose(envelope=<chalk.envelope.Envelope object at 0x78b39a5f83d0>, diagram1=Empty(), diagram2=ApplyTransform(transform=Affine(1.0, 0.0, 0.31875,\n",
              "       0.0, 1.0, 1.75), diagram=ApplyStyle(style=Style(line_width=None, line_color=None, fill_color=<Color #af0>, fill_opacity=None, dashing=None, output_size=None), diagram=ApplyStyle(style=Style(line_width=(<WidthType.NORMALIZED: 2>, 0.04), line_color=None, fill_color=None, fill_opacity=None, dashing=None, output_size=None), diagram=Primitive(shape=Circle(radius=0.1), style=Style(line_width=None, line_color=None, fill_color=None, fill_opacity=None, dashing=None, output_size=None), transform=Affine(1.0, 0.0, 0.0,\n",
              "       0.0, 1.0, 0.0))))))))))), diagram2=ApplyTransform(transform=Affine(1.0, 0.0, -0.0,\n",
              "       0.0, 1.0, -3.0000999999999998), diagram=Compose(envelope=<chalk.envelope.Envelope object at 0x78b39a5f8e90>, diagram1=Compose(envelope=<chalk.envelope.Envelope object at 0x78b39a5f8bd0>, diagram1=Primitive(shape=Spacer(width=0, height=0.5), style=Style(line_width=None, line_color=None, fill_color=None, fill_opacity=None, dashing=None, output_size=None), transform=Affine(1.0, 0.0, 0.0,\n",
              "       0.0, 1.0, 0.0)), diagram2=ApplyTransform(transform=Affine(1.0, 0.0, 0.0,\n",
              "       0.0, 1.0, 0.25), diagram=ApplyStyle(style=Style(line_width=(<WidthType.NORMALIZED: 2>, 0), line_color=None, fill_color=None, fill_opacity=None, dashing=None, output_size=None), diagram=ApplyStyle(style=Style(line_width=None, line_color=None, fill_color=<Color black>, fill_opacity=None, dashing=None, output_size=None), diagram=Primitive(shape=Text(text='Block 0 0', font_size=0.5), style=Style(line_width=None, line_color=None, fill_color=None, fill_opacity=None, dashing=None, output_size=None), transform=Affine(1.0, 0.0, 0.0,\n",
              "       0.0, 1.0, 0.0)))))), diagram2=ApplyTransform(transform=Affine(1.0, 0.0, 0.0,\n",
              "       0.0, 1.0, 0.5001), diagram=Primitive(shape=Spacer(width=0, height=0.5), style=Style(line_width=None, line_color=None, fill_color=None, fill_opacity=None, dashing=None, output_size=None), transform=Affine(1.0, 0.0, 0.0,\n",
              "       0.0, 1.0, 0.0))))))))), diagram2=ApplyTransform(transform=Affine(1.0, 0.0, 7.0,\n",
              "       0.0, 1.0, 0.0), diagram=Primitive(shape=Spacer(width=1, height=0), style=Style(line_width=None, line_color=None, fill_color=None, fill_opacity=None, dashing=None, output_size=None), transform=Affine(1.0, 0.0, 0.0,\n",
              "       0.0, 1.0, 0.0))))), diagram2=Empty()), diagram2=ApplyStyle(style=Style(line_width=None, line_color=None, fill_color=None, fill_opacity=0.0, dashing=None, output_size=None), diagram=ApplyStyle(style=Style(line_width=None, line_color=<Color gray>, fill_color=None, fill_opacity=None, dashing=None, output_size=None), diagram=Primitive(shape=Rectangle(width=9.6, height=6.6001199999999995, radius=0.5), style=Style(line_width=None, line_color=None, fill_color=None, fill_opacity=None, dashing=None, output_size=None), transform=Affine(1.0, 0.0, 0.0,\n",
              "       0.0, 1.0, 0.0))))), diagram2=Empty())))))), diagram2=Empty())))"
            ],
            "image/svg+xml": "<?xml version=\"1.0\" encoding=\"utf-8\" ?>\n<svg baseProfile=\"full\" height=\"646.81276\" version=\"1.1\" width=\"580\" xmlns=\"http://www.w3.org/2000/svg\" xmlns:ev=\"http://www.w3.org/2001/xml-events\" xmlns:xlink=\"http://www.w3.org/1999/xlink\"><defs><marker id=\"arrow\" markerHeight=\"3.5\" markerWidth=\"5\" orient=\"auto\" refX=\"5.0\" refY=\"1.7\"><polygon points=\"0,0 5,1.75 0,3.5\" /></marker></defs><g style=\"fill:white;\"><g transform=\"matrix(1.0, 0.0, 0.0, 1.0, 290.0, 322.9609166666667)\"><g transform=\"matrix(47.55345664436573, 0.0, 0.0, 47.55345664436573, 0.0, 0.0)\"><g><g transform=\"matrix(1.0, 0.0, 0.0, 1.0, -0.0, -0.0)\"><g><g style=\"fill: #ffffff;stroke: black;stroke-width: 1.5;\" transform=\"matrix(1.0, 0.0, 0.0, 1.0, 0.0, 0.0)\"><rect height=\"12.936255200000002\" style=\"vector-effect: non-scaling-stroke;\" width=\"11.616000000000001\" x=\"-5.808000000000001\" y=\"-6.468127600000001\" /></g><g transform=\"matrix(1.0, 0.0, 0.0, 1.0, -0.0, -5.643127600000001)\"><g><g><g><g><g><g><g style=\"stroke: black;stroke-width: 1.5;\" transform=\"matrix(1.0, 0.0, 0.0, 1.0, 0.0, 0.0)\"><g /></g><g transform=\"matrix(1.0, 0.0, 0.0, 1.0, 0.0, 0.75)\"><g style=\"stroke: black;stroke-width: 1.5;\" transform=\"matrix(1.0, 0.0, 0.0, 1.0, 0.0, 0.0)\"><text style=\"text-align:center; text-anchor:middle; dominant-baseline:middle;font-family:sans-serif; font-weight: bold;font-size:1px;vector-effect: non-scaling-stroke;\" transform=\"translate(-5e-05, 0)\">Map</text></g></g></g><g transform=\"matrix(1.0, 0.0, 0.0, 1.0, 0.0, 1.2501)\"><g style=\"stroke: black;stroke-width: 1.5;\" transform=\"matrix(1.0, 0.0, 0.0, 1.0, 0.0, 0.0)\"><g /></g></g></g><g transform=\"matrix(1.0, 0.0, 0.0, 1.0, 0.0, 2.2500999999999998)\"><g transform=\"matrix(1.0, 0.0, 0.0, 1.0, -1.6500000000000001, -0.0)\"><g><g><g><g><g /><g transform=\"matrix(1.0, 0.0, 0.0, 1.0, 0.0, 0.0)\"><g><g style=\"fill: #ff0000;stroke: black;stroke-width: 1.5;fill-opacity: 0.7;\" transform=\"matrix(1.0, 0.0, 0.0, 1.0, 0.0, 0.0)\"><circle cx=\"0.0\" cy=\"0.0\" r=\"0.5\" style=\"vector-effect: non-scaling-stroke\" /></g><g style=\"stroke: black;stroke-width: 1.5;\" transform=\"matrix(0.0008333333333333334, 0.0, 0.0, 0.0008333333333333334, 0.0, 0.0)\"><image transform=\"translate(-600.0, -600.0)\" xlink:href=\"https://raw.githubusercontent.com/minitorch/diagrams/main/robot.png\" /></g></g></g></g><g transform=\"matrix(1.0, 0.0, 0.0, 1.0, 1.1, 0.0)\"><g><g style=\"fill: #ff7100;stroke: black;stroke-width: 1.5;fill-opacity: 0.7;\" transform=\"matrix(1.0, 0.0, 0.0, 1.0, 0.0, 0.0)\"><circle cx=\"0.0\" cy=\"0.0\" r=\"0.5\" style=\"vector-effect: non-scaling-stroke\" /></g><g style=\"stroke: black;stroke-width: 1.5;\" transform=\"matrix(0.0008333333333333334, 0.0, 0.0, 0.0008333333333333334, 0.0, 0.0)\"><image transform=\"translate(-600.0, -600.0)\" xlink:href=\"https://raw.githubusercontent.com/minitorch/diagrams/main/robot.png\" /></g></g></g></g><g transform=\"matrix(1.0, 0.0, 0.0, 1.0, 2.2, 0.0)\"><g><g style=\"fill: #ffe300;stroke: black;stroke-width: 1.5;fill-opacity: 0.7;\" transform=\"matrix(1.0, 0.0, 0.0, 1.0, 0.0, 0.0)\"><circle cx=\"0.0\" cy=\"0.0\" r=\"0.5\" style=\"vector-effect: non-scaling-stroke\" /></g><g style=\"stroke: black;stroke-width: 1.5;\" transform=\"matrix(0.0008333333333333334, 0.0, 0.0, 0.0008333333333333334, 0.0, 0.0)\"><image transform=\"translate(-600.0, -600.0)\" xlink:href=\"https://raw.githubusercontent.com/minitorch/diagrams/main/robot.png\" /></g></g></g></g><g transform=\"matrix(1.0, 0.0, 0.0, 1.0, 3.3000000000000003, 0.0)\"><g><g style=\"fill: #aaff00;stroke: black;stroke-width: 1.5;fill-opacity: 0.7;\" transform=\"matrix(1.0, 0.0, 0.0, 1.0, 0.0, 0.0)\"><circle cx=\"0.0\" cy=\"0.0\" r=\"0.5\" style=\"vector-effect: non-scaling-stroke\" /></g><g style=\"stroke: black;stroke-width: 1.5;\" transform=\"matrix(0.0008333333333333334, 0.0, 0.0, 0.0008333333333333334, 0.0, 0.0)\"><image transform=\"translate(-600.0, -600.0)\" xlink:href=\"https://raw.githubusercontent.com/minitorch/diagrams/main/robot.png\" /></g></g></g></g></g></g></g><g transform=\"matrix(1.0, 0.0, 0.0, 1.0, 0.0, 3.2500999999999998)\"><g style=\"stroke: black;stroke-width: 1.5;\" transform=\"matrix(1.0, 0.0, 0.0, 1.0, 0.0, 0.0)\"><g /></g></g></g><g transform=\"matrix(1.0, 0.0, 0.0, 1.0, 0.0, 7.380166)\"><g transform=\"matrix(1.0, 0.0, 0.0, 1.0, -0.0, -0.0)\"><g><g /><g transform=\"matrix(1.0, 0.0, 0.0, 1.0, 0.0, 0.0)\"><g><g><g><g transform=\"matrix(1.0, 0.0, 0.0, 1.0, -3.5, -0.0)\"><g><g><g style=\"stroke: black;stroke-width: 1.5;\" transform=\"matrix(1.0, 0.0, 0.0, 1.0, 0.0, 0.0)\"><g /></g><g transform=\"matrix(1.0, 0.0, 0.0, 1.0, 3.5, 0.0)\"><g transform=\"matrix(1.0, 0.0, 0.0, 1.0, -0.0, 0.5000499999999999)\"><g><g transform=\"matrix(1.0, 0.0, 0.0, 1.0, -2.5, -0.0)\"><g><g><g><g><g><g><g><g><g transform=\"matrix(1.0, 0.0, 0.0, 1.0, -0.0, 0.25)\"><g><g transform=\"matrix(1.0, 0.0, 0.0, 1.0, -0.0, -1.5)\"><g><g><g><g><g /><g><g style=\"stroke: black;stroke-width: 0.75;\" transform=\"matrix(1.0, 0.0, 0.0, 1.0, 0.0, 0.0)\"><rect height=\"1\" style=\"vector-effect: non-scaling-stroke;\" width=\"1\" x=\"-0.5\" y=\"-0.5\" /></g></g></g><g><g style=\"stroke: black;stroke-width: 0.75;\" transform=\"matrix(1.0, 0.0, 0.0, 1.0, 0.0, 1.0)\"><rect height=\"1\" style=\"vector-effect: non-scaling-stroke;\" width=\"1\" x=\"-0.5\" y=\"-0.5\" /></g></g></g><g><g style=\"stroke: black;stroke-width: 0.75;\" transform=\"matrix(1.0, 0.0, 0.0, 1.0, 0.0, 2.0)\"><rect height=\"1\" style=\"vector-effect: non-scaling-stroke;\" width=\"1\" x=\"-0.5\" y=\"-0.5\" /></g></g></g><g><g style=\"stroke: black;stroke-width: 0.75;\" transform=\"matrix(1.0, 0.0, 0.0, 1.0, 0.0, 3.0)\"><rect height=\"1\" style=\"vector-effect: non-scaling-stroke;\" width=\"1\" x=\"-0.5\" y=\"-0.5\" /></g></g></g></g><g transform=\"matrix(1.0, 0.0, 0.0, 1.0, -0.0, -2.25)\"><g><g style=\"fill: #000000;stroke: black;stroke-width: 0.0;\" transform=\"matrix(1.0, 0.0, 0.0, 1.0, 0.0, 0.0)\"><text style=\"text-align:center; text-anchor:middle; dominant-baseline:middle;font-family:sans-serif; font-weight: bold;font-size:0.5px;vector-effect: non-scaling-stroke;\" transform=\"translate(-5e-05, 0)\">a</text></g><g style=\"stroke: black;stroke-width: 1.5;\" transform=\"matrix(1.0, 0.0, 0.0, 1.0, 0.0, 0.0)\"><g /></g></g></g></g></g><g transform=\"matrix(1.0, 0.0, 0.0, 1.0, 1.5, 0.0)\"><g style=\"stroke: black;stroke-width: 1.5;\" transform=\"matrix(1.0, 0.0, 0.0, 1.0, 0.0, 0.0)\"><g /></g></g></g><g transform=\"matrix(1.0, 0.0, 0.0, 1.0, 2.5, 0.0)\"><g /></g></g><g transform=\"matrix(1.0, 0.0, 0.0, 1.0, 3.5, 0.0)\"><g style=\"stroke: black;stroke-width: 1.5;\" transform=\"matrix(1.0, 0.0, 0.0, 1.0, 0.0, 0.0)\"><g /></g></g></g><g transform=\"matrix(1.0, 0.0, 0.0, 1.0, 5.0, 0.0)\"><g transform=\"matrix(1.0, 0.0, 0.0, 1.0, -0.0, 0.25)\"><g><g transform=\"matrix(1.0, 0.0, 0.0, 1.0, -0.0, -1.5)\"><g><g><g><g><g /><g><g style=\"stroke: black;stroke-width: 0.75;\" transform=\"matrix(1.0, 0.0, 0.0, 1.0, 0.0, 0.0)\"><rect height=\"1\" style=\"vector-effect: non-scaling-stroke;\" width=\"1\" x=\"-0.5\" y=\"-0.5\" /></g></g></g><g><g style=\"stroke: black;stroke-width: 0.75;\" transform=\"matrix(1.0, 0.0, 0.0, 1.0, 0.0, 1.0)\"><rect height=\"1\" style=\"vector-effect: non-scaling-stroke;\" width=\"1\" x=\"-0.5\" y=\"-0.5\" /></g></g></g><g><g style=\"stroke: black;stroke-width: 0.75;\" transform=\"matrix(1.0, 0.0, 0.0, 1.0, 0.0, 2.0)\"><rect height=\"1\" style=\"vector-effect: non-scaling-stroke;\" width=\"1\" x=\"-0.5\" y=\"-0.5\" /></g></g></g><g><g style=\"stroke: black;stroke-width: 0.75;\" transform=\"matrix(1.0, 0.0, 0.0, 1.0, 0.0, 3.0)\"><rect height=\"1\" style=\"vector-effect: non-scaling-stroke;\" width=\"1\" x=\"-0.5\" y=\"-0.5\" /></g></g></g></g><g transform=\"matrix(1.0, 0.0, 0.0, 1.0, -0.0, -2.25)\"><g><g style=\"fill: #000000;stroke: black;stroke-width: 0.0;\" transform=\"matrix(1.0, 0.0, 0.0, 1.0, 0.0, 0.0)\"><text style=\"text-align:center; text-anchor:middle; dominant-baseline:middle;font-family:sans-serif; font-weight: bold;font-size:0.5px;vector-effect: non-scaling-stroke;\" transform=\"translate(-5e-05, 0)\">out</text></g><g style=\"stroke: black;stroke-width: 1.5;\" transform=\"matrix(1.0, 0.0, 0.0, 1.0, 0.0, 0.0)\"><g /></g></g></g></g></g></g></g><g><g><g /><g /></g><g><g /><g><g><g><g /><g style=\"stroke: #ff0000;stroke-width: 0.6;\" transform=\"matrix(-1.0, 0.0, 0.0, -1.0, 4.5, -1.25)\"><polyline points=\"0.0,0.0 4.81875,0.0\" style=\"vector-effect: non-scaling-stroke;\" /></g></g><g><g /><g transform=\"matrix(1.0, 0.0, 0.0, 1.0, 5.0, -1.25)\"><g style=\"stroke: #ff0000;stroke-width: 2.25;fill-opacity: 0;\" transform=\"matrix(1.0, 0.0, 0.0, 1.0, 0.0, 0.0)\"><rect height=\"0.95\" style=\"vector-effect: non-scaling-stroke;\" width=\"0.95\" x=\"-0.475\" y=\"-0.475\" /></g></g></g></g><g><g /><g transform=\"matrix(1.0, 0.0, 0.0, 1.0, -0.31875, -1.25)\"><g style=\"fill: #ff0000;stroke: black;stroke-width: 0.6;\" transform=\"matrix(1.0, 0.0, 0.0, 1.0, 0.0, 0.0)\"><circle cx=\"0.0\" cy=\"0.0\" r=\"0.1\" style=\"vector-effect: non-scaling-stroke\" /></g></g></g></g></g></g></g><g><g><g /><g /></g><g><g /><g><g><g><g /><g style=\"stroke: #ff7100;stroke-width: 0.6;\" transform=\"matrix(-1.0, 0.0, 0.0, -1.0, 4.5, -0.25)\"><polyline points=\"0.0,0.0 4.60625,0.0\" style=\"vector-effect: non-scaling-stroke;\" /></g></g><g><g /><g transform=\"matrix(1.0, 0.0, 0.0, 1.0, 5.0, -0.25)\"><g style=\"stroke: #ff7100;stroke-width: 2.25;fill-opacity: 0;\" transform=\"matrix(1.0, 0.0, 0.0, 1.0, 0.0, 0.0)\"><rect height=\"0.95\" style=\"vector-effect: non-scaling-stroke;\" width=\"0.95\" x=\"-0.475\" y=\"-0.475\" /></g></g></g></g><g><g /><g transform=\"matrix(1.0, 0.0, 0.0, 1.0, -0.10625, -0.25)\"><g style=\"fill: #ff7100;stroke: black;stroke-width: 0.6;\" transform=\"matrix(1.0, 0.0, 0.0, 1.0, 0.0, 0.0)\"><circle cx=\"0.0\" cy=\"0.0\" r=\"0.1\" style=\"vector-effect: non-scaling-stroke\" /></g></g></g></g></g></g></g><g><g><g /><g /></g><g><g /><g><g><g><g /><g style=\"stroke: #ffe300;stroke-width: 0.6;\" transform=\"matrix(-1.0, 0.0, 0.0, -1.0, 4.5, 0.75)\"><polyline points=\"0.0,0.0 4.39375,0.0\" style=\"vector-effect: non-scaling-stroke;\" /></g></g><g><g /><g transform=\"matrix(1.0, 0.0, 0.0, 1.0, 5.0, 0.75)\"><g style=\"stroke: #ffe300;stroke-width: 2.25;fill-opacity: 0;\" transform=\"matrix(1.0, 0.0, 0.0, 1.0, 0.0, 0.0)\"><rect height=\"0.95\" style=\"vector-effect: non-scaling-stroke;\" width=\"0.95\" x=\"-0.475\" y=\"-0.475\" /></g></g></g></g><g><g /><g transform=\"matrix(1.0, 0.0, 0.0, 1.0, 0.10625, 0.75)\"><g style=\"fill: #ffe300;stroke: black;stroke-width: 0.6;\" transform=\"matrix(1.0, 0.0, 0.0, 1.0, 0.0, 0.0)\"><circle cx=\"0.0\" cy=\"0.0\" r=\"0.1\" style=\"vector-effect: non-scaling-stroke\" /></g></g></g></g></g></g></g><g><g><g /><g /></g><g><g /><g><g><g><g /><g style=\"stroke: #aaff00;stroke-width: 0.6;\" transform=\"matrix(-1.0, 0.0, 0.0, -1.0, 4.5, 1.75)\"><polyline points=\"0.0,0.0 4.18125,0.0\" style=\"vector-effect: non-scaling-stroke;\" /></g></g><g><g /><g transform=\"matrix(1.0, 0.0, 0.0, 1.0, 5.0, 1.75)\"><g style=\"stroke: #aaff00;stroke-width: 2.25;fill-opacity: 0;\" transform=\"matrix(1.0, 0.0, 0.0, 1.0, 0.0, 0.0)\"><rect height=\"0.95\" style=\"vector-effect: non-scaling-stroke;\" width=\"0.95\" x=\"-0.475\" y=\"-0.475\" /></g></g></g></g><g><g /><g transform=\"matrix(1.0, 0.0, 0.0, 1.0, 0.31875, 1.75)\"><g style=\"fill: #aaff00;stroke: black;stroke-width: 0.6;\" transform=\"matrix(1.0, 0.0, 0.0, 1.0, 0.0, 0.0)\"><circle cx=\"0.0\" cy=\"0.0\" r=\"0.1\" style=\"vector-effect: non-scaling-stroke\" /></g></g></g></g></g></g></g></g><g transform=\"matrix(1.0, 0.0, 0.0, 1.0, -0.0, -3.0000999999999998)\"><g><g><g style=\"stroke: black;stroke-width: 1.5;\" transform=\"matrix(1.0, 0.0, 0.0, 1.0, 0.0, 0.0)\"><g /></g><g transform=\"matrix(1.0, 0.0, 0.0, 1.0, 0.0, 0.25)\"><g style=\"fill: #000000;stroke: black;stroke-width: 0.0;\" transform=\"matrix(1.0, 0.0, 0.0, 1.0, 0.0, 0.0)\"><text style=\"text-align:center; text-anchor:middle; dominant-baseline:middle;font-family:sans-serif; font-weight: bold;font-size:0.5px;vector-effect: non-scaling-stroke;\" transform=\"translate(-5e-05, 0)\">Block 0 0</text></g></g></g><g transform=\"matrix(1.0, 0.0, 0.0, 1.0, 0.0, 0.5001)\"><g style=\"stroke: black;stroke-width: 1.5;\" transform=\"matrix(1.0, 0.0, 0.0, 1.0, 0.0, 0.0)\"><g /></g></g></g></g></g></g></g></g><g transform=\"matrix(1.0, 0.0, 0.0, 1.0, 7.0, 0.0)\"><g style=\"stroke: black;stroke-width: 1.5;\" transform=\"matrix(1.0, 0.0, 0.0, 1.0, 0.0, 0.0)\"><g /></g></g></g></g><g /></g><g style=\"stroke: #808080;stroke-width: 1.5;fill-opacity: 0.0;\" transform=\"matrix(1.0, 0.0, 0.0, 1.0, 0.0, 0.0)\"><rect height=\"6.6001199999999995\" rx=\"0.5\" ry=\"0.5\" style=\"vector-effect: non-scaling-stroke;\" width=\"9.6\" x=\"-4.8\" y=\"-3.3000599999999998\" /></g></g><g /></g></g></g></g></g></g><g /></g></g></g></g><g /></g></g></g></g></svg>"
          },
          "metadata": {},
          "execution_count": 5
        }
      ],
      "source": [
        "def map_spec(a):\n",
        "    return a + 10\n",
        "\n",
        "\n",
        "def map_test(cuda):\n",
        "    def call(out, a) -> None:\n",
        "        local_i = cuda.threadIdx.x\n",
        "        # FILL ME IN (roughly 1 lines)\n",
        "        out[local_i] = a[local_i] + 10\n",
        "\n",
        "    return call\n",
        "\n",
        "\n",
        "SIZE = 4\n",
        "out = np.zeros((SIZE,))\n",
        "a = np.arange(SIZE)\n",
        "problem = CudaProblem(\n",
        "    \"Map\", map_test, [a], out, threadsperblock=Coord(SIZE, 1), spec=map_spec\n",
        ")\n",
        "problem.show()"
      ]
    },
    {
      "cell_type": "code",
      "execution_count": 6,
      "id": "0a5520a6",
      "metadata": {
        "execution": {
          "iopub.execute_input": "2022-08-07T21:24:40.783843Z",
          "iopub.status.busy": "2022-08-07T21:24:40.783394Z",
          "iopub.status.idle": "2022-08-07T21:24:41.318965Z",
          "shell.execute_reply": "2022-08-07T21:24:41.318117Z"
        },
        "lines_to_end_of_cell_marker": 0,
        "lines_to_next_cell": 1,
        "id": "0a5520a6",
        "outputId": "f4f1c453-9654-42b2-9fb3-23415bf230d5",
        "colab": {
          "base_uri": "https://localhost:8080/",
          "height": 759
        }
      },
      "outputs": [
        {
          "output_type": "stream",
          "name": "stdout",
          "text": [
            "Passed Tests!\n"
          ]
        },
        {
          "output_type": "execute_result",
          "data": {
            "text/plain": [
              "<IPython.core.display.HTML object>"
            ],
            "text/html": [
              "\n",
              "            <video alt=\"test\" controls autoplay=1>\n",
              "                <source src=\"https://openpuppies.com/mp4/fiJxCVA.mp4\"  type=\"video/mp4\">\n",
              "            </video>\n",
              "            "
            ]
          },
          "metadata": {},
          "execution_count": 6
        }
      ],
      "source": [
        "problem.check()"
      ]
    },
    {
      "cell_type": "markdown",
      "id": "59aecc28",
      "metadata": {
        "id": "59aecc28"
      },
      "source": [
        "## Puzzle 2 - Zip\n",
        "\n",
        "Implement a kernel that adds together each position of `a` and `b` and stores it in `out`.\n",
        "You have 1 thread per position."
      ]
    },
    {
      "cell_type": "code",
      "execution_count": 7,
      "id": "619b4208",
      "metadata": {
        "execution": {
          "iopub.execute_input": "2022-08-07T21:24:41.322974Z",
          "iopub.status.busy": "2022-08-07T21:24:41.322540Z",
          "iopub.status.idle": "2022-08-07T21:24:41.408046Z",
          "shell.execute_reply": "2022-08-07T21:24:41.407300Z"
        },
        "lines_to_next_cell": 0,
        "id": "619b4208",
        "outputId": "4805c631-b9ec-4cb8-ba67-0ff1c33e24ae",
        "colab": {
          "base_uri": "https://localhost:8080/",
          "height": 1000
        }
      },
      "outputs": [
        {
          "output_type": "stream",
          "name": "stdout",
          "text": [
            "# Zip\n",
            " \n",
            "   Score (Max Per Thread):\n",
            "   |  Global Reads | Global Writes |  Shared Reads | Shared Writes |\n",
            "   |             2 |             1 |             0 |             0 | \n",
            "\n"
          ]
        },
        {
          "output_type": "execute_result",
          "data": {
            "text/plain": [
              "Compose(envelope=<chalk.envelope.Envelope object at 0x78b398152710>, diagram1=ApplyStyle(style=Style(line_width=None, line_color=None, fill_color=<Color white>, fill_opacity=None, dashing=None, output_size=None), diagram=Primitive(shape=Rectangle(width=11.616000000000001, height=22.3742552, radius=None), style=Style(line_width=None, line_color=None, fill_color=None, fill_opacity=None, dashing=None, output_size=None), transform=Affine(1.0, 0.0, 0.0,\n",
              "       0.0, 1.0, 0.0))), diagram2=ApplyTransform(transform=Affine(1.0, 0.0, -0.0,\n",
              "       0.0, 1.0, -10.3621276), diagram=Compose(envelope=<chalk.envelope.Envelope object at 0x78b398152350>, diagram1=Compose(envelope=<chalk.envelope.Envelope object at 0x78b398152290>, diagram1=Compose(envelope=<chalk.envelope.Envelope object at 0x78b398152050>, diagram1=Compose(envelope=<chalk.envelope.Envelope object at 0x78b398151d10>, diagram1=Compose(envelope=<chalk.envelope.Envelope object at 0x78b398151b10>, diagram1=Compose(envelope=<chalk.envelope.Envelope object at 0x78b398151810>, diagram1=Primitive(shape=Spacer(width=0, height=1.5), style=Style(line_width=None, line_color=None, fill_color=None, fill_opacity=None, dashing=None, output_size=None), transform=Affine(1.0, 0.0, 0.0,\n",
              "       0.0, 1.0, 0.0)), diagram2=ApplyTransform(transform=Affine(1.0, 0.0, 0.0,\n",
              "       0.0, 1.0, 0.75), diagram=Primitive(shape=Text(text='Zip', font_size=1), style=Style(line_width=None, line_color=None, fill_color=None, fill_opacity=None, dashing=None, output_size=None), transform=Affine(1.0, 0.0, 0.0,\n",
              "       0.0, 1.0, 0.0)))), diagram2=ApplyTransform(transform=Affine(1.0, 0.0, 0.0,\n",
              "       0.0, 1.0, 1.2501), diagram=Primitive(shape=Spacer(width=0, height=1), style=Style(line_width=None, line_color=None, fill_color=None, fill_opacity=None, dashing=None, output_size=None), transform=Affine(1.0, 0.0, 0.0,\n",
              "       0.0, 1.0, 0.0)))), diagram2=ApplyTransform(transform=Affine(1.0, 0.0, 0.0,\n",
              "       0.0, 1.0, 2.2500999999999998), diagram=ApplyTransform(transform=Affine(1.0, 0.0, -1.6500000000000001,\n",
              "       0.0, 1.0, -0.0), diagram=Compose(envelope=<chalk.envelope.Envelope object at 0x78b398151410>, diagram1=Compose(envelope=<chalk.envelope.Envelope object at 0x78b398151290>, diagram1=Compose(envelope=<chalk.envelope.Envelope object at 0x78b398151110>, diagram1=Compose(envelope=<chalk.envelope.Envelope object at 0x78b398150fd0>, diagram1=Empty(), diagram2=ApplyTransform(transform=Affine(1.0, 0.0, 0.0,\n",
              "       0.0, 1.0, 0.0), diagram=Compose(envelope=<chalk.envelope.Envelope object at 0x78b3981501d0>, diagram1=ApplyStyle(style=Style(line_width=None, line_color=None, fill_color=None, fill_opacity=0.7, dashing=None, output_size=None), diagram=ApplyStyle(style=Style(line_width=None, line_color=None, fill_color=<Color red>, fill_opacity=None, dashing=None, output_size=None), diagram=Primitive(shape=Circle(radius=0.5), style=Style(line_width=None, line_color=None, fill_color=None, fill_opacity=None, dashing=None, output_size=None), transform=Affine(1.0, 0.0, 0.0,\n",
              "       0.0, 1.0, 0.0)))), diagram2=Primitive(shape=Image(local_path='robot.png', url_path='https://raw.githubusercontent.com/minitorch/diagrams/main/robot.png'), style=Style(line_width=None, line_color=None, fill_color=None, fill_opacity=None, dashing=None, output_size=None), transform=Affine(0.0008333333333333334, 0.0, 0.0,\n",
              "       0.0, 0.0008333333333333334, 0.0))))), diagram2=ApplyTransform(transform=Affine(1.0, 0.0, 1.1,\n",
              "       0.0, 1.0, 0.0), diagram=Compose(envelope=<chalk.envelope.Envelope object at 0x78b398150610>, diagram1=ApplyStyle(style=Style(line_width=None, line_color=None, fill_color=None, fill_opacity=0.7, dashing=None, output_size=None), diagram=ApplyStyle(style=Style(line_width=None, line_color=None, fill_color=<Color #ff7100>, fill_opacity=None, dashing=None, output_size=None), diagram=Primitive(shape=Circle(radius=0.5), style=Style(line_width=None, line_color=None, fill_color=None, fill_opacity=None, dashing=None, output_size=None), transform=Affine(1.0, 0.0, 0.0,\n",
              "       0.0, 1.0, 0.0)))), diagram2=Primitive(shape=Image(local_path='robot.png', url_path='https://raw.githubusercontent.com/minitorch/diagrams/main/robot.png'), style=Style(line_width=None, line_color=None, fill_color=None, fill_opacity=None, dashing=None, output_size=None), transform=Affine(0.0008333333333333334, 0.0, 0.0,\n",
              "       0.0, 0.0008333333333333334, 0.0))))), diagram2=ApplyTransform(transform=Affine(1.0, 0.0, 2.2,\n",
              "       0.0, 1.0, 0.0), diagram=Compose(envelope=<chalk.envelope.Envelope object at 0x78b398150a50>, diagram1=ApplyStyle(style=Style(line_width=None, line_color=None, fill_color=None, fill_opacity=0.7, dashing=None, output_size=None), diagram=ApplyStyle(style=Style(line_width=None, line_color=None, fill_color=<Color #ffe300>, fill_opacity=None, dashing=None, output_size=None), diagram=Primitive(shape=Circle(radius=0.5), style=Style(line_width=None, line_color=None, fill_color=None, fill_opacity=None, dashing=None, output_size=None), transform=Affine(1.0, 0.0, 0.0,\n",
              "       0.0, 1.0, 0.0)))), diagram2=Primitive(shape=Image(local_path='robot.png', url_path='https://raw.githubusercontent.com/minitorch/diagrams/main/robot.png'), style=Style(line_width=None, line_color=None, fill_color=None, fill_opacity=None, dashing=None, output_size=None), transform=Affine(0.0008333333333333334, 0.0, 0.0,\n",
              "       0.0, 0.0008333333333333334, 0.0))))), diagram2=ApplyTransform(transform=Affine(1.0, 0.0, 3.3000000000000003,\n",
              "       0.0, 1.0, 0.0), diagram=Compose(envelope=<chalk.envelope.Envelope object at 0x78b398150e90>, diagram1=ApplyStyle(style=Style(line_width=None, line_color=None, fill_color=None, fill_opacity=0.7, dashing=None, output_size=None), diagram=ApplyStyle(style=Style(line_width=None, line_color=None, fill_color=<Color #af0>, fill_opacity=None, dashing=None, output_size=None), diagram=Primitive(shape=Circle(radius=0.5), style=Style(line_width=None, line_color=None, fill_color=None, fill_opacity=None, dashing=None, output_size=None), transform=Affine(1.0, 0.0, 0.0,\n",
              "       0.0, 1.0, 0.0)))), diagram2=Primitive(shape=Image(local_path='robot.png', url_path='https://raw.githubusercontent.com/minitorch/diagrams/main/robot.png'), style=Style(line_width=None, line_color=None, fill_color=None, fill_opacity=None, dashing=None, output_size=None), transform=Affine(0.0008333333333333334, 0.0, 0.0,\n",
              "       0.0, 0.0008333333333333334, 0.0)))))))), diagram2=ApplyTransform(transform=Affine(1.0, 0.0, 0.0,\n",
              "       0.0, 1.0, 3.2500999999999998), diagram=Primitive(shape=Spacer(width=0, height=1), style=Style(line_width=None, line_color=None, fill_color=None, fill_opacity=None, dashing=None, output_size=None), transform=Affine(1.0, 0.0, 0.0,\n",
              "       0.0, 1.0, 0.0)))), diagram2=ApplyTransform(transform=Affine(1.0, 0.0, 0.0,\n",
              "       0.0, 1.0, 11.670166), diagram=ApplyTransform(transform=Affine(1.0, 0.0, -0.0,\n",
              "       0.0, 1.0, -0.0), diagram=Compose(envelope=<chalk.envelope.Envelope object at 0x78b39813fe10>, diagram1=Empty(), diagram2=ApplyTransform(transform=Affine(1.0, 0.0, 0.0,\n",
              "       0.0, 1.0, 0.0), diagram=Compose(envelope=<chalk.envelope.Envelope object at 0x78b39813fb90>, diagram1=Compose(envelope=<chalk.envelope.Envelope object at 0x78b39813fa90>, diagram1=Compose(envelope=<chalk.envelope.Envelope object at 0x78b39813f510>, diagram1=ApplyTransform(transform=Affine(1.0, 0.0, -3.5,\n",
              "       0.0, 1.0, -0.0), diagram=Compose(envelope=<chalk.envelope.Envelope object at 0x78b39813f310>, diagram1=Compose(envelope=<chalk.envelope.Envelope object at 0x78b39813f090>, diagram1=Primitive(shape=Spacer(width=1, height=0), style=Style(line_width=None, line_color=None, fill_color=None, fill_opacity=None, dashing=None, output_size=None), transform=Affine(1.0, 0.0, 0.0,\n",
              "       0.0, 1.0, 0.0)), diagram2=ApplyTransform(transform=Affine(1.0, 0.0, 3.5,\n",
              "       0.0, 1.0, 0.0), diagram=ApplyTransform(transform=Affine(1.0, 0.0, -0.0,\n",
              "       0.0, 1.0, 0.5000499999999999), diagram=Compose(envelope=<chalk.envelope.Envelope object at 0x78b39813ee10>, diagram1=ApplyTransform(transform=Affine(1.0, 0.0, -2.5,\n",
              "       0.0, 1.0, -0.0), diagram=Compose(envelope=<chalk.envelope.Envelope object at 0x78b39813e290>, diagram1=Compose(envelope=<chalk.envelope.Envelope object at 0x78b39812ffd0>, diagram1=Compose(envelope=<chalk.envelope.Envelope object at 0x78b39812dd50>, diagram1=Compose(envelope=<chalk.envelope.Envelope object at 0x78b39811fa90>, diagram1=Compose(envelope=<chalk.envelope.Envelope object at 0x78b39811d9d0>, diagram1=Compose(envelope=<chalk.envelope.Envelope object at 0x78b39811d810>, diagram1=Compose(envelope=<chalk.envelope.Envelope object at 0x78b39811d610>, diagram1=Compose(envelope=<chalk.envelope.Envelope object at 0x78b39811d510>, diagram1=ApplyTransform(transform=Affine(1.0, 0.0, -0.0,\n",
              "       0.0, 1.0, -3.0), diagram=Compose(envelope=<chalk.envelope.Envelope object at 0x78b398107d90>, diagram1=Compose(envelope=<chalk.envelope.Envelope object at 0x78b398107bd0>, diagram1=Compose(envelope=<chalk.envelope.Envelope object at 0x78b3981065d0>, diagram1=ApplyStyle(style=Style(line_width=(<WidthType.NORMALIZED: 2>, 0.05), line_color=None, fill_color=None, fill_opacity=None, dashing=None, output_size=None), diagram=ApplyTransform(transform=Affine(1.0, 0.0, -0.0,\n",
              "       0.0, 1.0, -1.5), diagram=Compose(envelope=<chalk.envelope.Envelope object at 0x78b3981062d0>, diagram1=Compose(envelope=<chalk.envelope.Envelope object at 0x78b3981060d0>, diagram1=Compose(envelope=<chalk.envelope.Envelope object at 0x78b398105ed0>, diagram1=Compose(envelope=<chalk.envelope.Envelope object at 0x78b398105cd0>, diagram1=Empty(), diagram2=ApplyName(dname=('a', 0), diagram=Primitive(shape=Rectangle(width=1, height=1, radius=None), style=Style(line_width=None, line_color=None, fill_color=None, fill_opacity=None, dashing=None, output_size=None), transform=Affine(1.0, 0.0, 0.0,\n",
              "       0.0, 1.0, 0.0)))), diagram2=ApplyName(dname=('a', 1), diagram=Primitive(shape=Rectangle(width=1, height=1, radius=None), style=Style(line_width=None, line_color=None, fill_color=None, fill_opacity=None, dashing=None, output_size=None), transform=Affine(1.0, 0.0, 0.0,\n",
              "       0.0, 1.0, 1.0)))), diagram2=ApplyName(dname=('a', 2), diagram=Primitive(shape=Rectangle(width=1, height=1, radius=None), style=Style(line_width=None, line_color=None, fill_color=None, fill_opacity=None, dashing=None, output_size=None), transform=Affine(1.0, 0.0, 0.0,\n",
              "       0.0, 1.0, 2.0)))), diagram2=ApplyName(dname=('a', 3), diagram=Primitive(shape=Rectangle(width=1, height=1, radius=None), style=Style(line_width=None, line_color=None, fill_color=None, fill_opacity=None, dashing=None, output_size=None), transform=Affine(1.0, 0.0, 0.0,\n",
              "       0.0, 1.0, 3.0)))))), diagram2=ApplyTransform(transform=Affine(1.0, 0.0, -0.0,\n",
              "       0.0, 1.0, -2.25), diagram=Compose(envelope=<chalk.envelope.Envelope object at 0x78b398106490>, diagram1=ApplyStyle(style=Style(line_width=(<WidthType.NORMALIZED: 2>, 0.0), line_color=None, fill_color=None, fill_opacity=None, dashing=None, output_size=None), diagram=ApplyStyle(style=Style(line_width=None, line_color=None, fill_color=<Color black>, fill_opacity=None, dashing=None, output_size=None), diagram=Primitive(shape=Text(text='a', font_size=0.5), style=Style(line_width=None, line_color=None, fill_color=None, fill_opacity=None, dashing=None, output_size=None), transform=Affine(1.0, 0.0, 0.0,\n",
              "       0.0, 1.0, 0.0)))), diagram2=Primitive(shape=Spacer(width=0, height=0.5), style=Style(line_width=None, line_color=None, fill_color=None, fill_opacity=None, dashing=None, output_size=None), transform=Affine(1.0, 0.0, 0.0,\n",
              "       0.0, 1.0, 0.0))))), diagram2=ApplyTransform(transform=Affine(1.0, 0.0, 0.0,\n",
              "       0.0, 1.0, 3.0), diagram=Primitive(shape=Spacer(width=2.0, height=0), style=Style(line_width=None, line_color=None, fill_color=None, fill_opacity=None, dashing=None, output_size=None), transform=Affine(0.0, 1.0, 0.0,\n",
              "       -1.0, 0.0, 0.0)))), diagram2=ApplyTransform(transform=Affine(1.0, 0.0, 0.0,\n",
              "       0.0, 1.0, 6.5), diagram=Compose(envelope=<chalk.envelope.Envelope object at 0x78b3981078d0>, diagram1=ApplyStyle(style=Style(line_width=(<WidthType.NORMALIZED: 2>, 0.05), line_color=None, fill_color=None, fill_opacity=None, dashing=None, output_size=None), diagram=ApplyTransform(transform=Affine(1.0, 0.0, -0.0,\n",
              "       0.0, 1.0, -1.5), diagram=Compose(envelope=<chalk.envelope.Envelope object at 0x78b398107390>, diagram1=Compose(envelope=<chalk.envelope.Envelope object at 0x78b398107190>, diagram1=Compose(envelope=<chalk.envelope.Envelope object at 0x78b398106f90>, diagram1=Compose(envelope=<chalk.envelope.Envelope object at 0x78b398106dd0>, diagram1=Empty(), diagram2=ApplyName(dname=('b', 0), diagram=Primitive(shape=Rectangle(width=1, height=1, radius=None), style=Style(line_width=None, line_color=None, fill_color=None, fill_opacity=None, dashing=None, output_size=None), transform=Affine(1.0, 0.0, 0.0,\n",
              "       0.0, 1.0, 0.0)))), diagram2=ApplyName(dname=('b', 1), diagram=Primitive(shape=Rectangle(width=1, height=1, radius=None), style=Style(line_width=None, line_color=None, fill_color=None, fill_opacity=None, dashing=None, output_size=None), transform=Affine(1.0, 0.0, 0.0,\n",
              "       0.0, 1.0, 1.0)))), diagram2=ApplyName(dname=('b', 2), diagram=Primitive(shape=Rectangle(width=1, height=1, radius=None), style=Style(line_width=None, line_color=None, fill_color=None, fill_opacity=None, dashing=None, output_size=None), transform=Affine(1.0, 0.0, 0.0,\n",
              "       0.0, 1.0, 2.0)))), diagram2=ApplyName(dname=('b', 3), diagram=Primitive(shape=Rectangle(width=1, height=1, radius=None), style=Style(line_width=None, line_color=None, fill_color=None, fill_opacity=None, dashing=None, output_size=None), transform=Affine(1.0, 0.0, 0.0,\n",
              "       0.0, 1.0, 3.0)))))), diagram2=ApplyTransform(transform=Affine(1.0, 0.0, -0.0,\n",
              "       0.0, 1.0, -2.25), diagram=Compose(envelope=<chalk.envelope.Envelope object at 0x78b398107750>, diagram1=ApplyStyle(style=Style(line_width=(<WidthType.NORMALIZED: 2>, 0.0), line_color=None, fill_color=None, fill_opacity=None, dashing=None, output_size=None), diagram=ApplyStyle(style=Style(line_width=None, line_color=None, fill_color=<Color black>, fill_opacity=None, dashing=None, output_size=None), diagram=Primitive(shape=Text(text='b', font_size=0.5), style=Style(line_width=None, line_color=None, fill_color=None, fill_opacity=None, dashing=None, output_size=None), transform=Affine(1.0, 0.0, 0.0,\n",
              "       0.0, 1.0, 0.0)))), diagram2=Primitive(shape=Spacer(width=0, height=0.5), style=Style(line_width=None, line_color=None, fill_color=None, fill_opacity=None, dashing=None, output_size=None), transform=Affine(1.0, 0.0, 0.0,\n",
              "       0.0, 1.0, 0.0)))))))), diagram2=ApplyTransform(transform=Affine(1.0, 0.0, 1.5,\n",
              "       0.0, 1.0, 0.0), diagram=Primitive(shape=Spacer(width=2.0, height=0), style=Style(line_width=None, line_color=None, fill_color=None, fill_opacity=None, dashing=None, output_size=None), transform=Affine(1.0, 0.0, 0.0,\n",
              "       0.0, 1.0, 0.0)))), diagram2=ApplyTransform(transform=Affine(1.0, 0.0, 2.5,\n",
              "       0.0, 1.0, 0.0), diagram=Empty())), diagram2=ApplyTransform(transform=Affine(1.0, 0.0, 3.5,\n",
              "       0.0, 1.0, 0.0), diagram=Primitive(shape=Spacer(width=2.0, height=0), style=Style(line_width=None, line_color=None, fill_color=None, fill_opacity=None, dashing=None, output_size=None), transform=Affine(1.0, 0.0, 0.0,\n",
              "       0.0, 1.0, 0.0)))), diagram2=ApplyTransform(transform=Affine(1.0, 0.0, 5.0,\n",
              "       0.0, 1.0, 0.0), diagram=ApplyTransform(transform=Affine(1.0, 0.0, -0.0,\n",
              "       0.0, 1.0, 0.25), diagram=Compose(envelope=<chalk.envelope.Envelope object at 0x78b39811d190>, diagram1=ApplyStyle(style=Style(line_width=(<WidthType.NORMALIZED: 2>, 0.05), line_color=None, fill_color=None, fill_opacity=None, dashing=None, output_size=None), diagram=ApplyTransform(transform=Affine(1.0, 0.0, -0.0,\n",
              "       0.0, 1.0, -1.5), diagram=Compose(envelope=<chalk.envelope.Envelope object at 0x78b39811cc50>, diagram1=Compose(envelope=<chalk.envelope.Envelope object at 0x78b39811ca50>, diagram1=Compose(envelope=<chalk.envelope.Envelope object at 0x78b39811c850>, diagram1=Compose(envelope=<chalk.envelope.Envelope object at 0x78b39811c690>, diagram1=Empty(), diagram2=ApplyName(dname=('out', 0), diagram=Primitive(shape=Rectangle(width=1, height=1, radius=None), style=Style(line_width=None, line_color=None, fill_color=None, fill_opacity=None, dashing=None, output_size=None), transform=Affine(1.0, 0.0, 0.0,\n",
              "       0.0, 1.0, 0.0)))), diagram2=ApplyName(dname=('out', 1), diagram=Primitive(shape=Rectangle(width=1, height=1, radius=None), style=Style(line_width=None, line_color=None, fill_color=None, fill_opacity=None, dashing=None, output_size=None), transform=Affine(1.0, 0.0, 0.0,\n",
              "       0.0, 1.0, 1.0)))), diagram2=ApplyName(dname=('out', 2), diagram=Primitive(shape=Rectangle(width=1, height=1, radius=None), style=Style(line_width=None, line_color=None, fill_color=None, fill_opacity=None, dashing=None, output_size=None), transform=Affine(1.0, 0.0, 0.0,\n",
              "       0.0, 1.0, 2.0)))), diagram2=ApplyName(dname=('out', 3), diagram=Primitive(shape=Rectangle(width=1, height=1, radius=None), style=Style(line_width=None, line_color=None, fill_color=None, fill_opacity=None, dashing=None, output_size=None), transform=Affine(1.0, 0.0, 0.0,\n",
              "       0.0, 1.0, 3.0)))))), diagram2=ApplyTransform(transform=Affine(1.0, 0.0, -0.0,\n",
              "       0.0, 1.0, -2.25), diagram=Compose(envelope=<chalk.envelope.Envelope object at 0x78b39811d010>, diagram1=ApplyStyle(style=Style(line_width=(<WidthType.NORMALIZED: 2>, 0.0), line_color=None, fill_color=None, fill_opacity=None, dashing=None, output_size=None), diagram=ApplyStyle(style=Style(line_width=None, line_color=None, fill_color=<Color black>, fill_opacity=None, dashing=None, output_size=None), diagram=Primitive(shape=Text(text='out', font_size=0.5), style=Style(line_width=None, line_color=None, fill_color=None, fill_opacity=None, dashing=None, output_size=None), transform=Affine(1.0, 0.0, 0.0,\n",
              "       0.0, 1.0, 0.0)))), diagram2=Primitive(shape=Spacer(width=0, height=0.5), style=Style(line_width=None, line_color=None, fill_color=None, fill_opacity=None, dashing=None, output_size=None), transform=Affine(1.0, 0.0, 0.0,\n",
              "       0.0, 1.0, 0.0)))))))), diagram2=Compose(envelope=<chalk.envelope.Envelope object at 0x78b39811f990>, diagram1=Compose(envelope=<chalk.envelope.Envelope object at 0x78b39811dc10>, diagram1=Compose(envelope=<chalk.envelope.Envelope object at 0x78b39811db90>, diagram1=Empty(), diagram2=Empty()), diagram2=Empty()), diagram2=Compose(envelope=<chalk.envelope.Envelope object at 0x78b39811f8d0>, diagram1=Compose(envelope=<chalk.envelope.Envelope object at 0x78b39811dcd0>, diagram1=Empty(), diagram2=Compose(envelope=<chalk.envelope.Envelope object at 0x78b39811ea50>, diagram1=Compose(envelope=<chalk.envelope.Envelope object at 0x78b39811e610>, diagram1=Compose(envelope=<chalk.envelope.Envelope object at 0x78b39811e1d0>, diagram1=Empty(), diagram2=ApplyStyle(style=Style(line_width=None, line_color=<Color red>, fill_color=None, fill_opacity=None, dashing=None, output_size=None), diagram=ApplyStyle(style=Style(line_width=(<WidthType.NORMALIZED: 2>, 0.04), line_color=None, fill_color=None, fill_opacity=None, dashing=None, output_size=None), diagram=Primitive(shape=Path(points=Vec2Array([(0.0, 0.0), (5.812301743930712, 0.0)]), arrow=False), style=Style(line_width=None, line_color=None, fill_color=None, fill_opacity=None, dashing=None, output_size=None), transform=Affine(-0.8290605361347263, 0.5591588570558462, 4.5,\n",
              "       -0.5591588570558462, -0.8290605361347263, -1.25))))), diagram2=Compose(envelope=<chalk.envelope.Envelope object at 0x78b39811e590>, diagram1=Empty(), diagram2=ApplyTransform(transform=Affine(1.0, 0.0, 5.0,\n",
              "       0.0, 1.0, -1.25), diagram=ApplyStyle(style=Style(line_width=(<WidthType.NORMALIZED: 2>, 0.15), line_color=None, fill_color=None, fill_opacity=None, dashing=None, output_size=None), diagram=ApplyStyle(style=Style(line_width=None, line_color=<Color red>, fill_color=None, fill_opacity=None, dashing=None, output_size=None), diagram=ApplyStyle(style=Style(line_width=None, line_color=None, fill_color=None, fill_opacity=0, dashing=None, output_size=None), diagram=Primitive(shape=Rectangle(width=0.95, height=0.95, radius=None), style=Style(line_width=None, line_color=None, fill_color=None, fill_opacity=None, dashing=None, output_size=None), transform=Affine(1.0, 0.0, 0.0,\n",
              "       0.0, 1.0, 0.0)))))))), diagram2=Compose(envelope=<chalk.envelope.Envelope object at 0x78b39811e990>, diagram1=Empty(), diagram2=ApplyTransform(transform=Affine(1.0, 0.0, -0.31875,\n",
              "       0.0, 1.0, -4.5), diagram=ApplyStyle(style=Style(line_width=None, line_color=None, fill_color=<Color red>, fill_opacity=None, dashing=None, output_size=None), diagram=ApplyStyle(style=Style(line_width=(<WidthType.NORMALIZED: 2>, 0.04), line_color=None, fill_color=None, fill_opacity=None, dashing=None, output_size=None), diagram=Primitive(shape=Circle(radius=0.1), style=Style(line_width=None, line_color=None, fill_color=None, fill_opacity=None, dashing=None, output_size=None), transform=Affine(1.0, 0.0, 0.0,\n",
              "       0.0, 1.0, 0.0)))))))), diagram2=Compose(envelope=<chalk.envelope.Envelope object at 0x78b39811f810>, diagram1=Compose(envelope=<chalk.envelope.Envelope object at 0x78b39811f350>, diagram1=Compose(envelope=<chalk.envelope.Envelope object at 0x78b39811ee10>, diagram1=Empty(), diagram2=ApplyStyle(style=Style(line_width=None, line_color=<Color red>, fill_color=None, fill_opacity=None, dashing=None, output_size=None), diagram=ApplyStyle(style=Style(line_width=(<WidthType.NORMALIZED: 2>, 0.04), line_color=None, fill_color=None, fill_opacity=None, dashing=None, output_size=None), diagram=Primitive(shape=Path(points=Vec2Array([(0.0, 0.0), (5.812301743930712, 0.0)]), arrow=False), style=Style(line_width=None, line_color=None, fill_color=None, fill_opacity=None, dashing=None, output_size=None), transform=Affine(-0.8290605361347262, -0.5591588570558463, 4.5,\n",
              "       0.5591588570558463, -0.8290605361347262, -1.25))))), diagram2=Compose(envelope=<chalk.envelope.Envelope object at 0x78b39811f290>, diagram1=Empty(), diagram2=ApplyTransform(transform=Affine(1.0, 0.0, 5.0,\n",
              "       0.0, 1.0, -1.25), diagram=ApplyStyle(style=Style(line_width=(<WidthType.NORMALIZED: 2>, 0.15), line_color=None, fill_color=None, fill_opacity=None, dashing=None, output_size=None), diagram=ApplyStyle(style=Style(line_width=None, line_color=<Color red>, fill_color=None, fill_opacity=None, dashing=None, output_size=None), diagram=ApplyStyle(style=Style(line_width=None, line_color=None, fill_color=None, fill_opacity=0, dashing=None, output_size=None), diagram=Primitive(shape=Rectangle(width=0.95, height=0.95, radius=None), style=Style(line_width=None, line_color=None, fill_color=None, fill_opacity=None, dashing=None, output_size=None), transform=Affine(1.0, 0.0, 0.0,\n",
              "       0.0, 1.0, 0.0)))))))), diagram2=Compose(envelope=<chalk.envelope.Envelope object at 0x78b39811f750>, diagram1=Empty(), diagram2=ApplyTransform(transform=Affine(1.0, 0.0, -0.31875,\n",
              "       0.0, 1.0, 2.0), diagram=ApplyStyle(style=Style(line_width=None, line_color=None, fill_color=<Color red>, fill_opacity=None, dashing=None, output_size=None), diagram=ApplyStyle(style=Style(line_width=(<WidthType.NORMALIZED: 2>, 0.04), line_color=None, fill_color=None, fill_opacity=None, dashing=None, output_size=None), diagram=Primitive(shape=Circle(radius=0.1), style=Style(line_width=None, line_color=None, fill_color=None, fill_opacity=None, dashing=None, output_size=None), transform=Affine(1.0, 0.0, 0.0,\n",
              "       0.0, 1.0, 0.0)))))))))), diagram2=Compose(envelope=<chalk.envelope.Envelope object at 0x78b39812dc50>, diagram1=Compose(envelope=<chalk.envelope.Envelope object at 0x78b39811fcd0>, diagram1=Compose(envelope=<chalk.envelope.Envelope object at 0x78b39811fc50>, diagram1=Empty(), diagram2=Empty()), diagram2=Empty()), diagram2=Compose(envelope=<chalk.envelope.Envelope object at 0x78b39812db90>, diagram1=Compose(envelope=<chalk.envelope.Envelope object at 0x78b39811fdd0>, diagram1=Empty(), diagram2=Compose(envelope=<chalk.envelope.Envelope object at 0x78b39812ccd0>, diagram1=Compose(envelope=<chalk.envelope.Envelope object at 0x78b39812c810>, diagram1=Compose(envelope=<chalk.envelope.Envelope object at 0x78b39812c290>, diagram1=Empty(), diagram2=ApplyStyle(style=Style(line_width=None, line_color=<Color #ff7100>, fill_color=None, fill_opacity=None, dashing=None, output_size=None), diagram=ApplyStyle(style=Style(line_width=(<WidthType.NORMALIZED: 2>, 0.04), line_color=None, fill_color=None, fill_opacity=None, dashing=None, output_size=None), diagram=Primitive(shape=Path(points=Vec2Array([(0.0, 0.0), (5.637378740381029, 0.0)]), arrow=False), style=Style(line_width=None, line_color=None, fill_color=None, fill_opacity=None, dashing=None, output_size=None), transform=Affine(-0.8170907459179628, 0.5765090744604348, 4.5,\n",
              "       -0.5765090744604348, -0.8170907459179628, -0.25))))), diagram2=Compose(envelope=<chalk.envelope.Envelope object at 0x78b39812c710>, diagram1=Empty(), diagram2=ApplyTransform(transform=Affine(1.0, 0.0, 5.0,\n",
              "       0.0, 1.0, -0.25), diagram=ApplyStyle(style=Style(line_width=(<WidthType.NORMALIZED: 2>, 0.15), line_color=None, fill_color=None, fill_opacity=None, dashing=None, output_size=None), diagram=ApplyStyle(style=Style(line_width=None, line_color=<Color #ff7100>, fill_color=None, fill_opacity=None, dashing=None, output_size=None), diagram=ApplyStyle(style=Style(line_width=None, line_color=None, fill_color=None, fill_opacity=0, dashing=None, output_size=None), diagram=Primitive(shape=Rectangle(width=0.95, height=0.95, radius=None), style=Style(line_width=None, line_color=None, fill_color=None, fill_opacity=None, dashing=None, output_size=None), transform=Affine(1.0, 0.0, 0.0,\n",
              "       0.0, 1.0, 0.0)))))))), diagram2=Compose(envelope=<chalk.envelope.Envelope object at 0x78b39812cc10>, diagram1=Empty(), diagram2=ApplyTransform(transform=Affine(1.0, 0.0, -0.10625,\n",
              "       0.0, 1.0, -3.5), diagram=ApplyStyle(style=Style(line_width=None, line_color=None, fill_color=<Color #ff7100>, fill_opacity=None, dashing=None, output_size=None), diagram=ApplyStyle(style=Style(line_width=(<WidthType.NORMALIZED: 2>, 0.04), line_color=None, fill_color=None, fill_opacity=None, dashing=None, output_size=None), diagram=Primitive(shape=Circle(radius=0.1), style=Style(line_width=None, line_color=None, fill_color=None, fill_opacity=None, dashing=None, output_size=None), transform=Affine(1.0, 0.0, 0.0,\n",
              "       0.0, 1.0, 0.0)))))))), diagram2=Compose(envelope=<chalk.envelope.Envelope object at 0x78b39812dad0>, diagram1=Compose(envelope=<chalk.envelope.Envelope object at 0x78b39812d610>, diagram1=Compose(envelope=<chalk.envelope.Envelope object at 0x78b39812d090>, diagram1=Empty(), diagram2=ApplyStyle(style=Style(line_width=None, line_color=<Color #ff7100>, fill_color=None, fill_opacity=None, dashing=None, output_size=None), diagram=ApplyStyle(style=Style(line_width=(<WidthType.NORMALIZED: 2>, 0.04), line_color=None, fill_color=None, fill_opacity=None, dashing=None, output_size=None), diagram=Primitive(shape=Path(points=Vec2Array([(0.0, 0.0), (5.637378740381029, 0.0)]), arrow=False), style=Style(line_width=None, line_color=None, fill_color=None, fill_opacity=None, dashing=None, output_size=None), transform=Affine(-0.8170907459179627, -0.5765090744604349, 4.5,\n",
              "       0.5765090744604349, -0.8170907459179627, -0.25))))), diagram2=Compose(envelope=<chalk.envelope.Envelope object at 0x78b39812d510>, diagram1=Empty(), diagram2=ApplyTransform(transform=Affine(1.0, 0.0, 5.0,\n",
              "       0.0, 1.0, -0.25), diagram=ApplyStyle(style=Style(line_width=(<WidthType.NORMALIZED: 2>, 0.15), line_color=None, fill_color=None, fill_opacity=None, dashing=None, output_size=None), diagram=ApplyStyle(style=Style(line_width=None, line_color=<Color #ff7100>, fill_color=None, fill_opacity=None, dashing=None, output_size=None), diagram=ApplyStyle(style=Style(line_width=None, line_color=None, fill_color=None, fill_opacity=0, dashing=None, output_size=None), diagram=Primitive(shape=Rectangle(width=0.95, height=0.95, radius=None), style=Style(line_width=None, line_color=None, fill_color=None, fill_opacity=None, dashing=None, output_size=None), transform=Affine(1.0, 0.0, 0.0,\n",
              "       0.0, 1.0, 0.0)))))))), diagram2=Compose(envelope=<chalk.envelope.Envelope object at 0x78b39812da10>, diagram1=Empty(), diagram2=ApplyTransform(transform=Affine(1.0, 0.0, -0.10625,\n",
              "       0.0, 1.0, 3.0), diagram=ApplyStyle(style=Style(line_width=None, line_color=None, fill_color=<Color #ff7100>, fill_opacity=None, dashing=None, output_size=None), diagram=ApplyStyle(style=Style(line_width=(<WidthType.NORMALIZED: 2>, 0.04), line_color=None, fill_color=None, fill_opacity=None, dashing=None, output_size=None), diagram=Primitive(shape=Circle(radius=0.1), style=Style(line_width=None, line_color=None, fill_color=None, fill_opacity=None, dashing=None, output_size=None), transform=Affine(1.0, 0.0, 0.0,\n",
              "       0.0, 1.0, 0.0)))))))))), diagram2=Compose(envelope=<chalk.envelope.Envelope object at 0x78b39812fed0>, diagram1=Compose(envelope=<chalk.envelope.Envelope object at 0x78b39812df90>, diagram1=Compose(envelope=<chalk.envelope.Envelope object at 0x78b39812df10>, diagram1=Empty(), diagram2=Empty()), diagram2=Empty()), diagram2=Compose(envelope=<chalk.envelope.Envelope object at 0x78b39812fe10>, diagram1=Compose(envelope=<chalk.envelope.Envelope object at 0x78b39812e090>, diagram1=Empty(), diagram2=Compose(envelope=<chalk.envelope.Envelope object at 0x78b39812ef50>, diagram1=Compose(envelope=<chalk.envelope.Envelope object at 0x78b39812ea90>, diagram1=Compose(envelope=<chalk.envelope.Envelope object at 0x78b39812e510>, diagram1=Empty(), diagram2=ApplyStyle(style=Style(line_width=None, line_color=<Color #ffe300>, fill_color=None, fill_opacity=None, dashing=None, output_size=None), diagram=ApplyStyle(style=Style(line_width=(<WidthType.NORMALIZED: 2>, 0.04), line_color=None, fill_color=None, fill_opacity=None, dashing=None, output_size=None), diagram=Primitive(shape=Path(points=Vec2Array([(0.0, 0.0), (5.4651202239749495, 0.0)]), arrow=False), style=Style(line_width=None, line_color=None, fill_color=None, fill_opacity=None, dashing=None, output_size=None), transform=Affine(-0.8039621856304364, 0.594680421803452, 4.5,\n",
              "       -0.594680421803452, -0.8039621856304364, 0.75))))), diagram2=Compose(envelope=<chalk.envelope.Envelope object at 0x78b39812e990>, diagram1=Empty(), diagram2=ApplyTransform(transform=Affine(1.0, 0.0, 5.0,\n",
              "       0.0, 1.0, 0.75), diagram=ApplyStyle(style=Style(line_width=(<WidthType.NORMALIZED: 2>, 0.15), line_color=None, fill_color=None, fill_opacity=None, dashing=None, output_size=None), diagram=ApplyStyle(style=Style(line_width=None, line_color=<Color #ffe300>, fill_color=None, fill_opacity=None, dashing=None, output_size=None), diagram=ApplyStyle(style=Style(line_width=None, line_color=None, fill_color=None, fill_opacity=0, dashing=None, output_size=None), diagram=Primitive(shape=Rectangle(width=0.95, height=0.95, radius=None), style=Style(line_width=None, line_color=None, fill_color=None, fill_opacity=None, dashing=None, output_size=None), transform=Affine(1.0, 0.0, 0.0,\n",
              "       0.0, 1.0, 0.0)))))))), diagram2=Compose(envelope=<chalk.envelope.Envelope object at 0x78b39812ee90>, diagram1=Empty(), diagram2=ApplyTransform(transform=Affine(1.0, 0.0, 0.10625,\n",
              "       0.0, 1.0, -2.5), diagram=ApplyStyle(style=Style(line_width=None, line_color=None, fill_color=<Color #ffe300>, fill_opacity=None, dashing=None, output_size=None), diagram=ApplyStyle(style=Style(line_width=(<WidthType.NORMALIZED: 2>, 0.04), line_color=None, fill_color=None, fill_opacity=None, dashing=None, output_size=None), diagram=Primitive(shape=Circle(radius=0.1), style=Style(line_width=None, line_color=None, fill_color=None, fill_opacity=None, dashing=None, output_size=None), transform=Affine(1.0, 0.0, 0.0,\n",
              "       0.0, 1.0, 0.0)))))))), diagram2=Compose(envelope=<chalk.envelope.Envelope object at 0x78b39812fd50>, diagram1=Compose(envelope=<chalk.envelope.Envelope object at 0x78b39812f890>, diagram1=Compose(envelope=<chalk.envelope.Envelope object at 0x78b39812f310>, diagram1=Empty(), diagram2=ApplyStyle(style=Style(line_width=None, line_color=<Color #ffe300>, fill_color=None, fill_opacity=None, dashing=None, output_size=None), diagram=ApplyStyle(style=Style(line_width=(<WidthType.NORMALIZED: 2>, 0.04), line_color=None, fill_color=None, fill_opacity=None, dashing=None, output_size=None), diagram=Primitive(shape=Path(points=Vec2Array([(0.0, 0.0), (5.4651202239749495, 0.0)]), arrow=False), style=Style(line_width=None, line_color=None, fill_color=None, fill_opacity=None, dashing=None, output_size=None), transform=Affine(-0.8039621856304363, -0.5946804218034523, 4.5,\n",
              "       0.5946804218034523, -0.8039621856304363, 0.75))))), diagram2=Compose(envelope=<chalk.envelope.Envelope object at 0x78b39812f790>, diagram1=Empty(), diagram2=ApplyTransform(transform=Affine(1.0, 0.0, 5.0,\n",
              "       0.0, 1.0, 0.75), diagram=ApplyStyle(style=Style(line_width=(<WidthType.NORMALIZED: 2>, 0.15), line_color=None, fill_color=None, fill_opacity=None, dashing=None, output_size=None), diagram=ApplyStyle(style=Style(line_width=None, line_color=<Color #ffe300>, fill_color=None, fill_opacity=None, dashing=None, output_size=None), diagram=ApplyStyle(style=Style(line_width=None, line_color=None, fill_color=None, fill_opacity=0, dashing=None, output_size=None), diagram=Primitive(shape=Rectangle(width=0.95, height=0.95, radius=None), style=Style(line_width=None, line_color=None, fill_color=None, fill_opacity=None, dashing=None, output_size=None), transform=Affine(1.0, 0.0, 0.0,\n",
              "       0.0, 1.0, 0.0)))))))), diagram2=Compose(envelope=<chalk.envelope.Envelope object at 0x78b39812fc90>, diagram1=Empty(), diagram2=ApplyTransform(transform=Affine(1.0, 0.0, 0.10625,\n",
              "       0.0, 1.0, 4.0), diagram=ApplyStyle(style=Style(line_width=None, line_color=None, fill_color=<Color #ffe300>, fill_opacity=None, dashing=None, output_size=None), diagram=ApplyStyle(style=Style(line_width=(<WidthType.NORMALIZED: 2>, 0.04), line_color=None, fill_color=None, fill_opacity=None, dashing=None, output_size=None), diagram=Primitive(shape=Circle(radius=0.1), style=Style(line_width=None, line_color=None, fill_color=None, fill_opacity=None, dashing=None, output_size=None), transform=Affine(1.0, 0.0, 0.0,\n",
              "       0.0, 1.0, 0.0)))))))))), diagram2=Compose(envelope=<chalk.envelope.Envelope object at 0x78b39813e190>, diagram1=Compose(envelope=<chalk.envelope.Envelope object at 0x78b39813c250>, diagram1=Compose(envelope=<chalk.envelope.Envelope object at 0x78b39813c1d0>, diagram1=Empty(), diagram2=Empty()), diagram2=Empty()), diagram2=Compose(envelope=<chalk.envelope.Envelope object at 0x78b39813e0d0>, diagram1=Compose(envelope=<chalk.envelope.Envelope object at 0x78b39813c350>, diagram1=Empty(), diagram2=Compose(envelope=<chalk.envelope.Envelope object at 0x78b39813d210>, diagram1=Compose(envelope=<chalk.envelope.Envelope object at 0x78b39813cd50>, diagram1=Compose(envelope=<chalk.envelope.Envelope object at 0x78b39813c7d0>, diagram1=Empty(), diagram2=ApplyStyle(style=Style(line_width=None, line_color=<Color #af0>, fill_color=None, fill_opacity=None, dashing=None, output_size=None), diagram=ApplyStyle(style=Style(line_width=(<WidthType.NORMALIZED: 2>, 0.04), line_color=None, fill_color=None, fill_opacity=None, dashing=None, output_size=None), diagram=Primitive(shape=Path(points=Vec2Array([(0.0, 0.0), (5.295786208156444, 0.0)]), arrow=False), style=Style(line_width=None, line_color=None, fill_color=None, fill_opacity=None, dashing=None, output_size=None), transform=Affine(-0.7895428243610247, 0.6136954688605872, 4.5,\n",
              "       -0.6136954688605872, -0.7895428243610247, 1.75))))), diagram2=Compose(envelope=<chalk.envelope.Envelope object at 0x78b39813cc50>, diagram1=Empty(), diagram2=ApplyTransform(transform=Affine(1.0, 0.0, 5.0,\n",
              "       0.0, 1.0, 1.75), diagram=ApplyStyle(style=Style(line_width=(<WidthType.NORMALIZED: 2>, 0.15), line_color=None, fill_color=None, fill_opacity=None, dashing=None, output_size=None), diagram=ApplyStyle(style=Style(line_width=None, line_color=<Color #af0>, fill_color=None, fill_opacity=None, dashing=None, output_size=None), diagram=ApplyStyle(style=Style(line_width=None, line_color=None, fill_color=None, fill_opacity=0, dashing=None, output_size=None), diagram=Primitive(shape=Rectangle(width=0.95, height=0.95, radius=None), style=Style(line_width=None, line_color=None, fill_color=None, fill_opacity=None, dashing=None, output_size=None), transform=Affine(1.0, 0.0, 0.0,\n",
              "       0.0, 1.0, 0.0)))))))), diagram2=Compose(envelope=<chalk.envelope.Envelope object at 0x78b39813d150>, diagram1=Empty(), diagram2=ApplyTransform(transform=Affine(1.0, 0.0, 0.31875,\n",
              "       0.0, 1.0, -1.5), diagram=ApplyStyle(style=Style(line_width=None, line_color=None, fill_color=<Color #af0>, fill_opacity=None, dashing=None, output_size=None), diagram=ApplyStyle(style=Style(line_width=(<WidthType.NORMALIZED: 2>, 0.04), line_color=None, fill_color=None, fill_opacity=None, dashing=None, output_size=None), diagram=Primitive(shape=Circle(radius=0.1), style=Style(line_width=None, line_color=None, fill_color=None, fill_opacity=None, dashing=None, output_size=None), transform=Affine(1.0, 0.0, 0.0,\n",
              "       0.0, 1.0, 0.0)))))))), diagram2=Compose(envelope=<chalk.envelope.Envelope object at 0x78b39813e010>, diagram1=Compose(envelope=<chalk.envelope.Envelope object at 0x78b39813db50>, diagram1=Compose(envelope=<chalk.envelope.Envelope object at 0x78b39813d5d0>, diagram1=Empty(), diagram2=ApplyStyle(style=Style(line_width=None, line_color=<Color #af0>, fill_color=None, fill_opacity=None, dashing=None, output_size=None), diagram=ApplyStyle(style=Style(line_width=(<WidthType.NORMALIZED: 2>, 0.04), line_color=None, fill_color=None, fill_opacity=None, dashing=None, output_size=None), diagram=Primitive(shape=Path(points=Vec2Array([(0.0, 0.0), (5.295786208156444, 0.0)]), arrow=False), style=Style(line_width=None, line_color=None, fill_color=None, fill_opacity=None, dashing=None, output_size=None), transform=Affine(-0.789542824361025, -0.613695468860587, 4.5,\n",
              "       0.613695468860587, -0.789542824361025, 1.75))))), diagram2=Compose(envelope=<chalk.envelope.Envelope object at 0x78b39813da50>, diagram1=Empty(), diagram2=ApplyTransform(transform=Affine(1.0, 0.0, 5.0,\n",
              "       0.0, 1.0, 1.75), diagram=ApplyStyle(style=Style(line_width=(<WidthType.NORMALIZED: 2>, 0.15), line_color=None, fill_color=None, fill_opacity=None, dashing=None, output_size=None), diagram=ApplyStyle(style=Style(line_width=None, line_color=<Color #af0>, fill_color=None, fill_opacity=None, dashing=None, output_size=None), diagram=ApplyStyle(style=Style(line_width=None, line_color=None, fill_color=None, fill_opacity=0, dashing=None, output_size=None), diagram=Primitive(shape=Rectangle(width=0.95, height=0.95, radius=None), style=Style(line_width=None, line_color=None, fill_color=None, fill_opacity=None, dashing=None, output_size=None), transform=Affine(1.0, 0.0, 0.0,\n",
              "       0.0, 1.0, 0.0)))))))), diagram2=Compose(envelope=<chalk.envelope.Envelope object at 0x78b39813df50>, diagram1=Empty(), diagram2=ApplyTransform(transform=Affine(1.0, 0.0, 0.31875,\n",
              "       0.0, 1.0, 5.0), diagram=ApplyStyle(style=Style(line_width=None, line_color=None, fill_color=<Color #af0>, fill_opacity=None, dashing=None, output_size=None), diagram=ApplyStyle(style=Style(line_width=(<WidthType.NORMALIZED: 2>, 0.04), line_color=None, fill_color=None, fill_opacity=None, dashing=None, output_size=None), diagram=Primitive(shape=Circle(radius=0.1), style=Style(line_width=None, line_color=None, fill_color=None, fill_opacity=None, dashing=None, output_size=None), transform=Affine(1.0, 0.0, 0.0,\n",
              "       0.0, 1.0, 0.0))))))))))), diagram2=ApplyTransform(transform=Affine(1.0, 0.0, -0.0,\n",
              "       0.0, 1.0, -6.2501), diagram=Compose(envelope=<chalk.envelope.Envelope object at 0x78b39813eb90>, diagram1=Compose(envelope=<chalk.envelope.Envelope object at 0x78b39813e8d0>, diagram1=Primitive(shape=Spacer(width=0, height=0.5), style=Style(line_width=None, line_color=None, fill_color=None, fill_opacity=None, dashing=None, output_size=None), transform=Affine(1.0, 0.0, 0.0,\n",
              "       0.0, 1.0, 0.0)), diagram2=ApplyTransform(transform=Affine(1.0, 0.0, 0.0,\n",
              "       0.0, 1.0, 0.25), diagram=ApplyStyle(style=Style(line_width=(<WidthType.NORMALIZED: 2>, 0), line_color=None, fill_color=None, fill_opacity=None, dashing=None, output_size=None), diagram=ApplyStyle(style=Style(line_width=None, line_color=None, fill_color=<Color black>, fill_opacity=None, dashing=None, output_size=None), diagram=Primitive(shape=Text(text='Block 0 0', font_size=0.5), style=Style(line_width=None, line_color=None, fill_color=None, fill_opacity=None, dashing=None, output_size=None), transform=Affine(1.0, 0.0, 0.0,\n",
              "       0.0, 1.0, 0.0)))))), diagram2=ApplyTransform(transform=Affine(1.0, 0.0, 0.0,\n",
              "       0.0, 1.0, 0.5001), diagram=Primitive(shape=Spacer(width=0, height=0.5), style=Style(line_width=None, line_color=None, fill_color=None, fill_opacity=None, dashing=None, output_size=None), transform=Affine(1.0, 0.0, 0.0,\n",
              "       0.0, 1.0, 0.0))))))))), diagram2=ApplyTransform(transform=Affine(1.0, 0.0, 7.0,\n",
              "       0.0, 1.0, 0.0), diagram=Primitive(shape=Spacer(width=1, height=0), style=Style(line_width=None, line_color=None, fill_color=None, fill_opacity=None, dashing=None, output_size=None), transform=Affine(1.0, 0.0, 0.0,\n",
              "       0.0, 1.0, 0.0))))), diagram2=Empty()), diagram2=ApplyStyle(style=Style(line_width=None, line_color=None, fill_color=None, fill_opacity=0.0, dashing=None, output_size=None), diagram=ApplyStyle(style=Style(line_width=None, line_color=<Color gray>, fill_color=None, fill_opacity=None, dashing=None, output_size=None), diagram=Primitive(shape=Rectangle(width=9.6, height=14.40012, radius=0.5), style=Style(line_width=None, line_color=None, fill_color=None, fill_opacity=None, dashing=None, output_size=None), transform=Affine(1.0, 0.0, 0.0,\n",
              "       0.0, 1.0, 0.0))))), diagram2=Empty())))))), diagram2=Empty())))"
            ],
            "image/svg+xml": "<?xml version=\"1.0\" encoding=\"utf-8\" ?>\n<svg baseProfile=\"full\" height=\"1118.7127600000001\" version=\"1.1\" width=\"580\" xmlns=\"http://www.w3.org/2000/svg\" xmlns:ev=\"http://www.w3.org/2001/xml-events\" xmlns:xlink=\"http://www.w3.org/1999/xlink\"><defs><marker id=\"arrow\" markerHeight=\"3.5\" markerWidth=\"5\" orient=\"auto\" refX=\"5.0\" refY=\"1.7\"><polygon points=\"0,0 5,1.75 0,3.5\" /></marker></defs><g style=\"fill:white;\"><g transform=\"matrix(1.0, 0.0, 0.0, 1.0, 290.0, 558.5859166666667)\"><g transform=\"matrix(47.55345664436573, 0.0, 0.0, 47.55345664436573, 0.0, 0.0)\"><g><g transform=\"matrix(1.0, 0.0, 0.0, 1.0, -0.0, -0.0)\"><g><g style=\"fill: #ffffff;stroke: black;stroke-width: 1.5;\" transform=\"matrix(1.0, 0.0, 0.0, 1.0, 0.0, 0.0)\"><rect height=\"22.3742552\" style=\"vector-effect: non-scaling-stroke;\" width=\"11.616000000000001\" x=\"-5.808000000000001\" y=\"-11.1871276\" /></g><g transform=\"matrix(1.0, 0.0, 0.0, 1.0, -0.0, -10.3621276)\"><g><g><g><g><g><g><g style=\"stroke: black;stroke-width: 1.5;\" transform=\"matrix(1.0, 0.0, 0.0, 1.0, 0.0, 0.0)\"><g /></g><g transform=\"matrix(1.0, 0.0, 0.0, 1.0, 0.0, 0.75)\"><g style=\"stroke: black;stroke-width: 1.5;\" transform=\"matrix(1.0, 0.0, 0.0, 1.0, 0.0, 0.0)\"><text style=\"text-align:center; text-anchor:middle; dominant-baseline:middle;font-family:sans-serif; font-weight: bold;font-size:1px;vector-effect: non-scaling-stroke;\" transform=\"translate(-5e-05, 0)\">Zip</text></g></g></g><g transform=\"matrix(1.0, 0.0, 0.0, 1.0, 0.0, 1.2501)\"><g style=\"stroke: black;stroke-width: 1.5;\" transform=\"matrix(1.0, 0.0, 0.0, 1.0, 0.0, 0.0)\"><g /></g></g></g><g transform=\"matrix(1.0, 0.0, 0.0, 1.0, 0.0, 2.2500999999999998)\"><g transform=\"matrix(1.0, 0.0, 0.0, 1.0, -1.6500000000000001, -0.0)\"><g><g><g><g><g /><g transform=\"matrix(1.0, 0.0, 0.0, 1.0, 0.0, 0.0)\"><g><g style=\"fill: #ff0000;stroke: black;stroke-width: 1.5;fill-opacity: 0.7;\" transform=\"matrix(1.0, 0.0, 0.0, 1.0, 0.0, 0.0)\"><circle cx=\"0.0\" cy=\"0.0\" r=\"0.5\" style=\"vector-effect: non-scaling-stroke\" /></g><g style=\"stroke: black;stroke-width: 1.5;\" transform=\"matrix(0.0008333333333333334, 0.0, 0.0, 0.0008333333333333334, 0.0, 0.0)\"><image transform=\"translate(-600.0, -600.0)\" xlink:href=\"https://raw.githubusercontent.com/minitorch/diagrams/main/robot.png\" /></g></g></g></g><g transform=\"matrix(1.0, 0.0, 0.0, 1.0, 1.1, 0.0)\"><g><g style=\"fill: #ff7100;stroke: black;stroke-width: 1.5;fill-opacity: 0.7;\" transform=\"matrix(1.0, 0.0, 0.0, 1.0, 0.0, 0.0)\"><circle cx=\"0.0\" cy=\"0.0\" r=\"0.5\" style=\"vector-effect: non-scaling-stroke\" /></g><g style=\"stroke: black;stroke-width: 1.5;\" transform=\"matrix(0.0008333333333333334, 0.0, 0.0, 0.0008333333333333334, 0.0, 0.0)\"><image transform=\"translate(-600.0, -600.0)\" xlink:href=\"https://raw.githubusercontent.com/minitorch/diagrams/main/robot.png\" /></g></g></g></g><g transform=\"matrix(1.0, 0.0, 0.0, 1.0, 2.2, 0.0)\"><g><g style=\"fill: #ffe300;stroke: black;stroke-width: 1.5;fill-opacity: 0.7;\" transform=\"matrix(1.0, 0.0, 0.0, 1.0, 0.0, 0.0)\"><circle cx=\"0.0\" cy=\"0.0\" r=\"0.5\" style=\"vector-effect: non-scaling-stroke\" /></g><g style=\"stroke: black;stroke-width: 1.5;\" transform=\"matrix(0.0008333333333333334, 0.0, 0.0, 0.0008333333333333334, 0.0, 0.0)\"><image transform=\"translate(-600.0, -600.0)\" xlink:href=\"https://raw.githubusercontent.com/minitorch/diagrams/main/robot.png\" /></g></g></g></g><g transform=\"matrix(1.0, 0.0, 0.0, 1.0, 3.3000000000000003, 0.0)\"><g><g style=\"fill: #aaff00;stroke: black;stroke-width: 1.5;fill-opacity: 0.7;\" transform=\"matrix(1.0, 0.0, 0.0, 1.0, 0.0, 0.0)\"><circle cx=\"0.0\" cy=\"0.0\" r=\"0.5\" style=\"vector-effect: non-scaling-stroke\" /></g><g style=\"stroke: black;stroke-width: 1.5;\" transform=\"matrix(0.0008333333333333334, 0.0, 0.0, 0.0008333333333333334, 0.0, 0.0)\"><image transform=\"translate(-600.0, -600.0)\" xlink:href=\"https://raw.githubusercontent.com/minitorch/diagrams/main/robot.png\" /></g></g></g></g></g></g></g><g transform=\"matrix(1.0, 0.0, 0.0, 1.0, 0.0, 3.2500999999999998)\"><g style=\"stroke: black;stroke-width: 1.5;\" transform=\"matrix(1.0, 0.0, 0.0, 1.0, 0.0, 0.0)\"><g /></g></g></g><g transform=\"matrix(1.0, 0.0, 0.0, 1.0, 0.0, 11.670166)\"><g transform=\"matrix(1.0, 0.0, 0.0, 1.0, -0.0, -0.0)\"><g><g /><g transform=\"matrix(1.0, 0.0, 0.0, 1.0, 0.0, 0.0)\"><g><g><g><g transform=\"matrix(1.0, 0.0, 0.0, 1.0, -3.5, -0.0)\"><g><g><g style=\"stroke: black;stroke-width: 1.5;\" transform=\"matrix(1.0, 0.0, 0.0, 1.0, 0.0, 0.0)\"><g /></g><g transform=\"matrix(1.0, 0.0, 0.0, 1.0, 3.5, 0.0)\"><g transform=\"matrix(1.0, 0.0, 0.0, 1.0, -0.0, 0.5000499999999999)\"><g><g transform=\"matrix(1.0, 0.0, 0.0, 1.0, -2.5, -0.0)\"><g><g><g><g><g><g><g><g><g transform=\"matrix(1.0, 0.0, 0.0, 1.0, -0.0, -3.0)\"><g><g><g><g transform=\"matrix(1.0, 0.0, 0.0, 1.0, -0.0, -1.5)\"><g><g><g><g><g /><g><g style=\"stroke: black;stroke-width: 0.75;\" transform=\"matrix(1.0, 0.0, 0.0, 1.0, 0.0, 0.0)\"><rect height=\"1\" style=\"vector-effect: non-scaling-stroke;\" width=\"1\" x=\"-0.5\" y=\"-0.5\" /></g></g></g><g><g style=\"stroke: black;stroke-width: 0.75;\" transform=\"matrix(1.0, 0.0, 0.0, 1.0, 0.0, 1.0)\"><rect height=\"1\" style=\"vector-effect: non-scaling-stroke;\" width=\"1\" x=\"-0.5\" y=\"-0.5\" /></g></g></g><g><g style=\"stroke: black;stroke-width: 0.75;\" transform=\"matrix(1.0, 0.0, 0.0, 1.0, 0.0, 2.0)\"><rect height=\"1\" style=\"vector-effect: non-scaling-stroke;\" width=\"1\" x=\"-0.5\" y=\"-0.5\" /></g></g></g><g><g style=\"stroke: black;stroke-width: 0.75;\" transform=\"matrix(1.0, 0.0, 0.0, 1.0, 0.0, 3.0)\"><rect height=\"1\" style=\"vector-effect: non-scaling-stroke;\" width=\"1\" x=\"-0.5\" y=\"-0.5\" /></g></g></g></g><g transform=\"matrix(1.0, 0.0, 0.0, 1.0, -0.0, -2.25)\"><g><g style=\"fill: #000000;stroke: black;stroke-width: 0.0;\" transform=\"matrix(1.0, 0.0, 0.0, 1.0, 0.0, 0.0)\"><text style=\"text-align:center; text-anchor:middle; dominant-baseline:middle;font-family:sans-serif; font-weight: bold;font-size:0.5px;vector-effect: non-scaling-stroke;\" transform=\"translate(-5e-05, 0)\">a</text></g><g style=\"stroke: black;stroke-width: 1.5;\" transform=\"matrix(1.0, 0.0, 0.0, 1.0, 0.0, 0.0)\"><g /></g></g></g></g><g transform=\"matrix(1.0, 0.0, 0.0, 1.0, 0.0, 3.0)\"><g style=\"stroke: black;stroke-width: 1.5;\" transform=\"matrix(0.0, -1.0, 1.0, 0.0, 0.0, 0.0)\"><g /></g></g></g><g transform=\"matrix(1.0, 0.0, 0.0, 1.0, 0.0, 6.5)\"><g><g transform=\"matrix(1.0, 0.0, 0.0, 1.0, -0.0, -1.5)\"><g><g><g><g><g /><g><g style=\"stroke: black;stroke-width: 0.75;\" transform=\"matrix(1.0, 0.0, 0.0, 1.0, 0.0, 0.0)\"><rect height=\"1\" style=\"vector-effect: non-scaling-stroke;\" width=\"1\" x=\"-0.5\" y=\"-0.5\" /></g></g></g><g><g style=\"stroke: black;stroke-width: 0.75;\" transform=\"matrix(1.0, 0.0, 0.0, 1.0, 0.0, 1.0)\"><rect height=\"1\" style=\"vector-effect: non-scaling-stroke;\" width=\"1\" x=\"-0.5\" y=\"-0.5\" /></g></g></g><g><g style=\"stroke: black;stroke-width: 0.75;\" transform=\"matrix(1.0, 0.0, 0.0, 1.0, 0.0, 2.0)\"><rect height=\"1\" style=\"vector-effect: non-scaling-stroke;\" width=\"1\" x=\"-0.5\" y=\"-0.5\" /></g></g></g><g><g style=\"stroke: black;stroke-width: 0.75;\" transform=\"matrix(1.0, 0.0, 0.0, 1.0, 0.0, 3.0)\"><rect height=\"1\" style=\"vector-effect: non-scaling-stroke;\" width=\"1\" x=\"-0.5\" y=\"-0.5\" /></g></g></g></g><g transform=\"matrix(1.0, 0.0, 0.0, 1.0, -0.0, -2.25)\"><g><g style=\"fill: #000000;stroke: black;stroke-width: 0.0;\" transform=\"matrix(1.0, 0.0, 0.0, 1.0, 0.0, 0.0)\"><text style=\"text-align:center; text-anchor:middle; dominant-baseline:middle;font-family:sans-serif; font-weight: bold;font-size:0.5px;vector-effect: non-scaling-stroke;\" transform=\"translate(-5e-05, 0)\">b</text></g><g style=\"stroke: black;stroke-width: 1.5;\" transform=\"matrix(1.0, 0.0, 0.0, 1.0, 0.0, 0.0)\"><g /></g></g></g></g></g></g></g><g transform=\"matrix(1.0, 0.0, 0.0, 1.0, 1.5, 0.0)\"><g style=\"stroke: black;stroke-width: 1.5;\" transform=\"matrix(1.0, 0.0, 0.0, 1.0, 0.0, 0.0)\"><g /></g></g></g><g transform=\"matrix(1.0, 0.0, 0.0, 1.0, 2.5, 0.0)\"><g /></g></g><g transform=\"matrix(1.0, 0.0, 0.0, 1.0, 3.5, 0.0)\"><g style=\"stroke: black;stroke-width: 1.5;\" transform=\"matrix(1.0, 0.0, 0.0, 1.0, 0.0, 0.0)\"><g /></g></g></g><g transform=\"matrix(1.0, 0.0, 0.0, 1.0, 5.0, 0.0)\"><g transform=\"matrix(1.0, 0.0, 0.0, 1.0, -0.0, 0.25)\"><g><g transform=\"matrix(1.0, 0.0, 0.0, 1.0, -0.0, -1.5)\"><g><g><g><g><g /><g><g style=\"stroke: black;stroke-width: 0.75;\" transform=\"matrix(1.0, 0.0, 0.0, 1.0, 0.0, 0.0)\"><rect height=\"1\" style=\"vector-effect: non-scaling-stroke;\" width=\"1\" x=\"-0.5\" y=\"-0.5\" /></g></g></g><g><g style=\"stroke: black;stroke-width: 0.75;\" transform=\"matrix(1.0, 0.0, 0.0, 1.0, 0.0, 1.0)\"><rect height=\"1\" style=\"vector-effect: non-scaling-stroke;\" width=\"1\" x=\"-0.5\" y=\"-0.5\" /></g></g></g><g><g style=\"stroke: black;stroke-width: 0.75;\" transform=\"matrix(1.0, 0.0, 0.0, 1.0, 0.0, 2.0)\"><rect height=\"1\" style=\"vector-effect: non-scaling-stroke;\" width=\"1\" x=\"-0.5\" y=\"-0.5\" /></g></g></g><g><g style=\"stroke: black;stroke-width: 0.75;\" transform=\"matrix(1.0, 0.0, 0.0, 1.0, 0.0, 3.0)\"><rect height=\"1\" style=\"vector-effect: non-scaling-stroke;\" width=\"1\" x=\"-0.5\" y=\"-0.5\" /></g></g></g></g><g transform=\"matrix(1.0, 0.0, 0.0, 1.0, -0.0, -2.25)\"><g><g style=\"fill: #000000;stroke: black;stroke-width: 0.0;\" transform=\"matrix(1.0, 0.0, 0.0, 1.0, 0.0, 0.0)\"><text style=\"text-align:center; text-anchor:middle; dominant-baseline:middle;font-family:sans-serif; font-weight: bold;font-size:0.5px;vector-effect: non-scaling-stroke;\" transform=\"translate(-5e-05, 0)\">out</text></g><g style=\"stroke: black;stroke-width: 1.5;\" transform=\"matrix(1.0, 0.0, 0.0, 1.0, 0.0, 0.0)\"><g /></g></g></g></g></g></g></g><g><g><g><g /><g /></g><g /></g><g><g><g /><g><g><g><g /><g style=\"stroke: #ff0000;stroke-width: 0.6;\" transform=\"matrix(-0.8290605361347263, -0.5591588570558462, 0.5591588570558462, -0.8290605361347263, 4.5, -1.25)\"><polyline points=\"0.0,0.0 5.812301743930712,0.0\" style=\"vector-effect: non-scaling-stroke;\" /></g></g><g><g /><g transform=\"matrix(1.0, 0.0, 0.0, 1.0, 5.0, -1.25)\"><g style=\"stroke: #ff0000;stroke-width: 2.25;fill-opacity: 0;\" transform=\"matrix(1.0, 0.0, 0.0, 1.0, 0.0, 0.0)\"><rect height=\"0.95\" style=\"vector-effect: non-scaling-stroke;\" width=\"0.95\" x=\"-0.475\" y=\"-0.475\" /></g></g></g></g><g><g /><g transform=\"matrix(1.0, 0.0, 0.0, 1.0, -0.31875, -4.5)\"><g style=\"fill: #ff0000;stroke: black;stroke-width: 0.6;\" transform=\"matrix(1.0, 0.0, 0.0, 1.0, 0.0, 0.0)\"><circle cx=\"0.0\" cy=\"0.0\" r=\"0.1\" style=\"vector-effect: non-scaling-stroke\" /></g></g></g></g></g><g><g><g><g /><g style=\"stroke: #ff0000;stroke-width: 0.6;\" transform=\"matrix(-0.8290605361347262, 0.5591588570558463, -0.5591588570558463, -0.8290605361347262, 4.5, -1.25)\"><polyline points=\"0.0,0.0 5.812301743930712,0.0\" style=\"vector-effect: non-scaling-stroke;\" /></g></g><g><g /><g transform=\"matrix(1.0, 0.0, 0.0, 1.0, 5.0, -1.25)\"><g style=\"stroke: #ff0000;stroke-width: 2.25;fill-opacity: 0;\" transform=\"matrix(1.0, 0.0, 0.0, 1.0, 0.0, 0.0)\"><rect height=\"0.95\" style=\"vector-effect: non-scaling-stroke;\" width=\"0.95\" x=\"-0.475\" y=\"-0.475\" /></g></g></g></g><g><g /><g transform=\"matrix(1.0, 0.0, 0.0, 1.0, -0.31875, 2.0)\"><g style=\"fill: #ff0000;stroke: black;stroke-width: 0.6;\" transform=\"matrix(1.0, 0.0, 0.0, 1.0, 0.0, 0.0)\"><circle cx=\"0.0\" cy=\"0.0\" r=\"0.1\" style=\"vector-effect: non-scaling-stroke\" /></g></g></g></g></g></g></g><g><g><g><g /><g /></g><g /></g><g><g><g /><g><g><g><g /><g style=\"stroke: #ff7100;stroke-width: 0.6;\" transform=\"matrix(-0.8170907459179628, -0.5765090744604348, 0.5765090744604348, -0.8170907459179628, 4.5, -0.25)\"><polyline points=\"0.0,0.0 5.637378740381029,0.0\" style=\"vector-effect: non-scaling-stroke;\" /></g></g><g><g /><g transform=\"matrix(1.0, 0.0, 0.0, 1.0, 5.0, -0.25)\"><g style=\"stroke: #ff7100;stroke-width: 2.25;fill-opacity: 0;\" transform=\"matrix(1.0, 0.0, 0.0, 1.0, 0.0, 0.0)\"><rect height=\"0.95\" style=\"vector-effect: non-scaling-stroke;\" width=\"0.95\" x=\"-0.475\" y=\"-0.475\" /></g></g></g></g><g><g /><g transform=\"matrix(1.0, 0.0, 0.0, 1.0, -0.10625, -3.5)\"><g style=\"fill: #ff7100;stroke: black;stroke-width: 0.6;\" transform=\"matrix(1.0, 0.0, 0.0, 1.0, 0.0, 0.0)\"><circle cx=\"0.0\" cy=\"0.0\" r=\"0.1\" style=\"vector-effect: non-scaling-stroke\" /></g></g></g></g></g><g><g><g><g /><g style=\"stroke: #ff7100;stroke-width: 0.6;\" transform=\"matrix(-0.8170907459179627, 0.5765090744604349, -0.5765090744604349, -0.8170907459179627, 4.5, -0.25)\"><polyline points=\"0.0,0.0 5.637378740381029,0.0\" style=\"vector-effect: non-scaling-stroke;\" /></g></g><g><g /><g transform=\"matrix(1.0, 0.0, 0.0, 1.0, 5.0, -0.25)\"><g style=\"stroke: #ff7100;stroke-width: 2.25;fill-opacity: 0;\" transform=\"matrix(1.0, 0.0, 0.0, 1.0, 0.0, 0.0)\"><rect height=\"0.95\" style=\"vector-effect: non-scaling-stroke;\" width=\"0.95\" x=\"-0.475\" y=\"-0.475\" /></g></g></g></g><g><g /><g transform=\"matrix(1.0, 0.0, 0.0, 1.0, -0.10625, 3.0)\"><g style=\"fill: #ff7100;stroke: black;stroke-width: 0.6;\" transform=\"matrix(1.0, 0.0, 0.0, 1.0, 0.0, 0.0)\"><circle cx=\"0.0\" cy=\"0.0\" r=\"0.1\" style=\"vector-effect: non-scaling-stroke\" /></g></g></g></g></g></g></g><g><g><g><g /><g /></g><g /></g><g><g><g /><g><g><g><g /><g style=\"stroke: #ffe300;stroke-width: 0.6;\" transform=\"matrix(-0.8039621856304364, -0.594680421803452, 0.594680421803452, -0.8039621856304364, 4.5, 0.75)\"><polyline points=\"0.0,0.0 5.4651202239749495,0.0\" style=\"vector-effect: non-scaling-stroke;\" /></g></g><g><g /><g transform=\"matrix(1.0, 0.0, 0.0, 1.0, 5.0, 0.75)\"><g style=\"stroke: #ffe300;stroke-width: 2.25;fill-opacity: 0;\" transform=\"matrix(1.0, 0.0, 0.0, 1.0, 0.0, 0.0)\"><rect height=\"0.95\" style=\"vector-effect: non-scaling-stroke;\" width=\"0.95\" x=\"-0.475\" y=\"-0.475\" /></g></g></g></g><g><g /><g transform=\"matrix(1.0, 0.0, 0.0, 1.0, 0.10625, -2.5)\"><g style=\"fill: #ffe300;stroke: black;stroke-width: 0.6;\" transform=\"matrix(1.0, 0.0, 0.0, 1.0, 0.0, 0.0)\"><circle cx=\"0.0\" cy=\"0.0\" r=\"0.1\" style=\"vector-effect: non-scaling-stroke\" /></g></g></g></g></g><g><g><g><g /><g style=\"stroke: #ffe300;stroke-width: 0.6;\" transform=\"matrix(-0.8039621856304363, 0.5946804218034523, -0.5946804218034523, -0.8039621856304363, 4.5, 0.75)\"><polyline points=\"0.0,0.0 5.4651202239749495,0.0\" style=\"vector-effect: non-scaling-stroke;\" /></g></g><g><g /><g transform=\"matrix(1.0, 0.0, 0.0, 1.0, 5.0, 0.75)\"><g style=\"stroke: #ffe300;stroke-width: 2.25;fill-opacity: 0;\" transform=\"matrix(1.0, 0.0, 0.0, 1.0, 0.0, 0.0)\"><rect height=\"0.95\" style=\"vector-effect: non-scaling-stroke;\" width=\"0.95\" x=\"-0.475\" y=\"-0.475\" /></g></g></g></g><g><g /><g transform=\"matrix(1.0, 0.0, 0.0, 1.0, 0.10625, 4.0)\"><g style=\"fill: #ffe300;stroke: black;stroke-width: 0.6;\" transform=\"matrix(1.0, 0.0, 0.0, 1.0, 0.0, 0.0)\"><circle cx=\"0.0\" cy=\"0.0\" r=\"0.1\" style=\"vector-effect: non-scaling-stroke\" /></g></g></g></g></g></g></g><g><g><g><g /><g /></g><g /></g><g><g><g /><g><g><g><g /><g style=\"stroke: #aaff00;stroke-width: 0.6;\" transform=\"matrix(-0.7895428243610247, -0.6136954688605872, 0.6136954688605872, -0.7895428243610247, 4.5, 1.75)\"><polyline points=\"0.0,0.0 5.295786208156444,0.0\" style=\"vector-effect: non-scaling-stroke;\" /></g></g><g><g /><g transform=\"matrix(1.0, 0.0, 0.0, 1.0, 5.0, 1.75)\"><g style=\"stroke: #aaff00;stroke-width: 2.25;fill-opacity: 0;\" transform=\"matrix(1.0, 0.0, 0.0, 1.0, 0.0, 0.0)\"><rect height=\"0.95\" style=\"vector-effect: non-scaling-stroke;\" width=\"0.95\" x=\"-0.475\" y=\"-0.475\" /></g></g></g></g><g><g /><g transform=\"matrix(1.0, 0.0, 0.0, 1.0, 0.31875, -1.5)\"><g style=\"fill: #aaff00;stroke: black;stroke-width: 0.6;\" transform=\"matrix(1.0, 0.0, 0.0, 1.0, 0.0, 0.0)\"><circle cx=\"0.0\" cy=\"0.0\" r=\"0.1\" style=\"vector-effect: non-scaling-stroke\" /></g></g></g></g></g><g><g><g><g /><g style=\"stroke: #aaff00;stroke-width: 0.6;\" transform=\"matrix(-0.789542824361025, 0.613695468860587, -0.613695468860587, -0.789542824361025, 4.5, 1.75)\"><polyline points=\"0.0,0.0 5.295786208156444,0.0\" style=\"vector-effect: non-scaling-stroke;\" /></g></g><g><g /><g transform=\"matrix(1.0, 0.0, 0.0, 1.0, 5.0, 1.75)\"><g style=\"stroke: #aaff00;stroke-width: 2.25;fill-opacity: 0;\" transform=\"matrix(1.0, 0.0, 0.0, 1.0, 0.0, 0.0)\"><rect height=\"0.95\" style=\"vector-effect: non-scaling-stroke;\" width=\"0.95\" x=\"-0.475\" y=\"-0.475\" /></g></g></g></g><g><g /><g transform=\"matrix(1.0, 0.0, 0.0, 1.0, 0.31875, 5.0)\"><g style=\"fill: #aaff00;stroke: black;stroke-width: 0.6;\" transform=\"matrix(1.0, 0.0, 0.0, 1.0, 0.0, 0.0)\"><circle cx=\"0.0\" cy=\"0.0\" r=\"0.1\" style=\"vector-effect: non-scaling-stroke\" /></g></g></g></g></g></g></g></g><g transform=\"matrix(1.0, 0.0, 0.0, 1.0, -0.0, -6.2501)\"><g><g><g style=\"stroke: black;stroke-width: 1.5;\" transform=\"matrix(1.0, 0.0, 0.0, 1.0, 0.0, 0.0)\"><g /></g><g transform=\"matrix(1.0, 0.0, 0.0, 1.0, 0.0, 0.25)\"><g style=\"fill: #000000;stroke: black;stroke-width: 0.0;\" transform=\"matrix(1.0, 0.0, 0.0, 1.0, 0.0, 0.0)\"><text style=\"text-align:center; text-anchor:middle; dominant-baseline:middle;font-family:sans-serif; font-weight: bold;font-size:0.5px;vector-effect: non-scaling-stroke;\" transform=\"translate(-5e-05, 0)\">Block 0 0</text></g></g></g><g transform=\"matrix(1.0, 0.0, 0.0, 1.0, 0.0, 0.5001)\"><g style=\"stroke: black;stroke-width: 1.5;\" transform=\"matrix(1.0, 0.0, 0.0, 1.0, 0.0, 0.0)\"><g /></g></g></g></g></g></g></g></g><g transform=\"matrix(1.0, 0.0, 0.0, 1.0, 7.0, 0.0)\"><g style=\"stroke: black;stroke-width: 1.5;\" transform=\"matrix(1.0, 0.0, 0.0, 1.0, 0.0, 0.0)\"><g /></g></g></g></g><g /></g><g style=\"stroke: #808080;stroke-width: 1.5;fill-opacity: 0.0;\" transform=\"matrix(1.0, 0.0, 0.0, 1.0, 0.0, 0.0)\"><rect height=\"14.40012\" rx=\"0.5\" ry=\"0.5\" style=\"vector-effect: non-scaling-stroke;\" width=\"9.6\" x=\"-4.8\" y=\"-7.20006\" /></g></g><g /></g></g></g></g></g></g><g /></g></g></g></g><g /></g></g></g></g></svg>"
          },
          "metadata": {},
          "execution_count": 7
        }
      ],
      "source": [
        "def zip_spec(a, b):\n",
        "    return a + b\n",
        "\n",
        "\n",
        "def zip_test(cuda):\n",
        "    def call(out, a, b) -> None:\n",
        "        local_i = cuda.threadIdx.x\n",
        "        # FILL ME IN (roughly 1 lines)\n",
        "        out[local_i] = a[local_i] + b[local_i]\n",
        "\n",
        "    return call\n",
        "\n",
        "\n",
        "SIZE = 4\n",
        "out = np.zeros((SIZE,))\n",
        "a = np.arange(SIZE)\n",
        "b = np.arange(SIZE)\n",
        "problem = CudaProblem(\n",
        "    \"Zip\", zip_test, [a, b], out, threadsperblock=Coord(SIZE, 1), spec=zip_spec\n",
        ")\n",
        "problem.show()"
      ]
    },
    {
      "cell_type": "code",
      "execution_count": null,
      "id": "93ddda39",
      "metadata": {
        "id": "93ddda39"
      },
      "outputs": [],
      "source": []
    },
    {
      "cell_type": "code",
      "execution_count": 8,
      "id": "f5037564",
      "metadata": {
        "execution": {
          "iopub.execute_input": "2022-08-07T21:24:41.411997Z",
          "iopub.status.busy": "2022-08-07T21:24:41.411569Z",
          "iopub.status.idle": "2022-08-07T21:24:41.450428Z",
          "shell.execute_reply": "2022-08-07T21:24:41.449609Z"
        },
        "lines_to_end_of_cell_marker": 0,
        "lines_to_next_cell": 1,
        "id": "f5037564",
        "outputId": "fb4957aa-79fc-46ff-ff30-39d46c6630a3",
        "colab": {
          "base_uri": "https://localhost:8080/",
          "height": 433
        }
      },
      "outputs": [
        {
          "output_type": "stream",
          "name": "stdout",
          "text": [
            "Passed Tests!\n"
          ]
        },
        {
          "output_type": "execute_result",
          "data": {
            "text/plain": [
              "<IPython.core.display.HTML object>"
            ],
            "text/html": [
              "\n",
              "            <video alt=\"test\" controls autoplay=1>\n",
              "                <source src=\"https://openpuppies.com/mp4/aydRUz8.mp4\"  type=\"video/mp4\">\n",
              "            </video>\n",
              "            "
            ]
          },
          "metadata": {},
          "execution_count": 8
        }
      ],
      "source": [
        "problem.check()"
      ]
    },
    {
      "cell_type": "markdown",
      "id": "bb90ab5b",
      "metadata": {
        "id": "bb90ab5b"
      },
      "source": [
        "## Puzzle 3 - Guards\n",
        "\n",
        "Implement a kernel that adds 10 to each position of `a` and stores it in `out`.\n",
        "You have more threads than positions."
      ]
    },
    {
      "cell_type": "code",
      "execution_count": 10,
      "id": "f5c83704",
      "metadata": {
        "execution": {
          "iopub.execute_input": "2022-08-07T21:24:41.454648Z",
          "iopub.status.busy": "2022-08-07T21:24:41.454179Z",
          "iopub.status.idle": "2022-08-07T21:24:41.527083Z",
          "shell.execute_reply": "2022-08-07T21:24:41.526268Z"
        },
        "id": "f5c83704",
        "outputId": "d20bfc79-28c1-4769-e6a5-166e29f0ae5c",
        "colab": {
          "base_uri": "https://localhost:8080/",
          "height": 775
        }
      },
      "outputs": [
        {
          "output_type": "stream",
          "name": "stdout",
          "text": [
            "# Guard\n",
            " \n",
            "   Score (Max Per Thread):\n",
            "   |  Global Reads | Global Writes |  Shared Reads | Shared Writes |\n",
            "   |             1 |             1 |             0 |             0 | \n",
            "\n"
          ]
        },
        {
          "output_type": "execute_result",
          "data": {
            "text/plain": [
              "Compose(envelope=<chalk.envelope.Envelope object at 0x78b38c956850>, diagram1=ApplyStyle(style=Style(line_width=None, line_color=None, fill_color=<Color white>, fill_opacity=None, dashing=None, output_size=None), diagram=Primitive(shape=Rectangle(width=11.616000000000001, height=12.936255200000002, radius=None), style=Style(line_width=None, line_color=None, fill_color=None, fill_opacity=None, dashing=None, output_size=None), transform=Affine(1.0, 0.0, 0.0,\n",
              "       0.0, 1.0, 0.0))), diagram2=ApplyTransform(transform=Affine(1.0, 0.0, -0.0,\n",
              "       0.0, 1.0, -5.643127600000001), diagram=Compose(envelope=<chalk.envelope.Envelope object at 0x78b38c956450>, diagram1=Compose(envelope=<chalk.envelope.Envelope object at 0x78b38c956350>, diagram1=Compose(envelope=<chalk.envelope.Envelope object at 0x78b38c9560d0>, diagram1=Compose(envelope=<chalk.envelope.Envelope object at 0x78b38c955d90>, diagram1=Compose(envelope=<chalk.envelope.Envelope object at 0x78b38c955b90>, diagram1=Compose(envelope=<chalk.envelope.Envelope object at 0x78b38c9558d0>, diagram1=Primitive(shape=Spacer(width=0, height=1.5), style=Style(line_width=None, line_color=None, fill_color=None, fill_opacity=None, dashing=None, output_size=None), transform=Affine(1.0, 0.0, 0.0,\n",
              "       0.0, 1.0, 0.0)), diagram2=ApplyTransform(transform=Affine(1.0, 0.0, 0.0,\n",
              "       0.0, 1.0, 0.75), diagram=Primitive(shape=Text(text='Guard', font_size=1), style=Style(line_width=None, line_color=None, fill_color=None, fill_opacity=None, dashing=None, output_size=None), transform=Affine(1.0, 0.0, 0.0,\n",
              "       0.0, 1.0, 0.0)))), diagram2=ApplyTransform(transform=Affine(1.0, 0.0, 0.0,\n",
              "       0.0, 1.0, 1.2501), diagram=Primitive(shape=Spacer(width=0, height=1), style=Style(line_width=None, line_color=None, fill_color=None, fill_opacity=None, dashing=None, output_size=None), transform=Affine(1.0, 0.0, 0.0,\n",
              "       0.0, 1.0, 0.0)))), diagram2=ApplyTransform(transform=Affine(1.0, 0.0, 0.0,\n",
              "       0.0, 1.0, 2.2500999999999998), diagram=ApplyTransform(transform=Affine(1.0, 0.0, -3.8500000000000005,\n",
              "       0.0, 1.0, -0.0), diagram=Compose(envelope=<chalk.envelope.Envelope object at 0x78b38c955510>, diagram1=Compose(envelope=<chalk.envelope.Envelope object at 0x78b38c955390>, diagram1=Compose(envelope=<chalk.envelope.Envelope object at 0x78b38c955210>, diagram1=Compose(envelope=<chalk.envelope.Envelope object at 0x78b38c955090>, diagram1=Compose(envelope=<chalk.envelope.Envelope object at 0x78b38c954f10>, diagram1=Compose(envelope=<chalk.envelope.Envelope object at 0x78b38c954d90>, diagram1=Compose(envelope=<chalk.envelope.Envelope object at 0x78b38c954c10>, diagram1=Compose(envelope=<chalk.envelope.Envelope object at 0x78b38c954ad0>, diagram1=Empty(), diagram2=ApplyTransform(transform=Affine(1.0, 0.0, 0.0,\n",
              "       0.0, 1.0, 0.0), diagram=Compose(envelope=<chalk.envelope.Envelope object at 0x78b38c946b50>, diagram1=ApplyStyle(style=Style(line_width=None, line_color=None, fill_color=None, fill_opacity=0.7, dashing=None, output_size=None), diagram=ApplyStyle(style=Style(line_width=None, line_color=None, fill_color=<Color red>, fill_opacity=None, dashing=None, output_size=None), diagram=Primitive(shape=Circle(radius=0.5), style=Style(line_width=None, line_color=None, fill_color=None, fill_opacity=None, dashing=None, output_size=None), transform=Affine(1.0, 0.0, 0.0,\n",
              "       0.0, 1.0, 0.0)))), diagram2=Primitive(shape=Image(local_path='robot.png', url_path='https://raw.githubusercontent.com/minitorch/diagrams/main/robot.png'), style=Style(line_width=None, line_color=None, fill_color=None, fill_opacity=None, dashing=None, output_size=None), transform=Affine(0.0008333333333333334, 0.0, 0.0,\n",
              "       0.0, 0.0008333333333333334, 0.0))))), diagram2=ApplyTransform(transform=Affine(1.0, 0.0, 1.1,\n",
              "       0.0, 1.0, 0.0), diagram=Compose(envelope=<chalk.envelope.Envelope object at 0x78b38c946f90>, diagram1=ApplyStyle(style=Style(line_width=None, line_color=None, fill_color=None, fill_opacity=0.7, dashing=None, output_size=None), diagram=ApplyStyle(style=Style(line_width=None, line_color=None, fill_color=<Color #ff7100>, fill_opacity=None, dashing=None, output_size=None), diagram=Primitive(shape=Circle(radius=0.5), style=Style(line_width=None, line_color=None, fill_color=None, fill_opacity=None, dashing=None, output_size=None), transform=Affine(1.0, 0.0, 0.0,\n",
              "       0.0, 1.0, 0.0)))), diagram2=Primitive(shape=Image(local_path='robot.png', url_path='https://raw.githubusercontent.com/minitorch/diagrams/main/robot.png'), style=Style(line_width=None, line_color=None, fill_color=None, fill_opacity=None, dashing=None, output_size=None), transform=Affine(0.0008333333333333334, 0.0, 0.0,\n",
              "       0.0, 0.0008333333333333334, 0.0))))), diagram2=ApplyTransform(transform=Affine(1.0, 0.0, 2.2,\n",
              "       0.0, 1.0, 0.0), diagram=Compose(envelope=<chalk.envelope.Envelope object at 0x78b38c9473d0>, diagram1=ApplyStyle(style=Style(line_width=None, line_color=None, fill_color=None, fill_opacity=0.7, dashing=None, output_size=None), diagram=ApplyStyle(style=Style(line_width=None, line_color=None, fill_color=<Color #ffe300>, fill_opacity=None, dashing=None, output_size=None), diagram=Primitive(shape=Circle(radius=0.5), style=Style(line_width=None, line_color=None, fill_color=None, fill_opacity=None, dashing=None, output_size=None), transform=Affine(1.0, 0.0, 0.0,\n",
              "       0.0, 1.0, 0.0)))), diagram2=Primitive(shape=Image(local_path='robot.png', url_path='https://raw.githubusercontent.com/minitorch/diagrams/main/robot.png'), style=Style(line_width=None, line_color=None, fill_color=None, fill_opacity=None, dashing=None, output_size=None), transform=Affine(0.0008333333333333334, 0.0, 0.0,\n",
              "       0.0, 0.0008333333333333334, 0.0))))), diagram2=ApplyTransform(transform=Affine(1.0, 0.0, 3.3000000000000003,\n",
              "       0.0, 1.0, 0.0), diagram=Compose(envelope=<chalk.envelope.Envelope object at 0x78b38c947810>, diagram1=ApplyStyle(style=Style(line_width=None, line_color=None, fill_color=None, fill_opacity=0.7, dashing=None, output_size=None), diagram=ApplyStyle(style=Style(line_width=None, line_color=None, fill_color=<Color #af0>, fill_opacity=None, dashing=None, output_size=None), diagram=Primitive(shape=Circle(radius=0.5), style=Style(line_width=None, line_color=None, fill_color=None, fill_opacity=None, dashing=None, output_size=None), transform=Affine(1.0, 0.0, 0.0,\n",
              "       0.0, 1.0, 0.0)))), diagram2=Primitive(shape=Image(local_path='robot.png', url_path='https://raw.githubusercontent.com/minitorch/diagrams/main/robot.png'), style=Style(line_width=None, line_color=None, fill_color=None, fill_opacity=None, dashing=None, output_size=None), transform=Affine(0.0008333333333333334, 0.0, 0.0,\n",
              "       0.0, 0.0008333333333333334, 0.0))))), diagram2=ApplyTransform(transform=Affine(1.0, 0.0, 4.4,\n",
              "       0.0, 1.0, 0.0), diagram=Compose(envelope=<chalk.envelope.Envelope object at 0x78b38c947c50>, diagram1=ApplyStyle(style=Style(line_width=None, line_color=None, fill_color=None, fill_opacity=0.7, dashing=None, output_size=None), diagram=ApplyStyle(style=Style(line_width=None, line_color=None, fill_color=<Color #39ff00>, fill_opacity=None, dashing=None, output_size=None), diagram=Primitive(shape=Circle(radius=0.5), style=Style(line_width=None, line_color=None, fill_color=None, fill_opacity=None, dashing=None, output_size=None), transform=Affine(1.0, 0.0, 0.0,\n",
              "       0.0, 1.0, 0.0)))), diagram2=Primitive(shape=Image(local_path='robot.png', url_path='https://raw.githubusercontent.com/minitorch/diagrams/main/robot.png'), style=Style(line_width=None, line_color=None, fill_color=None, fill_opacity=None, dashing=None, output_size=None), transform=Affine(0.0008333333333333334, 0.0, 0.0,\n",
              "       0.0, 0.0008333333333333334, 0.0))))), diagram2=ApplyTransform(transform=Affine(1.0, 0.0, 5.5,\n",
              "       0.0, 1.0, 0.0), diagram=Compose(envelope=<chalk.envelope.Envelope object at 0x78b38c954110>, diagram1=ApplyStyle(style=Style(line_width=None, line_color=None, fill_color=None, fill_opacity=0.7, dashing=None, output_size=None), diagram=ApplyStyle(style=Style(line_width=None, line_color=None, fill_color=<Color #00ff39>, fill_opacity=None, dashing=None, output_size=None), diagram=Primitive(shape=Circle(radius=0.5), style=Style(line_width=None, line_color=None, fill_color=None, fill_opacity=None, dashing=None, output_size=None), transform=Affine(1.0, 0.0, 0.0,\n",
              "       0.0, 1.0, 0.0)))), diagram2=Primitive(shape=Image(local_path='robot.png', url_path='https://raw.githubusercontent.com/minitorch/diagrams/main/robot.png'), style=Style(line_width=None, line_color=None, fill_color=None, fill_opacity=None, dashing=None, output_size=None), transform=Affine(0.0008333333333333334, 0.0, 0.0,\n",
              "       0.0, 0.0008333333333333334, 0.0))))), diagram2=ApplyTransform(transform=Affine(1.0, 0.0, 6.6000000000000005,\n",
              "       0.0, 1.0, 0.0), diagram=Compose(envelope=<chalk.envelope.Envelope object at 0x78b38c954550>, diagram1=ApplyStyle(style=Style(line_width=None, line_color=None, fill_color=None, fill_opacity=0.7, dashing=None, output_size=None), diagram=ApplyStyle(style=Style(line_width=None, line_color=None, fill_color=<Color #0fa>, fill_opacity=None, dashing=None, output_size=None), diagram=Primitive(shape=Circle(radius=0.5), style=Style(line_width=None, line_color=None, fill_color=None, fill_opacity=None, dashing=None, output_size=None), transform=Affine(1.0, 0.0, 0.0,\n",
              "       0.0, 1.0, 0.0)))), diagram2=Primitive(shape=Image(local_path='robot.png', url_path='https://raw.githubusercontent.com/minitorch/diagrams/main/robot.png'), style=Style(line_width=None, line_color=None, fill_color=None, fill_opacity=None, dashing=None, output_size=None), transform=Affine(0.0008333333333333334, 0.0, 0.0,\n",
              "       0.0, 0.0008333333333333334, 0.0))))), diagram2=ApplyTransform(transform=Affine(1.0, 0.0, 7.700000000000001,\n",
              "       0.0, 1.0, 0.0), diagram=Compose(envelope=<chalk.envelope.Envelope object at 0x78b38c954990>, diagram1=ApplyStyle(style=Style(line_width=None, line_color=None, fill_color=None, fill_opacity=0.7, dashing=None, output_size=None), diagram=ApplyStyle(style=Style(line_width=None, line_color=None, fill_color=<Color #00e3ff>, fill_opacity=None, dashing=None, output_size=None), diagram=Primitive(shape=Circle(radius=0.5), style=Style(line_width=None, line_color=None, fill_color=None, fill_opacity=None, dashing=None, output_size=None), transform=Affine(1.0, 0.0, 0.0,\n",
              "       0.0, 1.0, 0.0)))), diagram2=Primitive(shape=Image(local_path='robot.png', url_path='https://raw.githubusercontent.com/minitorch/diagrams/main/robot.png'), style=Style(line_width=None, line_color=None, fill_color=None, fill_opacity=None, dashing=None, output_size=None), transform=Affine(0.0008333333333333334, 0.0, 0.0,\n",
              "       0.0, 0.0008333333333333334, 0.0)))))))), diagram2=ApplyTransform(transform=Affine(1.0, 0.0, 0.0,\n",
              "       0.0, 1.0, 3.2500999999999998), diagram=Primitive(shape=Spacer(width=0, height=1), style=Style(line_width=None, line_color=None, fill_color=None, fill_opacity=None, dashing=None, output_size=None), transform=Affine(1.0, 0.0, 0.0,\n",
              "       0.0, 1.0, 0.0)))), diagram2=ApplyTransform(transform=Affine(1.0, 0.0, 0.0,\n",
              "       0.0, 1.0, 7.380166), diagram=ApplyTransform(transform=Affine(1.0, 0.0, -0.0,\n",
              "       0.0, 1.0, -0.0), diagram=Compose(envelope=<chalk.envelope.Envelope object at 0x78b38c9467d0>, diagram1=Empty(), diagram2=ApplyTransform(transform=Affine(1.0, 0.0, 0.0,\n",
              "       0.0, 1.0, 0.0), diagram=Compose(envelope=<chalk.envelope.Envelope object at 0x78b38c946490>, diagram1=Compose(envelope=<chalk.envelope.Envelope object at 0x78b38c946390>, diagram1=Compose(envelope=<chalk.envelope.Envelope object at 0x78b38c945d50>, diagram1=ApplyTransform(transform=Affine(1.0, 0.0, -3.5,\n",
              "       0.0, 1.0, -0.0), diagram=Compose(envelope=<chalk.envelope.Envelope object at 0x78b38c945bd0>, diagram1=Compose(envelope=<chalk.envelope.Envelope object at 0x78b38c9458d0>, diagram1=Primitive(shape=Spacer(width=1, height=0), style=Style(line_width=None, line_color=None, fill_color=None, fill_opacity=None, dashing=None, output_size=None), transform=Affine(1.0, 0.0, 0.0,\n",
              "       0.0, 1.0, 0.0)), diagram2=ApplyTransform(transform=Affine(1.0, 0.0, 3.5,\n",
              "       0.0, 1.0, 0.0), diagram=ApplyTransform(transform=Affine(1.0, 0.0, -0.0,\n",
              "       0.0, 1.0, 0.5000499999999999), diagram=Compose(envelope=<chalk.envelope.Envelope object at 0x78b38c945710>, diagram1=ApplyTransform(transform=Affine(1.0, 0.0, -2.5,\n",
              "       0.0, 1.0, -0.0), diagram=Compose(envelope=<chalk.envelope.Envelope object at 0x78b38c944990>, diagram1=Compose(envelope=<chalk.envelope.Envelope object at 0x78b38c944710>, diagram1=Compose(envelope=<chalk.envelope.Envelope object at 0x78b38c944490>, diagram1=Compose(envelope=<chalk.envelope.Envelope object at 0x78b38c944210>, diagram1=Compose(envelope=<chalk.envelope.Envelope object at 0x78b38c937f10>, diagram1=Compose(envelope=<chalk.envelope.Envelope object at 0x78b38c936c90>, diagram1=Compose(envelope=<chalk.envelope.Envelope object at 0x78b38c935a50>, diagram1=Compose(envelope=<chalk.envelope.Envelope object at 0x78b38c934810>, diagram1=Compose(envelope=<chalk.envelope.Envelope object at 0x78b38c92b690>, diagram1=Compose(envelope=<chalk.envelope.Envelope object at 0x78b38c92b4d0>, diagram1=Compose(envelope=<chalk.envelope.Envelope object at 0x78b38c92b290>, diagram1=Compose(envelope=<chalk.envelope.Envelope object at 0x78b38c92b150>, diagram1=ApplyTransform(transform=Affine(1.0, 0.0, -0.0,\n",
              "       0.0, 1.0, 0.25), diagram=Compose(envelope=<chalk.envelope.Envelope object at 0x78b38c929ad0>, diagram1=ApplyStyle(style=Style(line_width=(<WidthType.NORMALIZED: 2>, 0.05), line_color=None, fill_color=None, fill_opacity=None, dashing=None, output_size=None), diagram=ApplyTransform(transform=Affine(1.0, 0.0, -0.0,\n",
              "       0.0, 1.0, -1.5), diagram=Compose(envelope=<chalk.envelope.Envelope object at 0x78b38c929710>, diagram1=Compose(envelope=<chalk.envelope.Envelope object at 0x78b38c929590>, diagram1=Compose(envelope=<chalk.envelope.Envelope object at 0x78b38c929410>, diagram1=Compose(envelope=<chalk.envelope.Envelope object at 0x78b38c929250>, diagram1=Empty(), diagram2=ApplyName(dname=('a', 0), diagram=Primitive(shape=Rectangle(width=1, height=1, radius=None), style=Style(line_width=None, line_color=None, fill_color=None, fill_opacity=None, dashing=None, output_size=None), transform=Affine(1.0, 0.0, 0.0,\n",
              "       0.0, 1.0, 0.0)))), diagram2=ApplyName(dname=('a', 1), diagram=Primitive(shape=Rectangle(width=1, height=1, radius=None), style=Style(line_width=None, line_color=None, fill_color=None, fill_opacity=None, dashing=None, output_size=None), transform=Affine(1.0, 0.0, 0.0,\n",
              "       0.0, 1.0, 1.0)))), diagram2=ApplyName(dname=('a', 2), diagram=Primitive(shape=Rectangle(width=1, height=1, radius=None), style=Style(line_width=None, line_color=None, fill_color=None, fill_opacity=None, dashing=None, output_size=None), transform=Affine(1.0, 0.0, 0.0,\n",
              "       0.0, 1.0, 2.0)))), diagram2=ApplyName(dname=('a', 3), diagram=Primitive(shape=Rectangle(width=1, height=1, radius=None), style=Style(line_width=None, line_color=None, fill_color=None, fill_opacity=None, dashing=None, output_size=None), transform=Affine(1.0, 0.0, 0.0,\n",
              "       0.0, 1.0, 3.0)))))), diagram2=ApplyTransform(transform=Affine(1.0, 0.0, -0.0,\n",
              "       0.0, 1.0, -2.25), diagram=Compose(envelope=<chalk.envelope.Envelope object at 0x78b38c9299d0>, diagram1=ApplyStyle(style=Style(line_width=(<WidthType.NORMALIZED: 2>, 0.0), line_color=None, fill_color=None, fill_opacity=None, dashing=None, output_size=None), diagram=ApplyStyle(style=Style(line_width=None, line_color=None, fill_color=<Color black>, fill_opacity=None, dashing=None, output_size=None), diagram=Primitive(shape=Text(text='a', font_size=0.5), style=Style(line_width=None, line_color=None, fill_color=None, fill_opacity=None, dashing=None, output_size=None), transform=Affine(1.0, 0.0, 0.0,\n",
              "       0.0, 1.0, 0.0)))), diagram2=Primitive(shape=Spacer(width=0, height=0.5), style=Style(line_width=None, line_color=None, fill_color=None, fill_opacity=None, dashing=None, output_size=None), transform=Affine(1.0, 0.0, 0.0,\n",
              "       0.0, 1.0, 0.0)))))), diagram2=ApplyTransform(transform=Affine(1.0, 0.0, 1.5,\n",
              "       0.0, 1.0, 0.0), diagram=Primitive(shape=Spacer(width=2.0, height=0), style=Style(line_width=None, line_color=None, fill_color=None, fill_opacity=None, dashing=None, output_size=None), transform=Affine(1.0, 0.0, 0.0,\n",
              "       0.0, 1.0, 0.0)))), diagram2=ApplyTransform(transform=Affine(1.0, 0.0, 2.5,\n",
              "       0.0, 1.0, 0.0), diagram=Empty())), diagram2=ApplyTransform(transform=Affine(1.0, 0.0, 3.5,\n",
              "       0.0, 1.0, 0.0), diagram=Primitive(shape=Spacer(width=2.0, height=0), style=Style(line_width=None, line_color=None, fill_color=None, fill_opacity=None, dashing=None, output_size=None), transform=Affine(1.0, 0.0, 0.0,\n",
              "       0.0, 1.0, 0.0)))), diagram2=ApplyTransform(transform=Affine(1.0, 0.0, 5.0,\n",
              "       0.0, 1.0, 0.0), diagram=ApplyTransform(transform=Affine(1.0, 0.0, -0.0,\n",
              "       0.0, 1.0, 0.25), diagram=Compose(envelope=<chalk.envelope.Envelope object at 0x78b38c92ae10>, diagram1=ApplyStyle(style=Style(line_width=(<WidthType.NORMALIZED: 2>, 0.05), line_color=None, fill_color=None, fill_opacity=None, dashing=None, output_size=None), diagram=ApplyTransform(transform=Affine(1.0, 0.0, -0.0,\n",
              "       0.0, 1.0, -1.5), diagram=Compose(envelope=<chalk.envelope.Envelope object at 0x78b38c92a8d0>, diagram1=Compose(envelope=<chalk.envelope.Envelope object at 0x78b38c92a6d0>, diagram1=Compose(envelope=<chalk.envelope.Envelope object at 0x78b38c92a4d0>, diagram1=Compose(envelope=<chalk.envelope.Envelope object at 0x78b38c92a310>, diagram1=Empty(), diagram2=ApplyName(dname=('out', 0), diagram=Primitive(shape=Rectangle(width=1, height=1, radius=None), style=Style(line_width=None, line_color=None, fill_color=None, fill_opacity=None, dashing=None, output_size=None), transform=Affine(1.0, 0.0, 0.0,\n",
              "       0.0, 1.0, 0.0)))), diagram2=ApplyName(dname=('out', 1), diagram=Primitive(shape=Rectangle(width=1, height=1, radius=None), style=Style(line_width=None, line_color=None, fill_color=None, fill_opacity=None, dashing=None, output_size=None), transform=Affine(1.0, 0.0, 0.0,\n",
              "       0.0, 1.0, 1.0)))), diagram2=ApplyName(dname=('out', 2), diagram=Primitive(shape=Rectangle(width=1, height=1, radius=None), style=Style(line_width=None, line_color=None, fill_color=None, fill_opacity=None, dashing=None, output_size=None), transform=Affine(1.0, 0.0, 0.0,\n",
              "       0.0, 1.0, 2.0)))), diagram2=ApplyName(dname=('out', 3), diagram=Primitive(shape=Rectangle(width=1, height=1, radius=None), style=Style(line_width=None, line_color=None, fill_color=None, fill_opacity=None, dashing=None, output_size=None), transform=Affine(1.0, 0.0, 0.0,\n",
              "       0.0, 1.0, 3.0)))))), diagram2=ApplyTransform(transform=Affine(1.0, 0.0, -0.0,\n",
              "       0.0, 1.0, -2.25), diagram=Compose(envelope=<chalk.envelope.Envelope object at 0x78b38c92ac90>, diagram1=ApplyStyle(style=Style(line_width=(<WidthType.NORMALIZED: 2>, 0.0), line_color=None, fill_color=None, fill_opacity=None, dashing=None, output_size=None), diagram=ApplyStyle(style=Style(line_width=None, line_color=None, fill_color=<Color black>, fill_opacity=None, dashing=None, output_size=None), diagram=Primitive(shape=Text(text='out', font_size=0.5), style=Style(line_width=None, line_color=None, fill_color=None, fill_opacity=None, dashing=None, output_size=None), transform=Affine(1.0, 0.0, 0.0,\n",
              "       0.0, 1.0, 0.0)))), diagram2=Primitive(shape=Spacer(width=0, height=0.5), style=Style(line_width=None, line_color=None, fill_color=None, fill_opacity=None, dashing=None, output_size=None), transform=Affine(1.0, 0.0, 0.0,\n",
              "       0.0, 1.0, 0.0)))))))), diagram2=Compose(envelope=<chalk.envelope.Envelope object at 0x78b3981b00d0>, diagram1=Compose(envelope=<chalk.envelope.Envelope object at 0x78b38c92b810>, diagram1=Empty(), diagram2=Empty()), diagram2=Compose(envelope=<chalk.envelope.Envelope object at 0x78b38c92b910>, diagram1=Empty(), diagram2=Compose(envelope=<chalk.envelope.Envelope object at 0x78b38c934750>, diagram1=Compose(envelope=<chalk.envelope.Envelope object at 0x78b38c934290>, diagram1=Compose(envelope=<chalk.envelope.Envelope object at 0x78b38c92bcd0>, diagram1=Empty(), diagram2=ApplyStyle(style=Style(line_width=None, line_color=<Color red>, fill_color=None, fill_opacity=None, dashing=None, output_size=None), diagram=ApplyStyle(style=Style(line_width=(<WidthType.NORMALIZED: 2>, 0.04), line_color=None, fill_color=None, fill_opacity=None, dashing=None, output_size=None), diagram=Primitive(shape=Path(points=Vec2Array([(0.0, 0.0), (4.871875, 0.0)]), arrow=False), style=Style(line_width=None, line_color=None, fill_color=None, fill_opacity=None, dashing=None, output_size=None), transform=Affine(-1.0, 0.0, 4.5,\n",
              "       0.0, -1.0, -1.25))))), diagram2=Compose(envelope=<chalk.envelope.Envelope object at 0x78b38c934150>, diagram1=Empty(), diagram2=ApplyTransform(transform=Affine(1.0, 0.0, 5.0,\n",
              "       0.0, 1.0, -1.25), diagram=ApplyStyle(style=Style(line_width=(<WidthType.NORMALIZED: 2>, 0.15), line_color=None, fill_color=None, fill_opacity=None, dashing=None, output_size=None), diagram=ApplyStyle(style=Style(line_width=None, line_color=<Color red>, fill_color=None, fill_opacity=None, dashing=None, output_size=None), diagram=ApplyStyle(style=Style(line_width=None, line_color=None, fill_color=None, fill_opacity=0, dashing=None, output_size=None), diagram=Primitive(shape=Rectangle(width=0.95, height=0.95, radius=None), style=Style(line_width=None, line_color=None, fill_color=None, fill_opacity=None, dashing=None, output_size=None), transform=Affine(1.0, 0.0, 0.0,\n",
              "       0.0, 1.0, 0.0)))))))), diagram2=Compose(envelope=<chalk.envelope.Envelope object at 0x78b38c934690>, diagram1=Empty(), diagram2=ApplyTransform(transform=Affine(1.0, 0.0, -0.371875,\n",
              "       0.0, 1.0, -1.25), diagram=ApplyStyle(style=Style(line_width=None, line_color=None, fill_color=<Color red>, fill_opacity=None, dashing=None, output_size=None), diagram=ApplyStyle(style=Style(line_width=(<WidthType.NORMALIZED: 2>, 0.04), line_color=None, fill_color=None, fill_opacity=None, dashing=None, output_size=None), diagram=Primitive(shape=Circle(radius=0.1), style=Style(line_width=None, line_color=None, fill_color=None, fill_opacity=None, dashing=None, output_size=None), transform=Affine(1.0, 0.0, 0.0,\n",
              "       0.0, 1.0, 0.0)))))))))), diagram2=Compose(envelope=<chalk.envelope.Envelope object at 0x78b38c934b10>, diagram1=Compose(envelope=<chalk.envelope.Envelope object at 0x78b38c9349d0>, diagram1=Empty(), diagram2=Empty()), diagram2=Compose(envelope=<chalk.envelope.Envelope object at 0x78b38c934ad0>, diagram1=Empty(), diagram2=Compose(envelope=<chalk.envelope.Envelope object at 0x78b38c935950>, diagram1=Compose(envelope=<chalk.envelope.Envelope object at 0x78b38c935490>, diagram1=Compose(envelope=<chalk.envelope.Envelope object at 0x78b38c934f10>, diagram1=Empty(), diagram2=ApplyStyle(style=Style(line_width=None, line_color=<Color #ff7100>, fill_color=None, fill_opacity=None, dashing=None, output_size=None), diagram=ApplyStyle(style=Style(line_width=(<WidthType.NORMALIZED: 2>, 0.04), line_color=None, fill_color=None, fill_opacity=None, dashing=None, output_size=None), diagram=Primitive(shape=Path(points=Vec2Array([(0.0, 0.0), (4.765625, 0.0)]), arrow=False), style=Style(line_width=None, line_color=None, fill_color=None, fill_opacity=None, dashing=None, output_size=None), transform=Affine(-1.0, 0.0, 4.5,\n",
              "       0.0, -1.0, -0.25))))), diagram2=Compose(envelope=<chalk.envelope.Envelope object at 0x78b38c935390>, diagram1=Empty(), diagram2=ApplyTransform(transform=Affine(1.0, 0.0, 5.0,\n",
              "       0.0, 1.0, -0.25), diagram=ApplyStyle(style=Style(line_width=(<WidthType.NORMALIZED: 2>, 0.15), line_color=None, fill_color=None, fill_opacity=None, dashing=None, output_size=None), diagram=ApplyStyle(style=Style(line_width=None, line_color=<Color #ff7100>, fill_color=None, fill_opacity=None, dashing=None, output_size=None), diagram=ApplyStyle(style=Style(line_width=None, line_color=None, fill_color=None, fill_opacity=0, dashing=None, output_size=None), diagram=Primitive(shape=Rectangle(width=0.95, height=0.95, radius=None), style=Style(line_width=None, line_color=None, fill_color=None, fill_opacity=None, dashing=None, output_size=None), transform=Affine(1.0, 0.0, 0.0,\n",
              "       0.0, 1.0, 0.0)))))))), diagram2=Compose(envelope=<chalk.envelope.Envelope object at 0x78b38c935890>, diagram1=Empty(), diagram2=ApplyTransform(transform=Affine(1.0, 0.0, -0.265625,\n",
              "       0.0, 1.0, -0.25), diagram=ApplyStyle(style=Style(line_width=None, line_color=None, fill_color=<Color #ff7100>, fill_opacity=None, dashing=None, output_size=None), diagram=ApplyStyle(style=Style(line_width=(<WidthType.NORMALIZED: 2>, 0.04), line_color=None, fill_color=None, fill_opacity=None, dashing=None, output_size=None), diagram=Primitive(shape=Circle(radius=0.1), style=Style(line_width=None, line_color=None, fill_color=None, fill_opacity=None, dashing=None, output_size=None), transform=Affine(1.0, 0.0, 0.0,\n",
              "       0.0, 1.0, 0.0)))))))))), diagram2=Compose(envelope=<chalk.envelope.Envelope object at 0x78b38c935d50>, diagram1=Compose(envelope=<chalk.envelope.Envelope object at 0x78b38c935c10>, diagram1=Empty(), diagram2=Empty()), diagram2=Compose(envelope=<chalk.envelope.Envelope object at 0x78b38c935d10>, diagram1=Empty(), diagram2=Compose(envelope=<chalk.envelope.Envelope object at 0x78b38c936b90>, diagram1=Compose(envelope=<chalk.envelope.Envelope object at 0x78b38c9366d0>, diagram1=Compose(envelope=<chalk.envelope.Envelope object at 0x78b38c936150>, diagram1=Empty(), diagram2=ApplyStyle(style=Style(line_width=None, line_color=<Color #ffe300>, fill_color=None, fill_opacity=None, dashing=None, output_size=None), diagram=ApplyStyle(style=Style(line_width=(<WidthType.NORMALIZED: 2>, 0.04), line_color=None, fill_color=None, fill_opacity=None, dashing=None, output_size=None), diagram=Primitive(shape=Path(points=Vec2Array([(0.0, 0.0), (4.659375, 0.0)]), arrow=False), style=Style(line_width=None, line_color=None, fill_color=None, fill_opacity=None, dashing=None, output_size=None), transform=Affine(-1.0, 0.0, 4.5,\n",
              "       0.0, -1.0, 0.75))))), diagram2=Compose(envelope=<chalk.envelope.Envelope object at 0x78b38c9365d0>, diagram1=Empty(), diagram2=ApplyTransform(transform=Affine(1.0, 0.0, 5.0,\n",
              "       0.0, 1.0, 0.75), diagram=ApplyStyle(style=Style(line_width=(<WidthType.NORMALIZED: 2>, 0.15), line_color=None, fill_color=None, fill_opacity=None, dashing=None, output_size=None), diagram=ApplyStyle(style=Style(line_width=None, line_color=<Color #ffe300>, fill_color=None, fill_opacity=None, dashing=None, output_size=None), diagram=ApplyStyle(style=Style(line_width=None, line_color=None, fill_color=None, fill_opacity=0, dashing=None, output_size=None), diagram=Primitive(shape=Rectangle(width=0.95, height=0.95, radius=None), style=Style(line_width=None, line_color=None, fill_color=None, fill_opacity=None, dashing=None, output_size=None), transform=Affine(1.0, 0.0, 0.0,\n",
              "       0.0, 1.0, 0.0)))))))), diagram2=Compose(envelope=<chalk.envelope.Envelope object at 0x78b38c936ad0>, diagram1=Empty(), diagram2=ApplyTransform(transform=Affine(1.0, 0.0, -0.159375,\n",
              "       0.0, 1.0, 0.75), diagram=ApplyStyle(style=Style(line_width=None, line_color=None, fill_color=<Color #ffe300>, fill_opacity=None, dashing=None, output_size=None), diagram=ApplyStyle(style=Style(line_width=(<WidthType.NORMALIZED: 2>, 0.04), line_color=None, fill_color=None, fill_opacity=None, dashing=None, output_size=None), diagram=Primitive(shape=Circle(radius=0.1), style=Style(line_width=None, line_color=None, fill_color=None, fill_opacity=None, dashing=None, output_size=None), transform=Affine(1.0, 0.0, 0.0,\n",
              "       0.0, 1.0, 0.0)))))))))), diagram2=Compose(envelope=<chalk.envelope.Envelope object at 0x78b38c936f90>, diagram1=Compose(envelope=<chalk.envelope.Envelope object at 0x78b38c936e50>, diagram1=Empty(), diagram2=Empty()), diagram2=Compose(envelope=<chalk.envelope.Envelope object at 0x78b38c936f50>, diagram1=Empty(), diagram2=Compose(envelope=<chalk.envelope.Envelope object at 0x78b38c937e10>, diagram1=Compose(envelope=<chalk.envelope.Envelope object at 0x78b38c937910>, diagram1=Compose(envelope=<chalk.envelope.Envelope object at 0x78b38c937390>, diagram1=Empty(), diagram2=ApplyStyle(style=Style(line_width=None, line_color=<Color #af0>, fill_color=None, fill_opacity=None, dashing=None, output_size=None), diagram=ApplyStyle(style=Style(line_width=(<WidthType.NORMALIZED: 2>, 0.04), line_color=None, fill_color=None, fill_opacity=None, dashing=None, output_size=None), diagram=Primitive(shape=Path(points=Vec2Array([(0.0, 0.0), (4.553125, 0.0)]), arrow=False), style=Style(line_width=None, line_color=None, fill_color=None, fill_opacity=None, dashing=None, output_size=None), transform=Affine(-1.0, 0.0, 4.5,\n",
              "       0.0, -1.0, 1.75))))), diagram2=Compose(envelope=<chalk.envelope.Envelope object at 0x78b38c937810>, diagram1=Empty(), diagram2=ApplyTransform(transform=Affine(1.0, 0.0, 5.0,\n",
              "       0.0, 1.0, 1.75), diagram=ApplyStyle(style=Style(line_width=(<WidthType.NORMALIZED: 2>, 0.15), line_color=None, fill_color=None, fill_opacity=None, dashing=None, output_size=None), diagram=ApplyStyle(style=Style(line_width=None, line_color=<Color #af0>, fill_color=None, fill_opacity=None, dashing=None, output_size=None), diagram=ApplyStyle(style=Style(line_width=None, line_color=None, fill_color=None, fill_opacity=0, dashing=None, output_size=None), diagram=Primitive(shape=Rectangle(width=0.95, height=0.95, radius=None), style=Style(line_width=None, line_color=None, fill_color=None, fill_opacity=None, dashing=None, output_size=None), transform=Affine(1.0, 0.0, 0.0,\n",
              "       0.0, 1.0, 0.0)))))))), diagram2=Compose(envelope=<chalk.envelope.Envelope object at 0x78b38c937d50>, diagram1=Empty(), diagram2=ApplyTransform(transform=Affine(1.0, 0.0, -0.053125,\n",
              "       0.0, 1.0, 1.75), diagram=ApplyStyle(style=Style(line_width=None, line_color=None, fill_color=<Color #af0>, fill_opacity=None, dashing=None, output_size=None), diagram=ApplyStyle(style=Style(line_width=(<WidthType.NORMALIZED: 2>, 0.04), line_color=None, fill_color=None, fill_opacity=None, dashing=None, output_size=None), diagram=Primitive(shape=Circle(radius=0.1), style=Style(line_width=None, line_color=None, fill_color=None, fill_opacity=None, dashing=None, output_size=None), transform=Affine(1.0, 0.0, 0.0,\n",
              "       0.0, 1.0, 0.0)))))))))), diagram2=Compose(envelope=<chalk.envelope.Envelope object at 0x78b38c944190>, diagram1=Compose(envelope=<chalk.envelope.Envelope object at 0x78b38c944110>, diagram1=Empty(), diagram2=Empty()), diagram2=Empty())), diagram2=Compose(envelope=<chalk.envelope.Envelope object at 0x78b38c944410>, diagram1=Compose(envelope=<chalk.envelope.Envelope object at 0x78b38c944390>, diagram1=Empty(), diagram2=Empty()), diagram2=Empty())), diagram2=Compose(envelope=<chalk.envelope.Envelope object at 0x78b38c944690>, diagram1=Compose(envelope=<chalk.envelope.Envelope object at 0x78b38c944610>, diagram1=Empty(), diagram2=Empty()), diagram2=Empty())), diagram2=Compose(envelope=<chalk.envelope.Envelope object at 0x78b38c944910>, diagram1=Compose(envelope=<chalk.envelope.Envelope object at 0x78b38c944890>, diagram1=Empty(), diagram2=Empty()), diagram2=Empty()))), diagram2=ApplyTransform(transform=Affine(1.0, 0.0, -0.0,\n",
              "       0.0, 1.0, -3.0000999999999998), diagram=Compose(envelope=<chalk.envelope.Envelope object at 0x78b38c945490>, diagram1=Compose(envelope=<chalk.envelope.Envelope object at 0x78b38c9451d0>, diagram1=Primitive(shape=Spacer(width=0, height=0.5), style=Style(line_width=None, line_color=None, fill_color=None, fill_opacity=None, dashing=None, output_size=None), transform=Affine(1.0, 0.0, 0.0,\n",
              "       0.0, 1.0, 0.0)), diagram2=ApplyTransform(transform=Affine(1.0, 0.0, 0.0,\n",
              "       0.0, 1.0, 0.25), diagram=ApplyStyle(style=Style(line_width=(<WidthType.NORMALIZED: 2>, 0), line_color=None, fill_color=None, fill_opacity=None, dashing=None, output_size=None), diagram=ApplyStyle(style=Style(line_width=None, line_color=None, fill_color=<Color black>, fill_opacity=None, dashing=None, output_size=None), diagram=Primitive(shape=Text(text='Block 0 0', font_size=0.5), style=Style(line_width=None, line_color=None, fill_color=None, fill_opacity=None, dashing=None, output_size=None), transform=Affine(1.0, 0.0, 0.0,\n",
              "       0.0, 1.0, 0.0)))))), diagram2=ApplyTransform(transform=Affine(1.0, 0.0, 0.0,\n",
              "       0.0, 1.0, 0.5001), diagram=Primitive(shape=Spacer(width=0, height=0.5), style=Style(line_width=None, line_color=None, fill_color=None, fill_opacity=None, dashing=None, output_size=None), transform=Affine(1.0, 0.0, 0.0,\n",
              "       0.0, 1.0, 0.0))))))))), diagram2=ApplyTransform(transform=Affine(1.0, 0.0, 7.0,\n",
              "       0.0, 1.0, 0.0), diagram=Primitive(shape=Spacer(width=1, height=0), style=Style(line_width=None, line_color=None, fill_color=None, fill_opacity=None, dashing=None, output_size=None), transform=Affine(1.0, 0.0, 0.0,\n",
              "       0.0, 1.0, 0.0))))), diagram2=Empty()), diagram2=ApplyStyle(style=Style(line_width=None, line_color=None, fill_color=None, fill_opacity=0.0, dashing=None, output_size=None), diagram=ApplyStyle(style=Style(line_width=None, line_color=<Color gray>, fill_color=None, fill_opacity=None, dashing=None, output_size=None), diagram=Primitive(shape=Rectangle(width=9.6, height=6.6001199999999995, radius=0.5), style=Style(line_width=None, line_color=None, fill_color=None, fill_opacity=None, dashing=None, output_size=None), transform=Affine(1.0, 0.0, 0.0,\n",
              "       0.0, 1.0, 0.0))))), diagram2=Empty())))))), diagram2=Empty())))"
            ],
            "image/svg+xml": "<?xml version=\"1.0\" encoding=\"utf-8\" ?>\n<svg baseProfile=\"full\" height=\"646.81276\" version=\"1.1\" width=\"580\" xmlns=\"http://www.w3.org/2000/svg\" xmlns:ev=\"http://www.w3.org/2001/xml-events\" xmlns:xlink=\"http://www.w3.org/1999/xlink\"><defs><marker id=\"arrow\" markerHeight=\"3.5\" markerWidth=\"5\" orient=\"auto\" refX=\"5.0\" refY=\"1.7\"><polygon points=\"0,0 5,1.75 0,3.5\" /></marker></defs><g style=\"fill:white;\"><g transform=\"matrix(1.0, 0.0, 0.0, 1.0, 290.0, 322.9609166666667)\"><g transform=\"matrix(47.55345664436573, 0.0, 0.0, 47.55345664436573, 0.0, 0.0)\"><g><g transform=\"matrix(1.0, 0.0, 0.0, 1.0, -0.0, -0.0)\"><g><g style=\"fill: #ffffff;stroke: black;stroke-width: 1.5;\" transform=\"matrix(1.0, 0.0, 0.0, 1.0, 0.0, 0.0)\"><rect height=\"12.936255200000002\" style=\"vector-effect: non-scaling-stroke;\" width=\"11.616000000000001\" x=\"-5.808000000000001\" y=\"-6.468127600000001\" /></g><g transform=\"matrix(1.0, 0.0, 0.0, 1.0, -0.0, -5.643127600000001)\"><g><g><g><g><g><g><g style=\"stroke: black;stroke-width: 1.5;\" transform=\"matrix(1.0, 0.0, 0.0, 1.0, 0.0, 0.0)\"><g /></g><g transform=\"matrix(1.0, 0.0, 0.0, 1.0, 0.0, 0.75)\"><g style=\"stroke: black;stroke-width: 1.5;\" transform=\"matrix(1.0, 0.0, 0.0, 1.0, 0.0, 0.0)\"><text style=\"text-align:center; text-anchor:middle; dominant-baseline:middle;font-family:sans-serif; font-weight: bold;font-size:1px;vector-effect: non-scaling-stroke;\" transform=\"translate(-5e-05, 0)\">Guard</text></g></g></g><g transform=\"matrix(1.0, 0.0, 0.0, 1.0, 0.0, 1.2501)\"><g style=\"stroke: black;stroke-width: 1.5;\" transform=\"matrix(1.0, 0.0, 0.0, 1.0, 0.0, 0.0)\"><g /></g></g></g><g transform=\"matrix(1.0, 0.0, 0.0, 1.0, 0.0, 2.2500999999999998)\"><g transform=\"matrix(1.0, 0.0, 0.0, 1.0, -3.8500000000000005, -0.0)\"><g><g><g><g><g><g><g><g><g /><g transform=\"matrix(1.0, 0.0, 0.0, 1.0, 0.0, 0.0)\"><g><g style=\"fill: #ff0000;stroke: black;stroke-width: 1.5;fill-opacity: 0.7;\" transform=\"matrix(1.0, 0.0, 0.0, 1.0, 0.0, 0.0)\"><circle cx=\"0.0\" cy=\"0.0\" r=\"0.5\" style=\"vector-effect: non-scaling-stroke\" /></g><g style=\"stroke: black;stroke-width: 1.5;\" transform=\"matrix(0.0008333333333333334, 0.0, 0.0, 0.0008333333333333334, 0.0, 0.0)\"><image transform=\"translate(-600.0, -600.0)\" xlink:href=\"https://raw.githubusercontent.com/minitorch/diagrams/main/robot.png\" /></g></g></g></g><g transform=\"matrix(1.0, 0.0, 0.0, 1.0, 1.1, 0.0)\"><g><g style=\"fill: #ff7100;stroke: black;stroke-width: 1.5;fill-opacity: 0.7;\" transform=\"matrix(1.0, 0.0, 0.0, 1.0, 0.0, 0.0)\"><circle cx=\"0.0\" cy=\"0.0\" r=\"0.5\" style=\"vector-effect: non-scaling-stroke\" /></g><g style=\"stroke: black;stroke-width: 1.5;\" transform=\"matrix(0.0008333333333333334, 0.0, 0.0, 0.0008333333333333334, 0.0, 0.0)\"><image transform=\"translate(-600.0, -600.0)\" xlink:href=\"https://raw.githubusercontent.com/minitorch/diagrams/main/robot.png\" /></g></g></g></g><g transform=\"matrix(1.0, 0.0, 0.0, 1.0, 2.2, 0.0)\"><g><g style=\"fill: #ffe300;stroke: black;stroke-width: 1.5;fill-opacity: 0.7;\" transform=\"matrix(1.0, 0.0, 0.0, 1.0, 0.0, 0.0)\"><circle cx=\"0.0\" cy=\"0.0\" r=\"0.5\" style=\"vector-effect: non-scaling-stroke\" /></g><g style=\"stroke: black;stroke-width: 1.5;\" transform=\"matrix(0.0008333333333333334, 0.0, 0.0, 0.0008333333333333334, 0.0, 0.0)\"><image transform=\"translate(-600.0, -600.0)\" xlink:href=\"https://raw.githubusercontent.com/minitorch/diagrams/main/robot.png\" /></g></g></g></g><g transform=\"matrix(1.0, 0.0, 0.0, 1.0, 3.3000000000000003, 0.0)\"><g><g style=\"fill: #aaff00;stroke: black;stroke-width: 1.5;fill-opacity: 0.7;\" transform=\"matrix(1.0, 0.0, 0.0, 1.0, 0.0, 0.0)\"><circle cx=\"0.0\" cy=\"0.0\" r=\"0.5\" style=\"vector-effect: non-scaling-stroke\" /></g><g style=\"stroke: black;stroke-width: 1.5;\" transform=\"matrix(0.0008333333333333334, 0.0, 0.0, 0.0008333333333333334, 0.0, 0.0)\"><image transform=\"translate(-600.0, -600.0)\" xlink:href=\"https://raw.githubusercontent.com/minitorch/diagrams/main/robot.png\" /></g></g></g></g><g transform=\"matrix(1.0, 0.0, 0.0, 1.0, 4.4, 0.0)\"><g><g style=\"fill: #39ff00;stroke: black;stroke-width: 1.5;fill-opacity: 0.7;\" transform=\"matrix(1.0, 0.0, 0.0, 1.0, 0.0, 0.0)\"><circle cx=\"0.0\" cy=\"0.0\" r=\"0.5\" style=\"vector-effect: non-scaling-stroke\" /></g><g style=\"stroke: black;stroke-width: 1.5;\" transform=\"matrix(0.0008333333333333334, 0.0, 0.0, 0.0008333333333333334, 0.0, 0.0)\"><image transform=\"translate(-600.0, -600.0)\" xlink:href=\"https://raw.githubusercontent.com/minitorch/diagrams/main/robot.png\" /></g></g></g></g><g transform=\"matrix(1.0, 0.0, 0.0, 1.0, 5.5, 0.0)\"><g><g style=\"fill: #00ff39;stroke: black;stroke-width: 1.5;fill-opacity: 0.7;\" transform=\"matrix(1.0, 0.0, 0.0, 1.0, 0.0, 0.0)\"><circle cx=\"0.0\" cy=\"0.0\" r=\"0.5\" style=\"vector-effect: non-scaling-stroke\" /></g><g style=\"stroke: black;stroke-width: 1.5;\" transform=\"matrix(0.0008333333333333334, 0.0, 0.0, 0.0008333333333333334, 0.0, 0.0)\"><image transform=\"translate(-600.0, -600.0)\" xlink:href=\"https://raw.githubusercontent.com/minitorch/diagrams/main/robot.png\" /></g></g></g></g><g transform=\"matrix(1.0, 0.0, 0.0, 1.0, 6.6000000000000005, 0.0)\"><g><g style=\"fill: #00ffaa;stroke: black;stroke-width: 1.5;fill-opacity: 0.7;\" transform=\"matrix(1.0, 0.0, 0.0, 1.0, 0.0, 0.0)\"><circle cx=\"0.0\" cy=\"0.0\" r=\"0.5\" style=\"vector-effect: non-scaling-stroke\" /></g><g style=\"stroke: black;stroke-width: 1.5;\" transform=\"matrix(0.0008333333333333334, 0.0, 0.0, 0.0008333333333333334, 0.0, 0.0)\"><image transform=\"translate(-600.0, -600.0)\" xlink:href=\"https://raw.githubusercontent.com/minitorch/diagrams/main/robot.png\" /></g></g></g></g><g transform=\"matrix(1.0, 0.0, 0.0, 1.0, 7.700000000000001, 0.0)\"><g><g style=\"fill: #00e3ff;stroke: black;stroke-width: 1.5;fill-opacity: 0.7;\" transform=\"matrix(1.0, 0.0, 0.0, 1.0, 0.0, 0.0)\"><circle cx=\"0.0\" cy=\"0.0\" r=\"0.5\" style=\"vector-effect: non-scaling-stroke\" /></g><g style=\"stroke: black;stroke-width: 1.5;\" transform=\"matrix(0.0008333333333333334, 0.0, 0.0, 0.0008333333333333334, 0.0, 0.0)\"><image transform=\"translate(-600.0, -600.0)\" xlink:href=\"https://raw.githubusercontent.com/minitorch/diagrams/main/robot.png\" /></g></g></g></g></g></g></g><g transform=\"matrix(1.0, 0.0, 0.0, 1.0, 0.0, 3.2500999999999998)\"><g style=\"stroke: black;stroke-width: 1.5;\" transform=\"matrix(1.0, 0.0, 0.0, 1.0, 0.0, 0.0)\"><g /></g></g></g><g transform=\"matrix(1.0, 0.0, 0.0, 1.0, 0.0, 7.380166)\"><g transform=\"matrix(1.0, 0.0, 0.0, 1.0, -0.0, -0.0)\"><g><g /><g transform=\"matrix(1.0, 0.0, 0.0, 1.0, 0.0, 0.0)\"><g><g><g><g transform=\"matrix(1.0, 0.0, 0.0, 1.0, -3.5, -0.0)\"><g><g><g style=\"stroke: black;stroke-width: 1.5;\" transform=\"matrix(1.0, 0.0, 0.0, 1.0, 0.0, 0.0)\"><g /></g><g transform=\"matrix(1.0, 0.0, 0.0, 1.0, 3.5, 0.0)\"><g transform=\"matrix(1.0, 0.0, 0.0, 1.0, -0.0, 0.5000499999999999)\"><g><g transform=\"matrix(1.0, 0.0, 0.0, 1.0, -2.5, -0.0)\"><g><g><g><g><g><g><g><g><g><g><g><g><g transform=\"matrix(1.0, 0.0, 0.0, 1.0, -0.0, 0.25)\"><g><g transform=\"matrix(1.0, 0.0, 0.0, 1.0, -0.0, -1.5)\"><g><g><g><g><g /><g><g style=\"stroke: black;stroke-width: 0.75;\" transform=\"matrix(1.0, 0.0, 0.0, 1.0, 0.0, 0.0)\"><rect height=\"1\" style=\"vector-effect: non-scaling-stroke;\" width=\"1\" x=\"-0.5\" y=\"-0.5\" /></g></g></g><g><g style=\"stroke: black;stroke-width: 0.75;\" transform=\"matrix(1.0, 0.0, 0.0, 1.0, 0.0, 1.0)\"><rect height=\"1\" style=\"vector-effect: non-scaling-stroke;\" width=\"1\" x=\"-0.5\" y=\"-0.5\" /></g></g></g><g><g style=\"stroke: black;stroke-width: 0.75;\" transform=\"matrix(1.0, 0.0, 0.0, 1.0, 0.0, 2.0)\"><rect height=\"1\" style=\"vector-effect: non-scaling-stroke;\" width=\"1\" x=\"-0.5\" y=\"-0.5\" /></g></g></g><g><g style=\"stroke: black;stroke-width: 0.75;\" transform=\"matrix(1.0, 0.0, 0.0, 1.0, 0.0, 3.0)\"><rect height=\"1\" style=\"vector-effect: non-scaling-stroke;\" width=\"1\" x=\"-0.5\" y=\"-0.5\" /></g></g></g></g><g transform=\"matrix(1.0, 0.0, 0.0, 1.0, -0.0, -2.25)\"><g><g style=\"fill: #000000;stroke: black;stroke-width: 0.0;\" transform=\"matrix(1.0, 0.0, 0.0, 1.0, 0.0, 0.0)\"><text style=\"text-align:center; text-anchor:middle; dominant-baseline:middle;font-family:sans-serif; font-weight: bold;font-size:0.5px;vector-effect: non-scaling-stroke;\" transform=\"translate(-5e-05, 0)\">a</text></g><g style=\"stroke: black;stroke-width: 1.5;\" transform=\"matrix(1.0, 0.0, 0.0, 1.0, 0.0, 0.0)\"><g /></g></g></g></g></g><g transform=\"matrix(1.0, 0.0, 0.0, 1.0, 1.5, 0.0)\"><g style=\"stroke: black;stroke-width: 1.5;\" transform=\"matrix(1.0, 0.0, 0.0, 1.0, 0.0, 0.0)\"><g /></g></g></g><g transform=\"matrix(1.0, 0.0, 0.0, 1.0, 2.5, 0.0)\"><g /></g></g><g transform=\"matrix(1.0, 0.0, 0.0, 1.0, 3.5, 0.0)\"><g style=\"stroke: black;stroke-width: 1.5;\" transform=\"matrix(1.0, 0.0, 0.0, 1.0, 0.0, 0.0)\"><g /></g></g></g><g transform=\"matrix(1.0, 0.0, 0.0, 1.0, 5.0, 0.0)\"><g transform=\"matrix(1.0, 0.0, 0.0, 1.0, -0.0, 0.25)\"><g><g transform=\"matrix(1.0, 0.0, 0.0, 1.0, -0.0, -1.5)\"><g><g><g><g><g /><g><g style=\"stroke: black;stroke-width: 0.75;\" transform=\"matrix(1.0, 0.0, 0.0, 1.0, 0.0, 0.0)\"><rect height=\"1\" style=\"vector-effect: non-scaling-stroke;\" width=\"1\" x=\"-0.5\" y=\"-0.5\" /></g></g></g><g><g style=\"stroke: black;stroke-width: 0.75;\" transform=\"matrix(1.0, 0.0, 0.0, 1.0, 0.0, 1.0)\"><rect height=\"1\" style=\"vector-effect: non-scaling-stroke;\" width=\"1\" x=\"-0.5\" y=\"-0.5\" /></g></g></g><g><g style=\"stroke: black;stroke-width: 0.75;\" transform=\"matrix(1.0, 0.0, 0.0, 1.0, 0.0, 2.0)\"><rect height=\"1\" style=\"vector-effect: non-scaling-stroke;\" width=\"1\" x=\"-0.5\" y=\"-0.5\" /></g></g></g><g><g style=\"stroke: black;stroke-width: 0.75;\" transform=\"matrix(1.0, 0.0, 0.0, 1.0, 0.0, 3.0)\"><rect height=\"1\" style=\"vector-effect: non-scaling-stroke;\" width=\"1\" x=\"-0.5\" y=\"-0.5\" /></g></g></g></g><g transform=\"matrix(1.0, 0.0, 0.0, 1.0, -0.0, -2.25)\"><g><g style=\"fill: #000000;stroke: black;stroke-width: 0.0;\" transform=\"matrix(1.0, 0.0, 0.0, 1.0, 0.0, 0.0)\"><text style=\"text-align:center; text-anchor:middle; dominant-baseline:middle;font-family:sans-serif; font-weight: bold;font-size:0.5px;vector-effect: non-scaling-stroke;\" transform=\"translate(-5e-05, 0)\">out</text></g><g style=\"stroke: black;stroke-width: 1.5;\" transform=\"matrix(1.0, 0.0, 0.0, 1.0, 0.0, 0.0)\"><g /></g></g></g></g></g></g></g><g><g><g /><g /></g><g><g /><g><g><g><g /><g style=\"stroke: #ff0000;stroke-width: 0.6;\" transform=\"matrix(-1.0, 0.0, 0.0, -1.0, 4.5, -1.25)\"><polyline points=\"0.0,0.0 4.871875,0.0\" style=\"vector-effect: non-scaling-stroke;\" /></g></g><g><g /><g transform=\"matrix(1.0, 0.0, 0.0, 1.0, 5.0, -1.25)\"><g style=\"stroke: #ff0000;stroke-width: 2.25;fill-opacity: 0;\" transform=\"matrix(1.0, 0.0, 0.0, 1.0, 0.0, 0.0)\"><rect height=\"0.95\" style=\"vector-effect: non-scaling-stroke;\" width=\"0.95\" x=\"-0.475\" y=\"-0.475\" /></g></g></g></g><g><g /><g transform=\"matrix(1.0, 0.0, 0.0, 1.0, -0.371875, -1.25)\"><g style=\"fill: #ff0000;stroke: black;stroke-width: 0.6;\" transform=\"matrix(1.0, 0.0, 0.0, 1.0, 0.0, 0.0)\"><circle cx=\"0.0\" cy=\"0.0\" r=\"0.1\" style=\"vector-effect: non-scaling-stroke\" /></g></g></g></g></g></g></g><g><g><g /><g /></g><g><g /><g><g><g><g /><g style=\"stroke: #ff7100;stroke-width: 0.6;\" transform=\"matrix(-1.0, 0.0, 0.0, -1.0, 4.5, -0.25)\"><polyline points=\"0.0,0.0 4.765625,0.0\" style=\"vector-effect: non-scaling-stroke;\" /></g></g><g><g /><g transform=\"matrix(1.0, 0.0, 0.0, 1.0, 5.0, -0.25)\"><g style=\"stroke: #ff7100;stroke-width: 2.25;fill-opacity: 0;\" transform=\"matrix(1.0, 0.0, 0.0, 1.0, 0.0, 0.0)\"><rect height=\"0.95\" style=\"vector-effect: non-scaling-stroke;\" width=\"0.95\" x=\"-0.475\" y=\"-0.475\" /></g></g></g></g><g><g /><g transform=\"matrix(1.0, 0.0, 0.0, 1.0, -0.265625, -0.25)\"><g style=\"fill: #ff7100;stroke: black;stroke-width: 0.6;\" transform=\"matrix(1.0, 0.0, 0.0, 1.0, 0.0, 0.0)\"><circle cx=\"0.0\" cy=\"0.0\" r=\"0.1\" style=\"vector-effect: non-scaling-stroke\" /></g></g></g></g></g></g></g><g><g><g /><g /></g><g><g /><g><g><g><g /><g style=\"stroke: #ffe300;stroke-width: 0.6;\" transform=\"matrix(-1.0, 0.0, 0.0, -1.0, 4.5, 0.75)\"><polyline points=\"0.0,0.0 4.659375,0.0\" style=\"vector-effect: non-scaling-stroke;\" /></g></g><g><g /><g transform=\"matrix(1.0, 0.0, 0.0, 1.0, 5.0, 0.75)\"><g style=\"stroke: #ffe300;stroke-width: 2.25;fill-opacity: 0;\" transform=\"matrix(1.0, 0.0, 0.0, 1.0, 0.0, 0.0)\"><rect height=\"0.95\" style=\"vector-effect: non-scaling-stroke;\" width=\"0.95\" x=\"-0.475\" y=\"-0.475\" /></g></g></g></g><g><g /><g transform=\"matrix(1.0, 0.0, 0.0, 1.0, -0.159375, 0.75)\"><g style=\"fill: #ffe300;stroke: black;stroke-width: 0.6;\" transform=\"matrix(1.0, 0.0, 0.0, 1.0, 0.0, 0.0)\"><circle cx=\"0.0\" cy=\"0.0\" r=\"0.1\" style=\"vector-effect: non-scaling-stroke\" /></g></g></g></g></g></g></g><g><g><g /><g /></g><g><g /><g><g><g><g /><g style=\"stroke: #aaff00;stroke-width: 0.6;\" transform=\"matrix(-1.0, 0.0, 0.0, -1.0, 4.5, 1.75)\"><polyline points=\"0.0,0.0 4.553125,0.0\" style=\"vector-effect: non-scaling-stroke;\" /></g></g><g><g /><g transform=\"matrix(1.0, 0.0, 0.0, 1.0, 5.0, 1.75)\"><g style=\"stroke: #aaff00;stroke-width: 2.25;fill-opacity: 0;\" transform=\"matrix(1.0, 0.0, 0.0, 1.0, 0.0, 0.0)\"><rect height=\"0.95\" style=\"vector-effect: non-scaling-stroke;\" width=\"0.95\" x=\"-0.475\" y=\"-0.475\" /></g></g></g></g><g><g /><g transform=\"matrix(1.0, 0.0, 0.0, 1.0, -0.053125, 1.75)\"><g style=\"fill: #aaff00;stroke: black;stroke-width: 0.6;\" transform=\"matrix(1.0, 0.0, 0.0, 1.0, 0.0, 0.0)\"><circle cx=\"0.0\" cy=\"0.0\" r=\"0.1\" style=\"vector-effect: non-scaling-stroke\" /></g></g></g></g></g></g></g><g><g><g /><g /></g><g /></g></g><g><g><g /><g /></g><g /></g></g><g><g><g /><g /></g><g /></g></g><g><g><g /><g /></g><g /></g></g></g><g transform=\"matrix(1.0, 0.0, 0.0, 1.0, -0.0, -3.0000999999999998)\"><g><g><g style=\"stroke: black;stroke-width: 1.5;\" transform=\"matrix(1.0, 0.0, 0.0, 1.0, 0.0, 0.0)\"><g /></g><g transform=\"matrix(1.0, 0.0, 0.0, 1.0, 0.0, 0.25)\"><g style=\"fill: #000000;stroke: black;stroke-width: 0.0;\" transform=\"matrix(1.0, 0.0, 0.0, 1.0, 0.0, 0.0)\"><text style=\"text-align:center; text-anchor:middle; dominant-baseline:middle;font-family:sans-serif; font-weight: bold;font-size:0.5px;vector-effect: non-scaling-stroke;\" transform=\"translate(-5e-05, 0)\">Block 0 0</text></g></g></g><g transform=\"matrix(1.0, 0.0, 0.0, 1.0, 0.0, 0.5001)\"><g style=\"stroke: black;stroke-width: 1.5;\" transform=\"matrix(1.0, 0.0, 0.0, 1.0, 0.0, 0.0)\"><g /></g></g></g></g></g></g></g></g><g transform=\"matrix(1.0, 0.0, 0.0, 1.0, 7.0, 0.0)\"><g style=\"stroke: black;stroke-width: 1.5;\" transform=\"matrix(1.0, 0.0, 0.0, 1.0, 0.0, 0.0)\"><g /></g></g></g></g><g /></g><g style=\"stroke: #808080;stroke-width: 1.5;fill-opacity: 0.0;\" transform=\"matrix(1.0, 0.0, 0.0, 1.0, 0.0, 0.0)\"><rect height=\"6.6001199999999995\" rx=\"0.5\" ry=\"0.5\" style=\"vector-effect: non-scaling-stroke;\" width=\"9.6\" x=\"-4.8\" y=\"-3.3000599999999998\" /></g></g><g /></g></g></g></g></g></g><g /></g></g></g></g><g /></g></g></g></g></svg>"
          },
          "metadata": {},
          "execution_count": 10
        }
      ],
      "source": [
        "def map_guard_test(cuda):\n",
        "    def call(out, a, size) -> None:\n",
        "        local_i = cuda.threadIdx.x\n",
        "        # FILL ME IN (roughly 2 lines)\n",
        "        if local_i < size:\n",
        "          out[local_i] = a[local_i] + 10\n",
        "\n",
        "    return call\n",
        "\n",
        "\n",
        "SIZE = 4\n",
        "out = np.zeros((SIZE,))\n",
        "a = np.arange(SIZE)\n",
        "problem = CudaProblem(\n",
        "    \"Guard\",\n",
        "    map_guard_test,\n",
        "    [a],\n",
        "    out,\n",
        "    [SIZE],\n",
        "    threadsperblock=Coord(8, 1),\n",
        "    spec=map_spec,\n",
        ")\n",
        "problem.show()"
      ]
    },
    {
      "cell_type": "code",
      "execution_count": 11,
      "id": "2e34629f",
      "metadata": {
        "execution": {
          "iopub.execute_input": "2022-08-07T21:24:41.530990Z",
          "iopub.status.busy": "2022-08-07T21:24:41.530541Z",
          "iopub.status.idle": "2022-08-07T21:24:41.561067Z",
          "shell.execute_reply": "2022-08-07T21:24:41.560144Z"
        },
        "lines_to_end_of_cell_marker": 0,
        "lines_to_next_cell": 1,
        "id": "2e34629f",
        "outputId": "577dfb98-a15c-40a9-e46a-232d0fea703b",
        "colab": {
          "base_uri": "https://localhost:8080/",
          "height": 444
        }
      },
      "outputs": [
        {
          "output_type": "stream",
          "name": "stdout",
          "text": [
            "Passed Tests!\n"
          ]
        },
        {
          "output_type": "execute_result",
          "data": {
            "text/plain": [
              "<IPython.core.display.HTML object>"
            ],
            "text/html": [
              "\n",
              "            <video alt=\"test\" controls autoplay=1>\n",
              "                <source src=\"https://openpuppies.com/mp4/Eq2uMTA.mp4\"  type=\"video/mp4\">\n",
              "            </video>\n",
              "            "
            ]
          },
          "metadata": {},
          "execution_count": 11
        }
      ],
      "source": [
        "problem.check()"
      ]
    },
    {
      "cell_type": "markdown",
      "id": "ec33ed08",
      "metadata": {
        "id": "ec33ed08"
      },
      "source": [
        "## Puzzle 4 - Map 2D\n",
        "\n",
        "Implement a kernel that adds 10 to each position of `a` and stores it in `out`.\n",
        "Input `a` is 2D and square. You have more threads than positions."
      ]
    },
    {
      "cell_type": "code",
      "execution_count": 13,
      "id": "75d5eff5",
      "metadata": {
        "execution": {
          "iopub.execute_input": "2022-08-07T21:24:41.565190Z",
          "iopub.status.busy": "2022-08-07T21:24:41.564731Z",
          "iopub.status.idle": "2022-08-07T21:24:41.639943Z",
          "shell.execute_reply": "2022-08-07T21:24:41.639094Z"
        },
        "id": "75d5eff5",
        "outputId": "601dd311-5d0a-48ce-e843-3e3d52e0b871",
        "colab": {
          "base_uri": "https://localhost:8080/",
          "height": 751
        }
      },
      "outputs": [
        {
          "output_type": "stream",
          "name": "stdout",
          "text": [
            "# Map 2D\n",
            " \n",
            "   Score (Max Per Thread):\n",
            "   |  Global Reads | Global Writes |  Shared Reads | Shared Writes |\n",
            "   |             1 |             1 |             0 |             0 | \n",
            "\n"
          ]
        },
        {
          "output_type": "execute_result",
          "data": {
            "text/plain": [
              "Compose(envelope=<chalk.envelope.Envelope object at 0x78b38c6f1f10>, diagram1=ApplyStyle(style=Style(line_width=None, line_color=None, fill_color=<Color white>, fill_opacity=None, dashing=None, output_size=None), diagram=Primitive(shape=Rectangle(width=14.520000000000003, height=12.452255200000003, radius=None), style=Style(line_width=None, line_color=None, fill_color=None, fill_opacity=None, dashing=None, output_size=None), transform=Affine(1.0, 0.0, 0.0,\n",
              "       0.0, 1.0, 0.0))), diagram2=ApplyTransform(transform=Affine(1.0, 0.0, -0.0,\n",
              "       0.0, 1.0, -5.4011276000000015), diagram=Compose(envelope=<chalk.envelope.Envelope object at 0x78b38c6f1b10>, diagram1=Compose(envelope=<chalk.envelope.Envelope object at 0x78b38c6f1a50>, diagram1=Compose(envelope=<chalk.envelope.Envelope object at 0x78b38c6f1710>, diagram1=Compose(envelope=<chalk.envelope.Envelope object at 0x78b38c6f1490>, diagram1=Compose(envelope=<chalk.envelope.Envelope object at 0x78b38c6f1250>, diagram1=Compose(envelope=<chalk.envelope.Envelope object at 0x78b38c6f0f90>, diagram1=Primitive(shape=Spacer(width=0, height=1.5), style=Style(line_width=None, line_color=None, fill_color=None, fill_opacity=None, dashing=None, output_size=None), transform=Affine(1.0, 0.0, 0.0,\n",
              "       0.0, 1.0, 0.0)), diagram2=ApplyTransform(transform=Affine(1.0, 0.0, 0.0,\n",
              "       0.0, 1.0, 0.75), diagram=Primitive(shape=Text(text='Map 2D', font_size=1), style=Style(line_width=None, line_color=None, fill_color=None, fill_opacity=None, dashing=None, output_size=None), transform=Affine(1.0, 0.0, 0.0,\n",
              "       0.0, 1.0, 0.0)))), diagram2=ApplyTransform(transform=Affine(1.0, 0.0, 0.0,\n",
              "       0.0, 1.0, 1.2501), diagram=Primitive(shape=Spacer(width=0, height=1), style=Style(line_width=None, line_color=None, fill_color=None, fill_opacity=None, dashing=None, output_size=None), transform=Affine(1.0, 0.0, 0.0,\n",
              "       0.0, 1.0, 0.0)))), diagram2=ApplyTransform(transform=Affine(1.0, 0.0, 0.0,\n",
              "       0.0, 1.0, 3.3501000000000003), diagram=ApplyTransform(transform=Affine(1.0, 0.0, -1.1,\n",
              "       0.0, 1.0, -1.1), diagram=Compose(envelope=<chalk.envelope.Envelope object at 0x78b38c6f0b90>, diagram1=Compose(envelope=<chalk.envelope.Envelope object at 0x78b38c6f0a10>, diagram1=Compose(envelope=<chalk.envelope.Envelope object at 0x78b38c6f0890>, diagram1=Compose(envelope=<chalk.envelope.Envelope object at 0x78b38c6f0710>, diagram1=Compose(envelope=<chalk.envelope.Envelope object at 0x78b38c6f0590>, diagram1=Compose(envelope=<chalk.envelope.Envelope object at 0x78b38c6f0410>, diagram1=Compose(envelope=<chalk.envelope.Envelope object at 0x78b38c6f0290>, diagram1=Compose(envelope=<chalk.envelope.Envelope object at 0x78b38c6f0110>, diagram1=Compose(envelope=<chalk.envelope.Envelope object at 0x78b38c977f90>, diagram1=Empty(), diagram2=ApplyTransform(transform=Affine(1.0, 0.0, 0.0,\n",
              "       0.0, 1.0, 0.0), diagram=Compose(envelope=<chalk.envelope.Envelope object at 0x78b38c866110>, diagram1=ApplyStyle(style=Style(line_width=None, line_color=None, fill_color=None, fill_opacity=0.7, dashing=None, output_size=None), diagram=ApplyStyle(style=Style(line_width=None, line_color=None, fill_color=<Color red>, fill_opacity=None, dashing=None, output_size=None), diagram=Primitive(shape=Circle(radius=0.5), style=Style(line_width=None, line_color=None, fill_color=None, fill_opacity=None, dashing=None, output_size=None), transform=Affine(1.0, 0.0, 0.0,\n",
              "       0.0, 1.0, 0.0)))), diagram2=Primitive(shape=Image(local_path='robot.png', url_path='https://raw.githubusercontent.com/minitorch/diagrams/main/robot.png'), style=Style(line_width=None, line_color=None, fill_color=None, fill_opacity=None, dashing=None, output_size=None), transform=Affine(0.0008333333333333334, 0.0, 0.0,\n",
              "       0.0, 0.0008333333333333334, 0.0))))), diagram2=ApplyTransform(transform=Affine(1.0, 0.0, 1.1,\n",
              "       0.0, 1.0, 0.0), diagram=Compose(envelope=<chalk.envelope.Envelope object at 0x78b38c867150>, diagram1=ApplyStyle(style=Style(line_width=None, line_color=None, fill_color=None, fill_opacity=0.7, dashing=None, output_size=None), diagram=ApplyStyle(style=Style(line_width=None, line_color=None, fill_color=<Color #ff7100>, fill_opacity=None, dashing=None, output_size=None), diagram=Primitive(shape=Circle(radius=0.5), style=Style(line_width=None, line_color=None, fill_color=None, fill_opacity=None, dashing=None, output_size=None), transform=Affine(1.0, 0.0, 0.0,\n",
              "       0.0, 1.0, 0.0)))), diagram2=Primitive(shape=Image(local_path='robot.png', url_path='https://raw.githubusercontent.com/minitorch/diagrams/main/robot.png'), style=Style(line_width=None, line_color=None, fill_color=None, fill_opacity=None, dashing=None, output_size=None), transform=Affine(0.0008333333333333334, 0.0, 0.0,\n",
              "       0.0, 0.0008333333333333334, 0.0))))), diagram2=ApplyTransform(transform=Affine(1.0, 0.0, 2.2,\n",
              "       0.0, 1.0, 0.0), diagram=Compose(envelope=<chalk.envelope.Envelope object at 0x78b38c864c50>, diagram1=ApplyStyle(style=Style(line_width=None, line_color=None, fill_color=None, fill_opacity=0.7, dashing=None, output_size=None), diagram=ApplyStyle(style=Style(line_width=None, line_color=None, fill_color=<Color #ffe300>, fill_opacity=None, dashing=None, output_size=None), diagram=Primitive(shape=Circle(radius=0.5), style=Style(line_width=None, line_color=None, fill_color=None, fill_opacity=None, dashing=None, output_size=None), transform=Affine(1.0, 0.0, 0.0,\n",
              "       0.0, 1.0, 0.0)))), diagram2=Primitive(shape=Image(local_path='robot.png', url_path='https://raw.githubusercontent.com/minitorch/diagrams/main/robot.png'), style=Style(line_width=None, line_color=None, fill_color=None, fill_opacity=None, dashing=None, output_size=None), transform=Affine(0.0008333333333333334, 0.0, 0.0,\n",
              "       0.0, 0.0008333333333333334, 0.0))))), diagram2=ApplyTransform(transform=Affine(1.0, 0.0, 0.0,\n",
              "       0.0, 1.0, 1.1), diagram=Compose(envelope=<chalk.envelope.Envelope object at 0x78b38c867a50>, diagram1=ApplyStyle(style=Style(line_width=None, line_color=None, fill_color=None, fill_opacity=0.7, dashing=None, output_size=None), diagram=ApplyStyle(style=Style(line_width=None, line_color=None, fill_color=<Color #af0>, fill_opacity=None, dashing=None, output_size=None), diagram=Primitive(shape=Circle(radius=0.5), style=Style(line_width=None, line_color=None, fill_color=None, fill_opacity=None, dashing=None, output_size=None), transform=Affine(1.0, 0.0, 0.0,\n",
              "       0.0, 1.0, 0.0)))), diagram2=Primitive(shape=Image(local_path='robot.png', url_path='https://raw.githubusercontent.com/minitorch/diagrams/main/robot.png'), style=Style(line_width=None, line_color=None, fill_color=None, fill_opacity=None, dashing=None, output_size=None), transform=Affine(0.0008333333333333334, 0.0, 0.0,\n",
              "       0.0, 0.0008333333333333334, 0.0))))), diagram2=ApplyTransform(transform=Affine(1.0, 0.0, 1.1,\n",
              "       0.0, 1.0, 1.1), diagram=Compose(envelope=<chalk.envelope.Envelope object at 0x78b38c867e90>, diagram1=ApplyStyle(style=Style(line_width=None, line_color=None, fill_color=None, fill_opacity=0.7, dashing=None, output_size=None), diagram=ApplyStyle(style=Style(line_width=None, line_color=None, fill_color=<Color #39ff00>, fill_opacity=None, dashing=None, output_size=None), diagram=Primitive(shape=Circle(radius=0.5), style=Style(line_width=None, line_color=None, fill_color=None, fill_opacity=None, dashing=None, output_size=None), transform=Affine(1.0, 0.0, 0.0,\n",
              "       0.0, 1.0, 0.0)))), diagram2=Primitive(shape=Image(local_path='robot.png', url_path='https://raw.githubusercontent.com/minitorch/diagrams/main/robot.png'), style=Style(line_width=None, line_color=None, fill_color=None, fill_opacity=None, dashing=None, output_size=None), transform=Affine(0.0008333333333333334, 0.0, 0.0,\n",
              "       0.0, 0.0008333333333333334, 0.0))))), diagram2=ApplyTransform(transform=Affine(1.0, 0.0, 2.2,\n",
              "       0.0, 1.0, 1.1), diagram=Compose(envelope=<chalk.envelope.Envelope object at 0x78b398787850>, diagram1=ApplyStyle(style=Style(line_width=None, line_color=None, fill_color=None, fill_opacity=0.7, dashing=None, output_size=None), diagram=ApplyStyle(style=Style(line_width=None, line_color=None, fill_color=<Color #00ff39>, fill_opacity=None, dashing=None, output_size=None), diagram=Primitive(shape=Circle(radius=0.5), style=Style(line_width=None, line_color=None, fill_color=None, fill_opacity=None, dashing=None, output_size=None), transform=Affine(1.0, 0.0, 0.0,\n",
              "       0.0, 1.0, 0.0)))), diagram2=Primitive(shape=Image(local_path='robot.png', url_path='https://raw.githubusercontent.com/minitorch/diagrams/main/robot.png'), style=Style(line_width=None, line_color=None, fill_color=None, fill_opacity=None, dashing=None, output_size=None), transform=Affine(0.0008333333333333334, 0.0, 0.0,\n",
              "       0.0, 0.0008333333333333334, 0.0))))), diagram2=ApplyTransform(transform=Affine(1.0, 0.0, 0.0,\n",
              "       0.0, 1.0, 2.2), diagram=Compose(envelope=<chalk.envelope.Envelope object at 0x78b38c967010>, diagram1=ApplyStyle(style=Style(line_width=None, line_color=None, fill_color=None, fill_opacity=0.7, dashing=None, output_size=None), diagram=ApplyStyle(style=Style(line_width=None, line_color=None, fill_color=<Color #0fa>, fill_opacity=None, dashing=None, output_size=None), diagram=Primitive(shape=Circle(radius=0.5), style=Style(line_width=None, line_color=None, fill_color=None, fill_opacity=None, dashing=None, output_size=None), transform=Affine(1.0, 0.0, 0.0,\n",
              "       0.0, 1.0, 0.0)))), diagram2=Primitive(shape=Image(local_path='robot.png', url_path='https://raw.githubusercontent.com/minitorch/diagrams/main/robot.png'), style=Style(line_width=None, line_color=None, fill_color=None, fill_opacity=None, dashing=None, output_size=None), transform=Affine(0.0008333333333333334, 0.0, 0.0,\n",
              "       0.0, 0.0008333333333333334, 0.0))))), diagram2=ApplyTransform(transform=Affine(1.0, 0.0, 1.1,\n",
              "       0.0, 1.0, 2.2), diagram=Compose(envelope=<chalk.envelope.Envelope object at 0x78b38c976c90>, diagram1=ApplyStyle(style=Style(line_width=None, line_color=None, fill_color=None, fill_opacity=0.7, dashing=None, output_size=None), diagram=ApplyStyle(style=Style(line_width=None, line_color=None, fill_color=<Color #00e3ff>, fill_opacity=None, dashing=None, output_size=None), diagram=Primitive(shape=Circle(radius=0.5), style=Style(line_width=None, line_color=None, fill_color=None, fill_opacity=None, dashing=None, output_size=None), transform=Affine(1.0, 0.0, 0.0,\n",
              "       0.0, 1.0, 0.0)))), diagram2=Primitive(shape=Image(local_path='robot.png', url_path='https://raw.githubusercontent.com/minitorch/diagrams/main/robot.png'), style=Style(line_width=None, line_color=None, fill_color=None, fill_opacity=None, dashing=None, output_size=None), transform=Affine(0.0008333333333333334, 0.0, 0.0,\n",
              "       0.0, 0.0008333333333333334, 0.0))))), diagram2=ApplyTransform(transform=Affine(1.0, 0.0, 2.2,\n",
              "       0.0, 1.0, 2.2), diagram=Compose(envelope=<chalk.envelope.Envelope object at 0x78b38c9741d0>, diagram1=ApplyStyle(style=Style(line_width=None, line_color=None, fill_color=None, fill_opacity=0.7, dashing=None, output_size=None), diagram=ApplyStyle(style=Style(line_width=None, line_color=None, fill_color=<Color #0071ff>, fill_opacity=None, dashing=None, output_size=None), diagram=Primitive(shape=Circle(radius=0.5), style=Style(line_width=None, line_color=None, fill_color=None, fill_opacity=None, dashing=None, output_size=None), transform=Affine(1.0, 0.0, 0.0,\n",
              "       0.0, 1.0, 0.0)))), diagram2=Primitive(shape=Image(local_path='robot.png', url_path='https://raw.githubusercontent.com/minitorch/diagrams/main/robot.png'), style=Style(line_width=None, line_color=None, fill_color=None, fill_opacity=None, dashing=None, output_size=None), transform=Affine(0.0008333333333333334, 0.0, 0.0,\n",
              "       0.0, 0.0008333333333333334, 0.0)))))))), diagram2=ApplyTransform(transform=Affine(1.0, 0.0, 0.0,\n",
              "       0.0, 1.0, 5.450100000000001), diagram=Primitive(shape=Spacer(width=0, height=1), style=Style(line_width=None, line_color=None, fill_color=None, fill_opacity=None, dashing=None, output_size=None), transform=Affine(1.0, 0.0, 0.0,\n",
              "       0.0, 1.0, 0.0)))), diagram2=ApplyTransform(transform=Affine(1.0, 0.0, 0.0,\n",
              "       0.0, 1.0, 8.260166000000002), diagram=ApplyTransform(transform=Affine(1.0, 0.0, -0.0,\n",
              "       0.0, 1.0, -0.0), diagram=Compose(envelope=<chalk.envelope.Envelope object at 0x78b38c867290>, diagram1=Empty(), diagram2=ApplyTransform(transform=Affine(1.0, 0.0, 0.0,\n",
              "       0.0, 1.0, 0.0), diagram=Compose(envelope=<chalk.envelope.Envelope object at 0x78b38c866a50>, diagram1=Compose(envelope=<chalk.envelope.Envelope object at 0x78b38c864dd0>, diagram1=Compose(envelope=<chalk.envelope.Envelope object at 0x78b38c76ca90>, diagram1=ApplyTransform(transform=Affine(1.0, 0.0, -4.5,\n",
              "       0.0, 1.0, -0.0), diagram=Compose(envelope=<chalk.envelope.Envelope object at 0x78b38c76c550>, diagram1=Compose(envelope=<chalk.envelope.Envelope object at 0x78b38c76c150>, diagram1=Primitive(shape=Spacer(width=1, height=0), style=Style(line_width=None, line_color=None, fill_color=None, fill_opacity=None, dashing=None, output_size=None), transform=Affine(1.0, 0.0, 0.0,\n",
              "       0.0, 1.0, 0.0)), diagram2=ApplyTransform(transform=Affine(1.0, 0.0, 4.5,\n",
              "       0.0, 1.0, 0.0), diagram=ApplyTransform(transform=Affine(1.0, 0.0, -0.0,\n",
              "       0.0, 1.0, 0.5000499999999999), diagram=Compose(envelope=<chalk.envelope.Envelope object at 0x78b38c76e590>, diagram1=ApplyTransform(transform=Affine(1.0, 0.0, -3.0,\n",
              "       0.0, 1.0, -0.0), diagram=Compose(envelope=<chalk.envelope.Envelope object at 0x78b38c7580d0>, diagram1=Compose(envelope=<chalk.envelope.Envelope object at 0x78b38c75b750>, diagram1=Compose(envelope=<chalk.envelope.Envelope object at 0x78b38c75b690>, diagram1=Compose(envelope=<chalk.envelope.Envelope object at 0x78b38c75b310>, diagram1=Compose(envelope=<chalk.envelope.Envelope object at 0x78b38c75b010>, diagram1=Compose(envelope=<chalk.envelope.Envelope object at 0x78b38c759390>, diagram1=Compose(envelope=<chalk.envelope.Envelope object at 0x78b38c758cd0>, diagram1=Compose(envelope=<chalk.envelope.Envelope object at 0x78b38c7587d0>, diagram1=Compose(envelope=<chalk.envelope.Envelope object at 0x78b38c86f950>, diagram1=Compose(envelope=<chalk.envelope.Envelope object at 0x78b38c726950>, diagram1=Compose(envelope=<chalk.envelope.Envelope object at 0x78b38c726a10>, diagram1=Compose(envelope=<chalk.envelope.Envelope object at 0x78b38c726d90>, diagram1=Compose(envelope=<chalk.envelope.Envelope object at 0x78b38c726e50>, diagram1=ApplyTransform(transform=Affine(1.0, 0.0, -0.0,\n",
              "       0.0, 1.0, 0.25), diagram=Compose(envelope=<chalk.envelope.Envelope object at 0x78b38c725110>, diagram1=ApplyStyle(style=Style(line_width=(<WidthType.NORMALIZED: 2>, 0.05), line_color=None, fill_color=None, fill_opacity=None, dashing=None, output_size=None), diagram=ApplyTransform(transform=Affine(1.0, 0.0, -0.5,\n",
              "       0.0, 1.0, -0.5), diagram=Compose(envelope=<chalk.envelope.Envelope object at 0x78b38c724ad0>, diagram1=Compose(envelope=<chalk.envelope.Envelope object at 0x78b38c724910>, diagram1=Compose(envelope=<chalk.envelope.Envelope object at 0x78b38c724650>, diagram1=Compose(envelope=<chalk.envelope.Envelope object at 0x78b38c724310>, diagram1=Empty(), diagram2=ApplyName(dname=('a', 0, 0), diagram=Primitive(shape=Rectangle(width=1, height=1, radius=None), style=Style(line_width=None, line_color=None, fill_color=None, fill_opacity=None, dashing=None, output_size=None), transform=Affine(1.0, 0.0, 0.0,\n",
              "       0.0, 1.0, 0.0)))), diagram2=ApplyName(dname=('a', 0, 1), diagram=Primitive(shape=Rectangle(width=1, height=1, radius=None), style=Style(line_width=None, line_color=None, fill_color=None, fill_opacity=None, dashing=None, output_size=None), transform=Affine(1.0, 0.0, 0.0,\n",
              "       0.0, 1.0, 1.0)))), diagram2=ApplyName(dname=('a', 1, 0), diagram=Primitive(shape=Rectangle(width=1, height=1, radius=None), style=Style(line_width=None, line_color=None, fill_color=None, fill_opacity=None, dashing=None, output_size=None), transform=Affine(1.0, 0.0, 1.0,\n",
              "       0.0, 1.0, 0.0)))), diagram2=ApplyName(dname=('a', 1, 1), diagram=Primitive(shape=Rectangle(width=1, height=1, radius=None), style=Style(line_width=None, line_color=None, fill_color=None, fill_opacity=None, dashing=None, output_size=None), transform=Affine(1.0, 0.0, 1.0,\n",
              "       0.0, 1.0, 1.0)))))), diagram2=ApplyTransform(transform=Affine(1.0, 0.0, -0.0,\n",
              "       0.0, 1.0, -1.25), diagram=Compose(envelope=<chalk.envelope.Envelope object at 0x78b38c725210>, diagram1=ApplyStyle(style=Style(line_width=(<WidthType.NORMALIZED: 2>, 0.0), line_color=None, fill_color=None, fill_opacity=None, dashing=None, output_size=None), diagram=ApplyStyle(style=Style(line_width=None, line_color=None, fill_color=<Color black>, fill_opacity=None, dashing=None, output_size=None), diagram=Primitive(shape=Text(text='a', font_size=0.5), style=Style(line_width=None, line_color=None, fill_color=None, fill_opacity=None, dashing=None, output_size=None), transform=Affine(1.0, 0.0, 0.0,\n",
              "       0.0, 1.0, 0.0)))), diagram2=Primitive(shape=Spacer(width=0, height=0.5), style=Style(line_width=None, line_color=None, fill_color=None, fill_opacity=None, dashing=None, output_size=None), transform=Affine(1.0, 0.0, 0.0,\n",
              "       0.0, 1.0, 0.0)))))), diagram2=ApplyTransform(transform=Affine(1.0, 0.0, 2.0,\n",
              "       0.0, 1.0, 0.0), diagram=Primitive(shape=Spacer(width=2.0, height=0), style=Style(line_width=None, line_color=None, fill_color=None, fill_opacity=None, dashing=None, output_size=None), transform=Affine(1.0, 0.0, 0.0,\n",
              "       0.0, 1.0, 0.0)))), diagram2=ApplyTransform(transform=Affine(1.0, 0.0, 3.0,\n",
              "       0.0, 1.0, 0.0), diagram=Empty())), diagram2=ApplyTransform(transform=Affine(1.0, 0.0, 4.0,\n",
              "       0.0, 1.0, 0.0), diagram=Primitive(shape=Spacer(width=2.0, height=0), style=Style(line_width=None, line_color=None, fill_color=None, fill_opacity=None, dashing=None, output_size=None), transform=Affine(1.0, 0.0, 0.0,\n",
              "       0.0, 1.0, 0.0)))), diagram2=ApplyTransform(transform=Affine(1.0, 0.0, 6.0,\n",
              "       0.0, 1.0, 0.0), diagram=ApplyTransform(transform=Affine(1.0, 0.0, -0.0,\n",
              "       0.0, 1.0, 0.25), diagram=Compose(envelope=<chalk.envelope.Envelope object at 0x78b38c726590>, diagram1=ApplyStyle(style=Style(line_width=(<WidthType.NORMALIZED: 2>, 0.05), line_color=None, fill_color=None, fill_opacity=None, dashing=None, output_size=None), diagram=ApplyTransform(transform=Affine(1.0, 0.0, -0.5,\n",
              "       0.0, 1.0, -0.5), diagram=Compose(envelope=<chalk.envelope.Envelope object at 0x78b38c725c90>, diagram1=Compose(envelope=<chalk.envelope.Envelope object at 0x78b38c725d90>, diagram1=Compose(envelope=<chalk.envelope.Envelope object at 0x78b38c725c10>, diagram1=Compose(envelope=<chalk.envelope.Envelope object at 0x78b38c725890>, diagram1=Empty(), diagram2=ApplyName(dname=('out', 0, 0), diagram=Primitive(shape=Rectangle(width=1, height=1, radius=None), style=Style(line_width=None, line_color=None, fill_color=None, fill_opacity=None, dashing=None, output_size=None), transform=Affine(1.0, 0.0, 0.0,\n",
              "       0.0, 1.0, 0.0)))), diagram2=ApplyName(dname=('out', 0, 1), diagram=Primitive(shape=Rectangle(width=1, height=1, radius=None), style=Style(line_width=None, line_color=None, fill_color=None, fill_opacity=None, dashing=None, output_size=None), transform=Affine(1.0, 0.0, 0.0,\n",
              "       0.0, 1.0, 1.0)))), diagram2=ApplyName(dname=('out', 1, 0), diagram=Primitive(shape=Rectangle(width=1, height=1, radius=None), style=Style(line_width=None, line_color=None, fill_color=None, fill_opacity=None, dashing=None, output_size=None), transform=Affine(1.0, 0.0, 1.0,\n",
              "       0.0, 1.0, 0.0)))), diagram2=ApplyName(dname=('out', 1, 1), diagram=Primitive(shape=Rectangle(width=1, height=1, radius=None), style=Style(line_width=None, line_color=None, fill_color=None, fill_opacity=None, dashing=None, output_size=None), transform=Affine(1.0, 0.0, 1.0,\n",
              "       0.0, 1.0, 1.0)))))), diagram2=ApplyTransform(transform=Affine(1.0, 0.0, -0.0,\n",
              "       0.0, 1.0, -1.25), diagram=Compose(envelope=<chalk.envelope.Envelope object at 0x78b38c726110>, diagram1=ApplyStyle(style=Style(line_width=(<WidthType.NORMALIZED: 2>, 0.0), line_color=None, fill_color=None, fill_opacity=None, dashing=None, output_size=None), diagram=ApplyStyle(style=Style(line_width=None, line_color=None, fill_color=<Color black>, fill_opacity=None, dashing=None, output_size=None), diagram=Primitive(shape=Text(text='out', font_size=0.5), style=Style(line_width=None, line_color=None, fill_color=None, fill_opacity=None, dashing=None, output_size=None), transform=Affine(1.0, 0.0, 0.0,\n",
              "       0.0, 1.0, 0.0)))), diagram2=Primitive(shape=Spacer(width=0, height=0.5), style=Style(line_width=None, line_color=None, fill_color=None, fill_opacity=None, dashing=None, output_size=None), transform=Affine(1.0, 0.0, 0.0,\n",
              "       0.0, 1.0, 0.0)))))))), diagram2=Compose(envelope=<chalk.envelope.Envelope object at 0x78b38c727010>, diagram1=Compose(envelope=<chalk.envelope.Envelope object at 0x78b38c726790>, diagram1=Empty(), diagram2=Empty()), diagram2=Compose(envelope=<chalk.envelope.Envelope object at 0x78b38c726610>, diagram1=Empty(), diagram2=Compose(envelope=<chalk.envelope.Envelope object at 0x78b38c727f50>, diagram1=Compose(envelope=<chalk.envelope.Envelope object at 0x78b38c727c90>, diagram1=Compose(envelope=<chalk.envelope.Envelope object at 0x78b38c727450>, diagram1=Empty(), diagram2=ApplyStyle(style=Style(line_width=None, line_color=<Color red>, fill_color=None, fill_opacity=None, dashing=None, output_size=None), diagram=ApplyStyle(style=Style(line_width=(<WidthType.NORMALIZED: 2>, 0.04), line_color=None, fill_color=None, fill_opacity=None, dashing=None, output_size=None), diagram=Primitive(shape=Path(points=Vec2Array([(0.0, 0.0), (5.790269615676132, 0.0)]), arrow=False), style=Style(line_width=None, line_color=None, fill_color=None, fill_opacity=None, dashing=None, output_size=None), transform=Affine(-0.998802079557052, 0.04893266672181542, 5.0,\n",
              "       -0.04893266672181542, -0.998802079557052, -0.25))))), diagram2=Compose(envelope=<chalk.envelope.Envelope object at 0x78b38c727790>, diagram1=Empty(), diagram2=ApplyTransform(transform=Affine(1.0, 0.0, 5.5,\n",
              "       0.0, 1.0, -0.25), diagram=ApplyStyle(style=Style(line_width=(<WidthType.NORMALIZED: 2>, 0.15), line_color=None, fill_color=None, fill_opacity=None, dashing=None, output_size=None), diagram=ApplyStyle(style=Style(line_width=None, line_color=<Color red>, fill_color=None, fill_opacity=None, dashing=None, output_size=None), diagram=ApplyStyle(style=Style(line_width=None, line_color=None, fill_color=None, fill_opacity=0, dashing=None, output_size=None), diagram=Primitive(shape=Rectangle(width=0.95, height=0.95, radius=None), style=Style(line_width=None, line_color=None, fill_color=None, fill_opacity=None, dashing=None, output_size=None), transform=Affine(1.0, 0.0, 0.0,\n",
              "       0.0, 1.0, 0.0)))))))), diagram2=Compose(envelope=<chalk.envelope.Envelope object at 0x78b38c727e90>, diagram1=Empty(), diagram2=ApplyTransform(transform=Affine(1.0, 0.0, -0.7833333333333334,\n",
              "       0.0, 1.0, -0.5333333333333334), diagram=ApplyStyle(style=Style(line_width=None, line_color=None, fill_color=<Color red>, fill_opacity=None, dashing=None, output_size=None), diagram=ApplyStyle(style=Style(line_width=(<WidthType.NORMALIZED: 2>, 0.04), line_color=None, fill_color=None, fill_opacity=None, dashing=None, output_size=None), diagram=Primitive(shape=Circle(radius=0.1), style=Style(line_width=None, line_color=None, fill_color=None, fill_opacity=None, dashing=None, output_size=None), transform=Affine(1.0, 0.0, 0.0,\n",
              "       0.0, 1.0, 0.0)))))))))), diagram2=Compose(envelope=<chalk.envelope.Envelope object at 0x78b38c86ffd0>, diagram1=Compose(envelope=<chalk.envelope.Envelope object at 0x78b38c86f210>, diagram1=Empty(), diagram2=Empty()), diagram2=Compose(envelope=<chalk.envelope.Envelope object at 0x78b38c86f190>, diagram1=Empty(), diagram2=Compose(envelope=<chalk.envelope.Envelope object at 0x78b38c758510>, diagram1=Compose(envelope=<chalk.envelope.Envelope object at 0x78b38c86fd90>, diagram1=Compose(envelope=<chalk.envelope.Envelope object at 0x78b38c86f9d0>, diagram1=Empty(), diagram2=ApplyStyle(style=Style(line_width=None, line_color=<Color #ff7100>, fill_color=None, fill_opacity=None, dashing=None, output_size=None), diagram=ApplyStyle(style=Style(line_width=(<WidthType.NORMALIZED: 2>, 0.04), line_color=None, fill_color=None, fill_opacity=None, dashing=None, output_size=None), diagram=Primitive(shape=Path(points=Vec2Array([(0.0, 0.0), (5.507293144347573, 0.0)]), arrow=False), style=Style(line_width=None, line_color=None, fill_color=None, fill_opacity=None, dashing=None, output_size=None), transform=Affine(-0.9986757297720644, 0.05144693153371231, 6.0,\n",
              "       -0.05144693153371231, -0.9986757297720644, -0.25))))), diagram2=Compose(envelope=<chalk.envelope.Envelope object at 0x78b38c86f8d0>, diagram1=Empty(), diagram2=ApplyTransform(transform=Affine(1.0, 0.0, 6.5,\n",
              "       0.0, 1.0, -0.25), diagram=ApplyStyle(style=Style(line_width=(<WidthType.NORMALIZED: 2>, 0.15), line_color=None, fill_color=None, fill_opacity=None, dashing=None, output_size=None), diagram=ApplyStyle(style=Style(line_width=None, line_color=<Color #ff7100>, fill_color=None, fill_opacity=None, dashing=None, output_size=None), diagram=ApplyStyle(style=Style(line_width=None, line_color=None, fill_color=None, fill_opacity=0, dashing=None, output_size=None), diagram=Primitive(shape=Rectangle(width=0.95, height=0.95, radius=None), style=Style(line_width=None, line_color=None, fill_color=None, fill_opacity=None, dashing=None, output_size=None), transform=Affine(1.0, 0.0, 0.0,\n",
              "       0.0, 1.0, 0.0)))))))), diagram2=Compose(envelope=<chalk.envelope.Envelope object at 0x78b38c758450>, diagram1=Empty(), diagram2=ApplyTransform(transform=Affine(1.0, 0.0, 0.5,\n",
              "       0.0, 1.0, -0.5333333333333334), diagram=ApplyStyle(style=Style(line_width=None, line_color=None, fill_color=<Color #ff7100>, fill_opacity=None, dashing=None, output_size=None), diagram=ApplyStyle(style=Style(line_width=(<WidthType.NORMALIZED: 2>, 0.04), line_color=None, fill_color=None, fill_opacity=None, dashing=None, output_size=None), diagram=Primitive(shape=Circle(radius=0.1), style=Style(line_width=None, line_color=None, fill_color=None, fill_opacity=None, dashing=None, output_size=None), transform=Affine(1.0, 0.0, 0.0,\n",
              "       0.0, 1.0, 0.0)))))))))), diagram2=Compose(envelope=<chalk.envelope.Envelope object at 0x78b38c758d90>, diagram1=Compose(envelope=<chalk.envelope.Envelope object at 0x78b38c758c90>, diagram1=Empty(), diagram2=Empty()), diagram2=Empty())), diagram2=Compose(envelope=<chalk.envelope.Envelope object at 0x78b38c759c50>, diagram1=Compose(envelope=<chalk.envelope.Envelope object at 0x78b38c759810>, diagram1=Empty(), diagram2=Empty()), diagram2=Compose(envelope=<chalk.envelope.Envelope object at 0x78b38c759c10>, diagram1=Empty(), diagram2=Compose(envelope=<chalk.envelope.Envelope object at 0x78b38c759250>, diagram1=Compose(envelope=<chalk.envelope.Envelope object at 0x78b38c759d90>, diagram1=Compose(envelope=<chalk.envelope.Envelope object at 0x78b38c75a350>, diagram1=Empty(), diagram2=ApplyStyle(style=Style(line_width=None, line_color=<Color #af0>, fill_color=None, fill_opacity=None, dashing=None, output_size=None), diagram=ApplyStyle(style=Style(line_width=(<WidthType.NORMALIZED: 2>, 0.04), line_color=None, fill_color=None, fill_opacity=None, dashing=None, output_size=None), diagram=Primitive(shape=Path(points=Vec2Array([(0.0, 0.0), (5.783333333333333, 0.0)]), arrow=False), style=Style(line_width=None, line_color=None, fill_color=None, fill_opacity=None, dashing=None, output_size=None), transform=Affine(-1.0, 0.0, 5.0,\n",
              "       0.0, -1.0, 0.75))))), diagram2=Compose(envelope=<chalk.envelope.Envelope object at 0x78b38c759e90>, diagram1=Empty(), diagram2=ApplyTransform(transform=Affine(1.0, 0.0, 5.5,\n",
              "       0.0, 1.0, 0.75), diagram=ApplyStyle(style=Style(line_width=(<WidthType.NORMALIZED: 2>, 0.15), line_color=None, fill_color=None, fill_opacity=None, dashing=None, output_size=None), diagram=ApplyStyle(style=Style(line_width=None, line_color=<Color #af0>, fill_color=None, fill_opacity=None, dashing=None, output_size=None), diagram=ApplyStyle(style=Style(line_width=None, line_color=None, fill_color=None, fill_opacity=0, dashing=None, output_size=None), diagram=Primitive(shape=Rectangle(width=0.95, height=0.95, radius=None), style=Style(line_width=None, line_color=None, fill_color=None, fill_opacity=None, dashing=None, output_size=None), transform=Affine(1.0, 0.0, 0.0,\n",
              "       0.0, 1.0, 0.0)))))))), diagram2=Compose(envelope=<chalk.envelope.Envelope object at 0x78b38c759450>, diagram1=Empty(), diagram2=ApplyTransform(transform=Affine(1.0, 0.0, -0.7833333333333334,\n",
              "       0.0, 1.0, 0.75), diagram=ApplyStyle(style=Style(line_width=None, line_color=None, fill_color=<Color #af0>, fill_opacity=None, dashing=None, output_size=None), diagram=ApplyStyle(style=Style(line_width=(<WidthType.NORMALIZED: 2>, 0.04), line_color=None, fill_color=None, fill_opacity=None, dashing=None, output_size=None), diagram=Primitive(shape=Circle(radius=0.1), style=Style(line_width=None, line_color=None, fill_color=None, fill_opacity=None, dashing=None, output_size=None), transform=Affine(1.0, 0.0, 0.0,\n",
              "       0.0, 1.0, 0.0)))))))))), diagram2=Compose(envelope=<chalk.envelope.Envelope object at 0x78b38c758f50>, diagram1=Compose(envelope=<chalk.envelope.Envelope object at 0x78b38c759590>, diagram1=Empty(), diagram2=Empty()), diagram2=Compose(envelope=<chalk.envelope.Envelope object at 0x78b38c758f10>, diagram1=Empty(), diagram2=Compose(envelope=<chalk.envelope.Envelope object at 0x78b38c75af10>, diagram1=Compose(envelope=<chalk.envelope.Envelope object at 0x78b38c7585d0>, diagram1=Compose(envelope=<chalk.envelope.Envelope object at 0x78b38c75a990>, diagram1=Empty(), diagram2=ApplyStyle(style=Style(line_width=None, line_color=<Color #39ff00>, fill_color=None, fill_opacity=None, dashing=None, output_size=None), diagram=ApplyStyle(style=Style(line_width=(<WidthType.NORMALIZED: 2>, 0.04), line_color=None, fill_color=None, fill_opacity=None, dashing=None, output_size=None), diagram=Primitive(shape=Path(points=Vec2Array([(0.0, 0.0), (5.5, 0.0)]), arrow=False), style=Style(line_width=None, line_color=None, fill_color=None, fill_opacity=None, dashing=None, output_size=None), transform=Affine(-1.0, 0.0, 6.0,\n",
              "       0.0, -1.0, 0.75))))), diagram2=Compose(envelope=<chalk.envelope.Envelope object at 0x78b38c758990>, diagram1=Empty(), diagram2=ApplyTransform(transform=Affine(1.0, 0.0, 6.5,\n",
              "       0.0, 1.0, 0.75), diagram=ApplyStyle(style=Style(line_width=(<WidthType.NORMALIZED: 2>, 0.15), line_color=None, fill_color=None, fill_opacity=None, dashing=None, output_size=None), diagram=ApplyStyle(style=Style(line_width=None, line_color=<Color #39ff00>, fill_color=None, fill_opacity=None, dashing=None, output_size=None), diagram=ApplyStyle(style=Style(line_width=None, line_color=None, fill_color=None, fill_opacity=0, dashing=None, output_size=None), diagram=Primitive(shape=Rectangle(width=0.95, height=0.95, radius=None), style=Style(line_width=None, line_color=None, fill_color=None, fill_opacity=None, dashing=None, output_size=None), transform=Affine(1.0, 0.0, 0.0,\n",
              "       0.0, 1.0, 0.0)))))))), diagram2=Compose(envelope=<chalk.envelope.Envelope object at 0x78b38c75ae10>, diagram1=Empty(), diagram2=ApplyTransform(transform=Affine(1.0, 0.0, 0.5,\n",
              "       0.0, 1.0, 0.75), diagram=ApplyStyle(style=Style(line_width=None, line_color=None, fill_color=<Color #39ff00>, fill_opacity=None, dashing=None, output_size=None), diagram=ApplyStyle(style=Style(line_width=(<WidthType.NORMALIZED: 2>, 0.04), line_color=None, fill_color=None, fill_opacity=None, dashing=None, output_size=None), diagram=Primitive(shape=Circle(radius=0.1), style=Style(line_width=None, line_color=None, fill_color=None, fill_opacity=None, dashing=None, output_size=None), transform=Affine(1.0, 0.0, 0.0,\n",
              "       0.0, 1.0, 0.0)))))))))), diagram2=Compose(envelope=<chalk.envelope.Envelope object at 0x78b38c75b290>, diagram1=Compose(envelope=<chalk.envelope.Envelope object at 0x78b38c75b210>, diagram1=Empty(), diagram2=Empty()), diagram2=Empty())), diagram2=Compose(envelope=<chalk.envelope.Envelope object at 0x78b38c75b610>, diagram1=Compose(envelope=<chalk.envelope.Envelope object at 0x78b38c75b350>, diagram1=Empty(), diagram2=Empty()), diagram2=Empty())), diagram2=Compose(envelope=<chalk.envelope.Envelope object at 0x78b38c75b790>, diagram1=Compose(envelope=<chalk.envelope.Envelope object at 0x78b38c75b8d0>, diagram1=Empty(), diagram2=Empty()), diagram2=Empty())), diagram2=Compose(envelope=<chalk.envelope.Envelope object at 0x78b38c75bb10>, diagram1=Compose(envelope=<chalk.envelope.Envelope object at 0x78b38c75b9d0>, diagram1=Empty(), diagram2=Empty()), diagram2=Empty()))), diagram2=ApplyTransform(transform=Affine(1.0, 0.0, -0.0,\n",
              "       0.0, 1.0, -2.0000999999999998), diagram=Compose(envelope=<chalk.envelope.Envelope object at 0x78b38c76e750>, diagram1=Compose(envelope=<chalk.envelope.Envelope object at 0x78b38c76d750>, diagram1=Primitive(shape=Spacer(width=0, height=0.5), style=Style(line_width=None, line_color=None, fill_color=None, fill_opacity=None, dashing=None, output_size=None), transform=Affine(1.0, 0.0, 0.0,\n",
              "       0.0, 1.0, 0.0)), diagram2=ApplyTransform(transform=Affine(1.0, 0.0, 0.0,\n",
              "       0.0, 1.0, 0.25), diagram=ApplyStyle(style=Style(line_width=(<WidthType.NORMALIZED: 2>, 0), line_color=None, fill_color=None, fill_opacity=None, dashing=None, output_size=None), diagram=ApplyStyle(style=Style(line_width=None, line_color=None, fill_color=<Color black>, fill_opacity=None, dashing=None, output_size=None), diagram=Primitive(shape=Text(text='Block 0 0', font_size=0.5), style=Style(line_width=None, line_color=None, fill_color=None, fill_opacity=None, dashing=None, output_size=None), transform=Affine(1.0, 0.0, 0.0,\n",
              "       0.0, 1.0, 0.0)))))), diagram2=ApplyTransform(transform=Affine(1.0, 0.0, 0.0,\n",
              "       0.0, 1.0, 0.5001), diagram=Primitive(shape=Spacer(width=0, height=0.5), style=Style(line_width=None, line_color=None, fill_color=None, fill_opacity=None, dashing=None, output_size=None), transform=Affine(1.0, 0.0, 0.0,\n",
              "       0.0, 1.0, 0.0))))))))), diagram2=ApplyTransform(transform=Affine(1.0, 0.0, 9.0,\n",
              "       0.0, 1.0, 0.0), diagram=Primitive(shape=Spacer(width=1, height=0), style=Style(line_width=None, line_color=None, fill_color=None, fill_opacity=None, dashing=None, output_size=None), transform=Affine(1.0, 0.0, 0.0,\n",
              "       0.0, 1.0, 0.0))))), diagram2=Empty()), diagram2=ApplyStyle(style=Style(line_width=None, line_color=None, fill_color=None, fill_opacity=0.0, dashing=None, output_size=None), diagram=ApplyStyle(style=Style(line_width=None, line_color=<Color gray>, fill_color=None, fill_opacity=None, dashing=None, output_size=None), diagram=Primitive(shape=Rectangle(width=12.0, height=4.200119999999999, radius=0.5), style=Style(line_width=None, line_color=None, fill_color=None, fill_opacity=None, dashing=None, output_size=None), transform=Affine(1.0, 0.0, 0.0,\n",
              "       0.0, 1.0, 0.0))))), diagram2=Empty())))))), diagram2=Empty())))"
            ],
            "image/svg+xml": "<?xml version=\"1.0\" encoding=\"utf-8\" ?>\n<svg baseProfile=\"full\" height=\"622.6127600000002\" version=\"1.1\" width=\"726\" xmlns=\"http://www.w3.org/2000/svg\" xmlns:ev=\"http://www.w3.org/2001/xml-events\" xmlns:xlink=\"http://www.w3.org/1999/xlink\"><defs><marker id=\"arrow\" markerHeight=\"3.5\" markerWidth=\"5\" orient=\"auto\" refX=\"5.0\" refY=\"1.7\"><polygon points=\"0,0 5,1.75 0,3.5\" /></marker></defs><g style=\"fill:white;\"><g transform=\"matrix(1.0, 0.0, 0.0, 1.0, 363.00000000000006, 311.30638000000005)\"><g transform=\"matrix(47.61904761904762, 0.0, 0.0, 47.61904761904762, 0.0, 0.0)\"><g><g transform=\"matrix(1.0, 0.0, 0.0, 1.0, -0.0, -0.0)\"><g><g style=\"fill: #ffffff;stroke: black;stroke-width: 1.5;\" transform=\"matrix(1.0, 0.0, 0.0, 1.0, 0.0, 0.0)\"><rect height=\"12.452255200000003\" style=\"vector-effect: non-scaling-stroke;\" width=\"14.520000000000003\" x=\"-7.260000000000002\" y=\"-6.226127600000002\" /></g><g transform=\"matrix(1.0, 0.0, 0.0, 1.0, -0.0, -5.4011276000000015)\"><g><g><g><g><g><g><g style=\"stroke: black;stroke-width: 1.5;\" transform=\"matrix(1.0, 0.0, 0.0, 1.0, 0.0, 0.0)\"><g /></g><g transform=\"matrix(1.0, 0.0, 0.0, 1.0, 0.0, 0.75)\"><g style=\"stroke: black;stroke-width: 1.5;\" transform=\"matrix(1.0, 0.0, 0.0, 1.0, 0.0, 0.0)\"><text style=\"text-align:center; text-anchor:middle; dominant-baseline:middle;font-family:sans-serif; font-weight: bold;font-size:1px;vector-effect: non-scaling-stroke;\" transform=\"translate(-5e-05, 0)\">Map 2D</text></g></g></g><g transform=\"matrix(1.0, 0.0, 0.0, 1.0, 0.0, 1.2501)\"><g style=\"stroke: black;stroke-width: 1.5;\" transform=\"matrix(1.0, 0.0, 0.0, 1.0, 0.0, 0.0)\"><g /></g></g></g><g transform=\"matrix(1.0, 0.0, 0.0, 1.0, 0.0, 3.3501000000000003)\"><g transform=\"matrix(1.0, 0.0, 0.0, 1.0, -1.1, -1.1)\"><g><g><g><g><g><g><g><g><g><g /><g transform=\"matrix(1.0, 0.0, 0.0, 1.0, 0.0, 0.0)\"><g><g style=\"fill: #ff0000;stroke: black;stroke-width: 1.5;fill-opacity: 0.7;\" transform=\"matrix(1.0, 0.0, 0.0, 1.0, 0.0, 0.0)\"><circle cx=\"0.0\" cy=\"0.0\" r=\"0.5\" style=\"vector-effect: non-scaling-stroke\" /></g><g style=\"stroke: black;stroke-width: 1.5;\" transform=\"matrix(0.0008333333333333334, 0.0, 0.0, 0.0008333333333333334, 0.0, 0.0)\"><image transform=\"translate(-600.0, -600.0)\" xlink:href=\"https://raw.githubusercontent.com/minitorch/diagrams/main/robot.png\" /></g></g></g></g><g transform=\"matrix(1.0, 0.0, 0.0, 1.0, 1.1, 0.0)\"><g><g style=\"fill: #ff7100;stroke: black;stroke-width: 1.5;fill-opacity: 0.7;\" transform=\"matrix(1.0, 0.0, 0.0, 1.0, 0.0, 0.0)\"><circle cx=\"0.0\" cy=\"0.0\" r=\"0.5\" style=\"vector-effect: non-scaling-stroke\" /></g><g style=\"stroke: black;stroke-width: 1.5;\" transform=\"matrix(0.0008333333333333334, 0.0, 0.0, 0.0008333333333333334, 0.0, 0.0)\"><image transform=\"translate(-600.0, -600.0)\" xlink:href=\"https://raw.githubusercontent.com/minitorch/diagrams/main/robot.png\" /></g></g></g></g><g transform=\"matrix(1.0, 0.0, 0.0, 1.0, 2.2, 0.0)\"><g><g style=\"fill: #ffe300;stroke: black;stroke-width: 1.5;fill-opacity: 0.7;\" transform=\"matrix(1.0, 0.0, 0.0, 1.0, 0.0, 0.0)\"><circle cx=\"0.0\" cy=\"0.0\" r=\"0.5\" style=\"vector-effect: non-scaling-stroke\" /></g><g style=\"stroke: black;stroke-width: 1.5;\" transform=\"matrix(0.0008333333333333334, 0.0, 0.0, 0.0008333333333333334, 0.0, 0.0)\"><image transform=\"translate(-600.0, -600.0)\" xlink:href=\"https://raw.githubusercontent.com/minitorch/diagrams/main/robot.png\" /></g></g></g></g><g transform=\"matrix(1.0, 0.0, 0.0, 1.0, 0.0, 1.1)\"><g><g style=\"fill: #aaff00;stroke: black;stroke-width: 1.5;fill-opacity: 0.7;\" transform=\"matrix(1.0, 0.0, 0.0, 1.0, 0.0, 0.0)\"><circle cx=\"0.0\" cy=\"0.0\" r=\"0.5\" style=\"vector-effect: non-scaling-stroke\" /></g><g style=\"stroke: black;stroke-width: 1.5;\" transform=\"matrix(0.0008333333333333334, 0.0, 0.0, 0.0008333333333333334, 0.0, 0.0)\"><image transform=\"translate(-600.0, -600.0)\" xlink:href=\"https://raw.githubusercontent.com/minitorch/diagrams/main/robot.png\" /></g></g></g></g><g transform=\"matrix(1.0, 0.0, 0.0, 1.0, 1.1, 1.1)\"><g><g style=\"fill: #39ff00;stroke: black;stroke-width: 1.5;fill-opacity: 0.7;\" transform=\"matrix(1.0, 0.0, 0.0, 1.0, 0.0, 0.0)\"><circle cx=\"0.0\" cy=\"0.0\" r=\"0.5\" style=\"vector-effect: non-scaling-stroke\" /></g><g style=\"stroke: black;stroke-width: 1.5;\" transform=\"matrix(0.0008333333333333334, 0.0, 0.0, 0.0008333333333333334, 0.0, 0.0)\"><image transform=\"translate(-600.0, -600.0)\" xlink:href=\"https://raw.githubusercontent.com/minitorch/diagrams/main/robot.png\" /></g></g></g></g><g transform=\"matrix(1.0, 0.0, 0.0, 1.0, 2.2, 1.1)\"><g><g style=\"fill: #00ff39;stroke: black;stroke-width: 1.5;fill-opacity: 0.7;\" transform=\"matrix(1.0, 0.0, 0.0, 1.0, 0.0, 0.0)\"><circle cx=\"0.0\" cy=\"0.0\" r=\"0.5\" style=\"vector-effect: non-scaling-stroke\" /></g><g style=\"stroke: black;stroke-width: 1.5;\" transform=\"matrix(0.0008333333333333334, 0.0, 0.0, 0.0008333333333333334, 0.0, 0.0)\"><image transform=\"translate(-600.0, -600.0)\" xlink:href=\"https://raw.githubusercontent.com/minitorch/diagrams/main/robot.png\" /></g></g></g></g><g transform=\"matrix(1.0, 0.0, 0.0, 1.0, 0.0, 2.2)\"><g><g style=\"fill: #00ffaa;stroke: black;stroke-width: 1.5;fill-opacity: 0.7;\" transform=\"matrix(1.0, 0.0, 0.0, 1.0, 0.0, 0.0)\"><circle cx=\"0.0\" cy=\"0.0\" r=\"0.5\" style=\"vector-effect: non-scaling-stroke\" /></g><g style=\"stroke: black;stroke-width: 1.5;\" transform=\"matrix(0.0008333333333333334, 0.0, 0.0, 0.0008333333333333334, 0.0, 0.0)\"><image transform=\"translate(-600.0, -600.0)\" xlink:href=\"https://raw.githubusercontent.com/minitorch/diagrams/main/robot.png\" /></g></g></g></g><g transform=\"matrix(1.0, 0.0, 0.0, 1.0, 1.1, 2.2)\"><g><g style=\"fill: #00e3ff;stroke: black;stroke-width: 1.5;fill-opacity: 0.7;\" transform=\"matrix(1.0, 0.0, 0.0, 1.0, 0.0, 0.0)\"><circle cx=\"0.0\" cy=\"0.0\" r=\"0.5\" style=\"vector-effect: non-scaling-stroke\" /></g><g style=\"stroke: black;stroke-width: 1.5;\" transform=\"matrix(0.0008333333333333334, 0.0, 0.0, 0.0008333333333333334, 0.0, 0.0)\"><image transform=\"translate(-600.0, -600.0)\" xlink:href=\"https://raw.githubusercontent.com/minitorch/diagrams/main/robot.png\" /></g></g></g></g><g transform=\"matrix(1.0, 0.0, 0.0, 1.0, 2.2, 2.2)\"><g><g style=\"fill: #0071ff;stroke: black;stroke-width: 1.5;fill-opacity: 0.7;\" transform=\"matrix(1.0, 0.0, 0.0, 1.0, 0.0, 0.0)\"><circle cx=\"0.0\" cy=\"0.0\" r=\"0.5\" style=\"vector-effect: non-scaling-stroke\" /></g><g style=\"stroke: black;stroke-width: 1.5;\" transform=\"matrix(0.0008333333333333334, 0.0, 0.0, 0.0008333333333333334, 0.0, 0.0)\"><image transform=\"translate(-600.0, -600.0)\" xlink:href=\"https://raw.githubusercontent.com/minitorch/diagrams/main/robot.png\" /></g></g></g></g></g></g></g><g transform=\"matrix(1.0, 0.0, 0.0, 1.0, 0.0, 5.450100000000001)\"><g style=\"stroke: black;stroke-width: 1.5;\" transform=\"matrix(1.0, 0.0, 0.0, 1.0, 0.0, 0.0)\"><g /></g></g></g><g transform=\"matrix(1.0, 0.0, 0.0, 1.0, 0.0, 8.260166000000002)\"><g transform=\"matrix(1.0, 0.0, 0.0, 1.0, -0.0, -0.0)\"><g><g /><g transform=\"matrix(1.0, 0.0, 0.0, 1.0, 0.0, 0.0)\"><g><g><g><g transform=\"matrix(1.0, 0.0, 0.0, 1.0, -4.5, -0.0)\"><g><g><g style=\"stroke: black;stroke-width: 1.5;\" transform=\"matrix(1.0, 0.0, 0.0, 1.0, 0.0, 0.0)\"><g /></g><g transform=\"matrix(1.0, 0.0, 0.0, 1.0, 4.5, 0.0)\"><g transform=\"matrix(1.0, 0.0, 0.0, 1.0, -0.0, 0.5000499999999999)\"><g><g transform=\"matrix(1.0, 0.0, 0.0, 1.0, -3.0, -0.0)\"><g><g><g><g><g><g><g><g><g><g><g><g><g><g transform=\"matrix(1.0, 0.0, 0.0, 1.0, -0.0, 0.25)\"><g><g transform=\"matrix(1.0, 0.0, 0.0, 1.0, -0.5, -0.5)\"><g><g><g><g><g /><g><g style=\"stroke: black;stroke-width: 0.75;\" transform=\"matrix(1.0, 0.0, 0.0, 1.0, 0.0, 0.0)\"><rect height=\"1\" style=\"vector-effect: non-scaling-stroke;\" width=\"1\" x=\"-0.5\" y=\"-0.5\" /></g></g></g><g><g style=\"stroke: black;stroke-width: 0.75;\" transform=\"matrix(1.0, 0.0, 0.0, 1.0, 0.0, 1.0)\"><rect height=\"1\" style=\"vector-effect: non-scaling-stroke;\" width=\"1\" x=\"-0.5\" y=\"-0.5\" /></g></g></g><g><g style=\"stroke: black;stroke-width: 0.75;\" transform=\"matrix(1.0, 0.0, 0.0, 1.0, 1.0, 0.0)\"><rect height=\"1\" style=\"vector-effect: non-scaling-stroke;\" width=\"1\" x=\"-0.5\" y=\"-0.5\" /></g></g></g><g><g style=\"stroke: black;stroke-width: 0.75;\" transform=\"matrix(1.0, 0.0, 0.0, 1.0, 1.0, 1.0)\"><rect height=\"1\" style=\"vector-effect: non-scaling-stroke;\" width=\"1\" x=\"-0.5\" y=\"-0.5\" /></g></g></g></g><g transform=\"matrix(1.0, 0.0, 0.0, 1.0, -0.0, -1.25)\"><g><g style=\"fill: #000000;stroke: black;stroke-width: 0.0;\" transform=\"matrix(1.0, 0.0, 0.0, 1.0, 0.0, 0.0)\"><text style=\"text-align:center; text-anchor:middle; dominant-baseline:middle;font-family:sans-serif; font-weight: bold;font-size:0.5px;vector-effect: non-scaling-stroke;\" transform=\"translate(-5e-05, 0)\">a</text></g><g style=\"stroke: black;stroke-width: 1.5;\" transform=\"matrix(1.0, 0.0, 0.0, 1.0, 0.0, 0.0)\"><g /></g></g></g></g></g><g transform=\"matrix(1.0, 0.0, 0.0, 1.0, 2.0, 0.0)\"><g style=\"stroke: black;stroke-width: 1.5;\" transform=\"matrix(1.0, 0.0, 0.0, 1.0, 0.0, 0.0)\"><g /></g></g></g><g transform=\"matrix(1.0, 0.0, 0.0, 1.0, 3.0, 0.0)\"><g /></g></g><g transform=\"matrix(1.0, 0.0, 0.0, 1.0, 4.0, 0.0)\"><g style=\"stroke: black;stroke-width: 1.5;\" transform=\"matrix(1.0, 0.0, 0.0, 1.0, 0.0, 0.0)\"><g /></g></g></g><g transform=\"matrix(1.0, 0.0, 0.0, 1.0, 6.0, 0.0)\"><g transform=\"matrix(1.0, 0.0, 0.0, 1.0, -0.0, 0.25)\"><g><g transform=\"matrix(1.0, 0.0, 0.0, 1.0, -0.5, -0.5)\"><g><g><g><g><g /><g><g style=\"stroke: black;stroke-width: 0.75;\" transform=\"matrix(1.0, 0.0, 0.0, 1.0, 0.0, 0.0)\"><rect height=\"1\" style=\"vector-effect: non-scaling-stroke;\" width=\"1\" x=\"-0.5\" y=\"-0.5\" /></g></g></g><g><g style=\"stroke: black;stroke-width: 0.75;\" transform=\"matrix(1.0, 0.0, 0.0, 1.0, 0.0, 1.0)\"><rect height=\"1\" style=\"vector-effect: non-scaling-stroke;\" width=\"1\" x=\"-0.5\" y=\"-0.5\" /></g></g></g><g><g style=\"stroke: black;stroke-width: 0.75;\" transform=\"matrix(1.0, 0.0, 0.0, 1.0, 1.0, 0.0)\"><rect height=\"1\" style=\"vector-effect: non-scaling-stroke;\" width=\"1\" x=\"-0.5\" y=\"-0.5\" /></g></g></g><g><g style=\"stroke: black;stroke-width: 0.75;\" transform=\"matrix(1.0, 0.0, 0.0, 1.0, 1.0, 1.0)\"><rect height=\"1\" style=\"vector-effect: non-scaling-stroke;\" width=\"1\" x=\"-0.5\" y=\"-0.5\" /></g></g></g></g><g transform=\"matrix(1.0, 0.0, 0.0, 1.0, -0.0, -1.25)\"><g><g style=\"fill: #000000;stroke: black;stroke-width: 0.0;\" transform=\"matrix(1.0, 0.0, 0.0, 1.0, 0.0, 0.0)\"><text style=\"text-align:center; text-anchor:middle; dominant-baseline:middle;font-family:sans-serif; font-weight: bold;font-size:0.5px;vector-effect: non-scaling-stroke;\" transform=\"translate(-5e-05, 0)\">out</text></g><g style=\"stroke: black;stroke-width: 1.5;\" transform=\"matrix(1.0, 0.0, 0.0, 1.0, 0.0, 0.0)\"><g /></g></g></g></g></g></g></g><g><g><g /><g /></g><g><g /><g><g><g><g /><g style=\"stroke: #ff0000;stroke-width: 0.6;\" transform=\"matrix(-0.998802079557052, -0.04893266672181542, 0.04893266672181542, -0.998802079557052, 5.0, -0.25)\"><polyline points=\"0.0,0.0 5.790269615676132,0.0\" style=\"vector-effect: non-scaling-stroke;\" /></g></g><g><g /><g transform=\"matrix(1.0, 0.0, 0.0, 1.0, 5.5, -0.25)\"><g style=\"stroke: #ff0000;stroke-width: 2.25;fill-opacity: 0;\" transform=\"matrix(1.0, 0.0, 0.0, 1.0, 0.0, 0.0)\"><rect height=\"0.95\" style=\"vector-effect: non-scaling-stroke;\" width=\"0.95\" x=\"-0.475\" y=\"-0.475\" /></g></g></g></g><g><g /><g transform=\"matrix(1.0, 0.0, 0.0, 1.0, -0.7833333333333334, -0.5333333333333334)\"><g style=\"fill: #ff0000;stroke: black;stroke-width: 0.6;\" transform=\"matrix(1.0, 0.0, 0.0, 1.0, 0.0, 0.0)\"><circle cx=\"0.0\" cy=\"0.0\" r=\"0.1\" style=\"vector-effect: non-scaling-stroke\" /></g></g></g></g></g></g></g><g><g><g /><g /></g><g><g /><g><g><g><g /><g style=\"stroke: #ff7100;stroke-width: 0.6;\" transform=\"matrix(-0.9986757297720644, -0.05144693153371231, 0.05144693153371231, -0.9986757297720644, 6.0, -0.25)\"><polyline points=\"0.0,0.0 5.507293144347573,0.0\" style=\"vector-effect: non-scaling-stroke;\" /></g></g><g><g /><g transform=\"matrix(1.0, 0.0, 0.0, 1.0, 6.5, -0.25)\"><g style=\"stroke: #ff7100;stroke-width: 2.25;fill-opacity: 0;\" transform=\"matrix(1.0, 0.0, 0.0, 1.0, 0.0, 0.0)\"><rect height=\"0.95\" style=\"vector-effect: non-scaling-stroke;\" width=\"0.95\" x=\"-0.475\" y=\"-0.475\" /></g></g></g></g><g><g /><g transform=\"matrix(1.0, 0.0, 0.0, 1.0, 0.5, -0.5333333333333334)\"><g style=\"fill: #ff7100;stroke: black;stroke-width: 0.6;\" transform=\"matrix(1.0, 0.0, 0.0, 1.0, 0.0, 0.0)\"><circle cx=\"0.0\" cy=\"0.0\" r=\"0.1\" style=\"vector-effect: non-scaling-stroke\" /></g></g></g></g></g></g></g><g><g><g /><g /></g><g /></g></g><g><g><g /><g /></g><g><g /><g><g><g><g /><g style=\"stroke: #aaff00;stroke-width: 0.6;\" transform=\"matrix(-1.0, 0.0, 0.0, -1.0, 5.0, 0.75)\"><polyline points=\"0.0,0.0 5.783333333333333,0.0\" style=\"vector-effect: non-scaling-stroke;\" /></g></g><g><g /><g transform=\"matrix(1.0, 0.0, 0.0, 1.0, 5.5, 0.75)\"><g style=\"stroke: #aaff00;stroke-width: 2.25;fill-opacity: 0;\" transform=\"matrix(1.0, 0.0, 0.0, 1.0, 0.0, 0.0)\"><rect height=\"0.95\" style=\"vector-effect: non-scaling-stroke;\" width=\"0.95\" x=\"-0.475\" y=\"-0.475\" /></g></g></g></g><g><g /><g transform=\"matrix(1.0, 0.0, 0.0, 1.0, -0.7833333333333334, 0.75)\"><g style=\"fill: #aaff00;stroke: black;stroke-width: 0.6;\" transform=\"matrix(1.0, 0.0, 0.0, 1.0, 0.0, 0.0)\"><circle cx=\"0.0\" cy=\"0.0\" r=\"0.1\" style=\"vector-effect: non-scaling-stroke\" /></g></g></g></g></g></g></g><g><g><g /><g /></g><g><g /><g><g><g><g /><g style=\"stroke: #39ff00;stroke-width: 0.6;\" transform=\"matrix(-1.0, 0.0, 0.0, -1.0, 6.0, 0.75)\"><polyline points=\"0.0,0.0 5.5,0.0\" style=\"vector-effect: non-scaling-stroke;\" /></g></g><g><g /><g transform=\"matrix(1.0, 0.0, 0.0, 1.0, 6.5, 0.75)\"><g style=\"stroke: #39ff00;stroke-width: 2.25;fill-opacity: 0;\" transform=\"matrix(1.0, 0.0, 0.0, 1.0, 0.0, 0.0)\"><rect height=\"0.95\" style=\"vector-effect: non-scaling-stroke;\" width=\"0.95\" x=\"-0.475\" y=\"-0.475\" /></g></g></g></g><g><g /><g transform=\"matrix(1.0, 0.0, 0.0, 1.0, 0.5, 0.75)\"><g style=\"fill: #39ff00;stroke: black;stroke-width: 0.6;\" transform=\"matrix(1.0, 0.0, 0.0, 1.0, 0.0, 0.0)\"><circle cx=\"0.0\" cy=\"0.0\" r=\"0.1\" style=\"vector-effect: non-scaling-stroke\" /></g></g></g></g></g></g></g><g><g><g /><g /></g><g /></g></g><g><g><g /><g /></g><g /></g></g><g><g><g /><g /></g><g /></g></g><g><g><g /><g /></g><g /></g></g></g><g transform=\"matrix(1.0, 0.0, 0.0, 1.0, -0.0, -2.0000999999999998)\"><g><g><g style=\"stroke: black;stroke-width: 1.5;\" transform=\"matrix(1.0, 0.0, 0.0, 1.0, 0.0, 0.0)\"><g /></g><g transform=\"matrix(1.0, 0.0, 0.0, 1.0, 0.0, 0.25)\"><g style=\"fill: #000000;stroke: black;stroke-width: 0.0;\" transform=\"matrix(1.0, 0.0, 0.0, 1.0, 0.0, 0.0)\"><text style=\"text-align:center; text-anchor:middle; dominant-baseline:middle;font-family:sans-serif; font-weight: bold;font-size:0.5px;vector-effect: non-scaling-stroke;\" transform=\"translate(-5e-05, 0)\">Block 0 0</text></g></g></g><g transform=\"matrix(1.0, 0.0, 0.0, 1.0, 0.0, 0.5001)\"><g style=\"stroke: black;stroke-width: 1.5;\" transform=\"matrix(1.0, 0.0, 0.0, 1.0, 0.0, 0.0)\"><g /></g></g></g></g></g></g></g></g><g transform=\"matrix(1.0, 0.0, 0.0, 1.0, 9.0, 0.0)\"><g style=\"stroke: black;stroke-width: 1.5;\" transform=\"matrix(1.0, 0.0, 0.0, 1.0, 0.0, 0.0)\"><g /></g></g></g></g><g /></g><g style=\"stroke: #808080;stroke-width: 1.5;fill-opacity: 0.0;\" transform=\"matrix(1.0, 0.0, 0.0, 1.0, 0.0, 0.0)\"><rect height=\"4.200119999999999\" rx=\"0.5\" ry=\"0.5\" style=\"vector-effect: non-scaling-stroke;\" width=\"12.0\" x=\"-6.0\" y=\"-2.1000599999999996\" /></g></g><g /></g></g></g></g></g></g><g /></g></g></g></g><g /></g></g></g></g></svg>"
          },
          "metadata": {},
          "execution_count": 13
        }
      ],
      "source": [
        "def map_2D_test(cuda):\n",
        "    def call(out, a, size) -> None:\n",
        "        local_i = cuda.threadIdx.x\n",
        "        local_j = cuda.threadIdx.y\n",
        "        # FILL ME IN (roughly 2 lines)\n",
        "        if local_i < size and local_j < size:\n",
        "          out[local_i, local_j] = a[local_i, local_j] + 10\n",
        "\n",
        "    return call\n",
        "\n",
        "\n",
        "SIZE = 2\n",
        "out = np.zeros((SIZE, SIZE))\n",
        "a = np.arange(SIZE * SIZE).reshape((SIZE, SIZE))\n",
        "problem = CudaProblem(\n",
        "    \"Map 2D\", map_2D_test, [a], out, [SIZE], threadsperblock=Coord(3, 3), spec=map_spec\n",
        ")\n",
        "problem.show()"
      ]
    },
    {
      "cell_type": "code",
      "execution_count": 14,
      "id": "ed777631",
      "metadata": {
        "execution": {
          "iopub.execute_input": "2022-08-07T21:24:41.643707Z",
          "iopub.status.busy": "2022-08-07T21:24:41.643280Z",
          "iopub.status.idle": "2022-08-07T21:24:41.675212Z",
          "shell.execute_reply": "2022-08-07T21:24:41.674350Z"
        },
        "lines_to_end_of_cell_marker": 0,
        "lines_to_next_cell": 1,
        "id": "ed777631",
        "outputId": "0712649f-1782-4bc1-8863-3bcc2bf624fa",
        "colab": {
          "base_uri": "https://localhost:8080/",
          "height": 480
        }
      },
      "outputs": [
        {
          "output_type": "stream",
          "name": "stdout",
          "text": [
            "Passed Tests!\n"
          ]
        },
        {
          "output_type": "execute_result",
          "data": {
            "text/plain": [
              "<IPython.core.display.HTML object>"
            ],
            "text/html": [
              "\n",
              "            <video alt=\"test\" controls autoplay=1>\n",
              "                <source src=\"https://openpuppies.com/mp4/6tVqKyM.mp4\"  type=\"video/mp4\">\n",
              "            </video>\n",
              "            "
            ]
          },
          "metadata": {},
          "execution_count": 14
        }
      ],
      "source": [
        "problem.check()"
      ]
    },
    {
      "cell_type": "markdown",
      "id": "bdcfd649",
      "metadata": {
        "id": "bdcfd649"
      },
      "source": [
        "## Puzzle 5 - Broadcast\n",
        "\n",
        "Implement a kernel that adds `a` and `b` and stores it in `out`.\n",
        "Inputs `a` and `b` are vectors. You have more threads than positions."
      ]
    },
    {
      "cell_type": "code",
      "execution_count": 15,
      "id": "123e664b",
      "metadata": {
        "execution": {
          "iopub.execute_input": "2022-08-07T21:24:41.679242Z",
          "iopub.status.busy": "2022-08-07T21:24:41.678801Z",
          "iopub.status.idle": "2022-08-07T21:24:41.759781Z",
          "shell.execute_reply": "2022-08-07T21:24:41.758930Z"
        },
        "id": "123e664b",
        "outputId": "9760db6d-6963-4f12-ba85-16f283f68aca",
        "colab": {
          "base_uri": "https://localhost:8080/",
          "height": 1000
        }
      },
      "outputs": [
        {
          "output_type": "stream",
          "name": "stdout",
          "text": [
            "# Broadcast\n",
            " \n",
            "   Score (Max Per Thread):\n",
            "   |  Global Reads | Global Writes |  Shared Reads | Shared Writes |\n",
            "   |             0 |             0 |             0 |             0 | \n",
            "\n"
          ]
        },
        {
          "output_type": "execute_result",
          "data": {
            "text/plain": [
              "Compose(envelope=<chalk.envelope.Envelope object at 0x78b38c7858d0>, diagram1=ApplyStyle(style=Style(line_width=None, line_color=None, fill_color=<Color white>, fill_opacity=None, dashing=None, output_size=None), diagram=Primitive(shape=Rectangle(width=14.520000000000003, height=17.534255200000004, radius=None), style=Style(line_width=None, line_color=None, fill_color=None, fill_opacity=None, dashing=None, output_size=None), transform=Affine(1.0, 0.0, 0.0,\n",
              "       0.0, 1.0, 0.0))), diagram2=ApplyTransform(transform=Affine(1.0, 0.0, -0.0,\n",
              "       0.0, 1.0, -7.942127600000003), diagram=Compose(envelope=<chalk.envelope.Envelope object at 0x78b38c7854d0>, diagram1=Compose(envelope=<chalk.envelope.Envelope object at 0x78b38c785350>, diagram1=Compose(envelope=<chalk.envelope.Envelope object at 0x78b38c785110>, diagram1=Compose(envelope=<chalk.envelope.Envelope object at 0x78b38c784e50>, diagram1=Compose(envelope=<chalk.envelope.Envelope object at 0x78b38c784c10>, diagram1=Compose(envelope=<chalk.envelope.Envelope object at 0x78b38c784950>, diagram1=Primitive(shape=Spacer(width=0, height=1.5), style=Style(line_width=None, line_color=None, fill_color=None, fill_opacity=None, dashing=None, output_size=None), transform=Affine(1.0, 0.0, 0.0,\n",
              "       0.0, 1.0, 0.0)), diagram2=ApplyTransform(transform=Affine(1.0, 0.0, 0.0,\n",
              "       0.0, 1.0, 0.75), diagram=Primitive(shape=Text(text='Broadcast', font_size=1), style=Style(line_width=None, line_color=None, fill_color=None, fill_opacity=None, dashing=None, output_size=None), transform=Affine(1.0, 0.0, 0.0,\n",
              "       0.0, 1.0, 0.0)))), diagram2=ApplyTransform(transform=Affine(1.0, 0.0, 0.0,\n",
              "       0.0, 1.0, 1.2501), diagram=Primitive(shape=Spacer(width=0, height=1), style=Style(line_width=None, line_color=None, fill_color=None, fill_opacity=None, dashing=None, output_size=None), transform=Affine(1.0, 0.0, 0.0,\n",
              "       0.0, 1.0, 0.0)))), diagram2=ApplyTransform(transform=Affine(1.0, 0.0, 0.0,\n",
              "       0.0, 1.0, 3.3501000000000003), diagram=ApplyTransform(transform=Affine(1.0, 0.0, -1.1,\n",
              "       0.0, 1.0, -1.1), diagram=Compose(envelope=<chalk.envelope.Envelope object at 0x78b38c784550>, diagram1=Compose(envelope=<chalk.envelope.Envelope object at 0x78b38c7843d0>, diagram1=Compose(envelope=<chalk.envelope.Envelope object at 0x78b38c784250>, diagram1=Compose(envelope=<chalk.envelope.Envelope object at 0x78b38c7840d0>, diagram1=Compose(envelope=<chalk.envelope.Envelope object at 0x78b38c77bf10>, diagram1=Compose(envelope=<chalk.envelope.Envelope object at 0x78b38c77bd90>, diagram1=Compose(envelope=<chalk.envelope.Envelope object at 0x78b38c77bc10>, diagram1=Compose(envelope=<chalk.envelope.Envelope object at 0x78b38c77ba90>, diagram1=Compose(envelope=<chalk.envelope.Envelope object at 0x78b38c77b950>, diagram1=Empty(), diagram2=ApplyTransform(transform=Affine(1.0, 0.0, 0.0,\n",
              "       0.0, 1.0, 0.0), diagram=Compose(envelope=<chalk.envelope.Envelope object at 0x78b38c779610>, diagram1=ApplyStyle(style=Style(line_width=None, line_color=None, fill_color=None, fill_opacity=0.7, dashing=None, output_size=None), diagram=ApplyStyle(style=Style(line_width=None, line_color=None, fill_color=<Color red>, fill_opacity=None, dashing=None, output_size=None), diagram=Primitive(shape=Circle(radius=0.5), style=Style(line_width=None, line_color=None, fill_color=None, fill_opacity=None, dashing=None, output_size=None), transform=Affine(1.0, 0.0, 0.0,\n",
              "       0.0, 1.0, 0.0)))), diagram2=Primitive(shape=Image(local_path='robot.png', url_path='https://raw.githubusercontent.com/minitorch/diagrams/main/robot.png'), style=Style(line_width=None, line_color=None, fill_color=None, fill_opacity=None, dashing=None, output_size=None), transform=Affine(0.0008333333333333334, 0.0, 0.0,\n",
              "       0.0, 0.0008333333333333334, 0.0))))), diagram2=ApplyTransform(transform=Affine(1.0, 0.0, 1.1,\n",
              "       0.0, 1.0, 0.0), diagram=Compose(envelope=<chalk.envelope.Envelope object at 0x78b38c779a50>, diagram1=ApplyStyle(style=Style(line_width=None, line_color=None, fill_color=None, fill_opacity=0.7, dashing=None, output_size=None), diagram=ApplyStyle(style=Style(line_width=None, line_color=None, fill_color=<Color #ff7100>, fill_opacity=None, dashing=None, output_size=None), diagram=Primitive(shape=Circle(radius=0.5), style=Style(line_width=None, line_color=None, fill_color=None, fill_opacity=None, dashing=None, output_size=None), transform=Affine(1.0, 0.0, 0.0,\n",
              "       0.0, 1.0, 0.0)))), diagram2=Primitive(shape=Image(local_path='robot.png', url_path='https://raw.githubusercontent.com/minitorch/diagrams/main/robot.png'), style=Style(line_width=None, line_color=None, fill_color=None, fill_opacity=None, dashing=None, output_size=None), transform=Affine(0.0008333333333333334, 0.0, 0.0,\n",
              "       0.0, 0.0008333333333333334, 0.0))))), diagram2=ApplyTransform(transform=Affine(1.0, 0.0, 2.2,\n",
              "       0.0, 1.0, 0.0), diagram=Compose(envelope=<chalk.envelope.Envelope object at 0x78b38c779e90>, diagram1=ApplyStyle(style=Style(line_width=None, line_color=None, fill_color=None, fill_opacity=0.7, dashing=None, output_size=None), diagram=ApplyStyle(style=Style(line_width=None, line_color=None, fill_color=<Color #ffe300>, fill_opacity=None, dashing=None, output_size=None), diagram=Primitive(shape=Circle(radius=0.5), style=Style(line_width=None, line_color=None, fill_color=None, fill_opacity=None, dashing=None, output_size=None), transform=Affine(1.0, 0.0, 0.0,\n",
              "       0.0, 1.0, 0.0)))), diagram2=Primitive(shape=Image(local_path='robot.png', url_path='https://raw.githubusercontent.com/minitorch/diagrams/main/robot.png'), style=Style(line_width=None, line_color=None, fill_color=None, fill_opacity=None, dashing=None, output_size=None), transform=Affine(0.0008333333333333334, 0.0, 0.0,\n",
              "       0.0, 0.0008333333333333334, 0.0))))), diagram2=ApplyTransform(transform=Affine(1.0, 0.0, 0.0,\n",
              "       0.0, 1.0, 1.1), diagram=Compose(envelope=<chalk.envelope.Envelope object at 0x78b38c77a2d0>, diagram1=ApplyStyle(style=Style(line_width=None, line_color=None, fill_color=None, fill_opacity=0.7, dashing=None, output_size=None), diagram=ApplyStyle(style=Style(line_width=None, line_color=None, fill_color=<Color #af0>, fill_opacity=None, dashing=None, output_size=None), diagram=Primitive(shape=Circle(radius=0.5), style=Style(line_width=None, line_color=None, fill_color=None, fill_opacity=None, dashing=None, output_size=None), transform=Affine(1.0, 0.0, 0.0,\n",
              "       0.0, 1.0, 0.0)))), diagram2=Primitive(shape=Image(local_path='robot.png', url_path='https://raw.githubusercontent.com/minitorch/diagrams/main/robot.png'), style=Style(line_width=None, line_color=None, fill_color=None, fill_opacity=None, dashing=None, output_size=None), transform=Affine(0.0008333333333333334, 0.0, 0.0,\n",
              "       0.0, 0.0008333333333333334, 0.0))))), diagram2=ApplyTransform(transform=Affine(1.0, 0.0, 1.1,\n",
              "       0.0, 1.0, 1.1), diagram=Compose(envelope=<chalk.envelope.Envelope object at 0x78b38c77a710>, diagram1=ApplyStyle(style=Style(line_width=None, line_color=None, fill_color=None, fill_opacity=0.7, dashing=None, output_size=None), diagram=ApplyStyle(style=Style(line_width=None, line_color=None, fill_color=<Color #39ff00>, fill_opacity=None, dashing=None, output_size=None), diagram=Primitive(shape=Circle(radius=0.5), style=Style(line_width=None, line_color=None, fill_color=None, fill_opacity=None, dashing=None, output_size=None), transform=Affine(1.0, 0.0, 0.0,\n",
              "       0.0, 1.0, 0.0)))), diagram2=Primitive(shape=Image(local_path='robot.png', url_path='https://raw.githubusercontent.com/minitorch/diagrams/main/robot.png'), style=Style(line_width=None, line_color=None, fill_color=None, fill_opacity=None, dashing=None, output_size=None), transform=Affine(0.0008333333333333334, 0.0, 0.0,\n",
              "       0.0, 0.0008333333333333334, 0.0))))), diagram2=ApplyTransform(transform=Affine(1.0, 0.0, 2.2,\n",
              "       0.0, 1.0, 1.1), diagram=Compose(envelope=<chalk.envelope.Envelope object at 0x78b38c77ab90>, diagram1=ApplyStyle(style=Style(line_width=None, line_color=None, fill_color=None, fill_opacity=0.7, dashing=None, output_size=None), diagram=ApplyStyle(style=Style(line_width=None, line_color=None, fill_color=<Color #00ff39>, fill_opacity=None, dashing=None, output_size=None), diagram=Primitive(shape=Circle(radius=0.5), style=Style(line_width=None, line_color=None, fill_color=None, fill_opacity=None, dashing=None, output_size=None), transform=Affine(1.0, 0.0, 0.0,\n",
              "       0.0, 1.0, 0.0)))), diagram2=Primitive(shape=Image(local_path='robot.png', url_path='https://raw.githubusercontent.com/minitorch/diagrams/main/robot.png'), style=Style(line_width=None, line_color=None, fill_color=None, fill_opacity=None, dashing=None, output_size=None), transform=Affine(0.0008333333333333334, 0.0, 0.0,\n",
              "       0.0, 0.0008333333333333334, 0.0))))), diagram2=ApplyTransform(transform=Affine(1.0, 0.0, 0.0,\n",
              "       0.0, 1.0, 2.2), diagram=Compose(envelope=<chalk.envelope.Envelope object at 0x78b38c77afd0>, diagram1=ApplyStyle(style=Style(line_width=None, line_color=None, fill_color=None, fill_opacity=0.7, dashing=None, output_size=None), diagram=ApplyStyle(style=Style(line_width=None, line_color=None, fill_color=<Color #0fa>, fill_opacity=None, dashing=None, output_size=None), diagram=Primitive(shape=Circle(radius=0.5), style=Style(line_width=None, line_color=None, fill_color=None, fill_opacity=None, dashing=None, output_size=None), transform=Affine(1.0, 0.0, 0.0,\n",
              "       0.0, 1.0, 0.0)))), diagram2=Primitive(shape=Image(local_path='robot.png', url_path='https://raw.githubusercontent.com/minitorch/diagrams/main/robot.png'), style=Style(line_width=None, line_color=None, fill_color=None, fill_opacity=None, dashing=None, output_size=None), transform=Affine(0.0008333333333333334, 0.0, 0.0,\n",
              "       0.0, 0.0008333333333333334, 0.0))))), diagram2=ApplyTransform(transform=Affine(1.0, 0.0, 1.1,\n",
              "       0.0, 1.0, 2.2), diagram=Compose(envelope=<chalk.envelope.Envelope object at 0x78b38c77b410>, diagram1=ApplyStyle(style=Style(line_width=None, line_color=None, fill_color=None, fill_opacity=0.7, dashing=None, output_size=None), diagram=ApplyStyle(style=Style(line_width=None, line_color=None, fill_color=<Color #00e3ff>, fill_opacity=None, dashing=None, output_size=None), diagram=Primitive(shape=Circle(radius=0.5), style=Style(line_width=None, line_color=None, fill_color=None, fill_opacity=None, dashing=None, output_size=None), transform=Affine(1.0, 0.0, 0.0,\n",
              "       0.0, 1.0, 0.0)))), diagram2=Primitive(shape=Image(local_path='robot.png', url_path='https://raw.githubusercontent.com/minitorch/diagrams/main/robot.png'), style=Style(line_width=None, line_color=None, fill_color=None, fill_opacity=None, dashing=None, output_size=None), transform=Affine(0.0008333333333333334, 0.0, 0.0,\n",
              "       0.0, 0.0008333333333333334, 0.0))))), diagram2=ApplyTransform(transform=Affine(1.0, 0.0, 2.2,\n",
              "       0.0, 1.0, 2.2), diagram=Compose(envelope=<chalk.envelope.Envelope object at 0x78b38c77b850>, diagram1=ApplyStyle(style=Style(line_width=None, line_color=None, fill_color=None, fill_opacity=0.7, dashing=None, output_size=None), diagram=ApplyStyle(style=Style(line_width=None, line_color=None, fill_color=<Color #0071ff>, fill_opacity=None, dashing=None, output_size=None), diagram=Primitive(shape=Circle(radius=0.5), style=Style(line_width=None, line_color=None, fill_color=None, fill_opacity=None, dashing=None, output_size=None), transform=Affine(1.0, 0.0, 0.0,\n",
              "       0.0, 1.0, 0.0)))), diagram2=Primitive(shape=Image(local_path='robot.png', url_path='https://raw.githubusercontent.com/minitorch/diagrams/main/robot.png'), style=Style(line_width=None, line_color=None, fill_color=None, fill_opacity=None, dashing=None, output_size=None), transform=Affine(0.0008333333333333334, 0.0, 0.0,\n",
              "       0.0, 0.0008333333333333334, 0.0)))))))), diagram2=ApplyTransform(transform=Affine(1.0, 0.0, 0.0,\n",
              "       0.0, 1.0, 5.450100000000001), diagram=Primitive(shape=Spacer(width=0, height=1), style=Style(line_width=None, line_color=None, fill_color=None, fill_opacity=None, dashing=None, output_size=None), transform=Affine(1.0, 0.0, 0.0,\n",
              "       0.0, 1.0, 0.0)))), diagram2=ApplyTransform(transform=Affine(1.0, 0.0, 0.0,\n",
              "       0.0, 1.0, 10.570166), diagram=ApplyTransform(transform=Affine(1.0, 0.0, -0.0,\n",
              "       0.0, 1.0, -0.0), diagram=Compose(envelope=<chalk.envelope.Envelope object at 0x78b38c7792d0>, diagram1=Empty(), diagram2=ApplyTransform(transform=Affine(1.0, 0.0, 0.0,\n",
              "       0.0, 1.0, 0.0), diagram=Compose(envelope=<chalk.envelope.Envelope object at 0x78b38c778fd0>, diagram1=Compose(envelope=<chalk.envelope.Envelope object at 0x78b38c778ed0>, diagram1=Compose(envelope=<chalk.envelope.Envelope object at 0x78b38c778890>, diagram1=ApplyTransform(transform=Affine(1.0, 0.0, -4.5,\n",
              "       0.0, 1.0, -0.0), diagram=Compose(envelope=<chalk.envelope.Envelope object at 0x78b38c778750>, diagram1=Compose(envelope=<chalk.envelope.Envelope object at 0x78b38c7783d0>, diagram1=Primitive(shape=Spacer(width=1, height=0), style=Style(line_width=None, line_color=None, fill_color=None, fill_opacity=None, dashing=None, output_size=None), transform=Affine(1.0, 0.0, 0.0,\n",
              "       0.0, 1.0, 0.0)), diagram2=ApplyTransform(transform=Affine(1.0, 0.0, 4.5,\n",
              "       0.0, 1.0, 0.0), diagram=ApplyTransform(transform=Affine(1.0, 0.0, -0.0,\n",
              "       0.0, 1.0, 0.5000499999999999), diagram=Compose(envelope=<chalk.envelope.Envelope object at 0x78b38c778190>, diagram1=ApplyTransform(transform=Affine(1.0, 0.0, -3.0,\n",
              "       0.0, 1.0, -0.0), diagram=Compose(envelope=<chalk.envelope.Envelope object at 0x78b38c7676d0>, diagram1=Compose(envelope=<chalk.envelope.Envelope object at 0x78b38c767390>, diagram1=Compose(envelope=<chalk.envelope.Envelope object at 0x78b38c767050>, diagram1=Compose(envelope=<chalk.envelope.Envelope object at 0x78b38c766d10>, diagram1=Compose(envelope=<chalk.envelope.Envelope object at 0x78b38c7669d0>, diagram1=Compose(envelope=<chalk.envelope.Envelope object at 0x78b38c766690>, diagram1=Compose(envelope=<chalk.envelope.Envelope object at 0x78b38c766350>, diagram1=Compose(envelope=<chalk.envelope.Envelope object at 0x78b38c766010>, diagram1=Compose(envelope=<chalk.envelope.Envelope object at 0x78b38c765cd0>, diagram1=Compose(envelope=<chalk.envelope.Envelope object at 0x78b38c765950>, diagram1=Compose(envelope=<chalk.envelope.Envelope object at 0x78b38c765790>, diagram1=Compose(envelope=<chalk.envelope.Envelope object at 0x78b38c765590>, diagram1=Compose(envelope=<chalk.envelope.Envelope object at 0x78b38c765490>, diagram1=ApplyTransform(transform=Affine(1.0, 0.0, -0.0,\n",
              "       0.0, 1.0, -2.0), diagram=Compose(envelope=<chalk.envelope.Envelope object at 0x78b38c976cd0>, diagram1=Compose(envelope=<chalk.envelope.Envelope object at 0x78b38c764210>, diagram1=Compose(envelope=<chalk.envelope.Envelope object at 0x78b38c744b10>, diagram1=ApplyStyle(style=Style(line_width=(<WidthType.NORMALIZED: 2>, 0.05), line_color=None, fill_color=None, fill_opacity=None, dashing=None, output_size=None), diagram=ApplyTransform(transform=Affine(1.0, 0.0, -0.5,\n",
              "       0.0, 1.0, -0.0), diagram=Compose(envelope=<chalk.envelope.Envelope object at 0x78b38c747a90>, diagram1=Compose(envelope=<chalk.envelope.Envelope object at 0x78b38c745210>, diagram1=Empty(), diagram2=ApplyName(dname=('a', 0, 0), diagram=Primitive(shape=Rectangle(width=1, height=1, radius=None), style=Style(line_width=None, line_color=None, fill_color=None, fill_opacity=None, dashing=None, output_size=None), transform=Affine(1.0, 0.0, 0.0,\n",
              "       0.0, 1.0, 0.0)))), diagram2=ApplyName(dname=('a', 1, 0), diagram=Primitive(shape=Rectangle(width=1, height=1, radius=None), style=Style(line_width=None, line_color=None, fill_color=None, fill_opacity=None, dashing=None, output_size=None), transform=Affine(1.0, 0.0, 1.0,\n",
              "       0.0, 1.0, 0.0)))))), diagram2=ApplyTransform(transform=Affine(1.0, 0.0, -0.0,\n",
              "       0.0, 1.0, -0.75), diagram=Compose(envelope=<chalk.envelope.Envelope object at 0x78b38c745910>, diagram1=ApplyStyle(style=Style(line_width=(<WidthType.NORMALIZED: 2>, 0.0), line_color=None, fill_color=None, fill_opacity=None, dashing=None, output_size=None), diagram=ApplyStyle(style=Style(line_width=None, line_color=None, fill_color=<Color black>, fill_opacity=None, dashing=None, output_size=None), diagram=Primitive(shape=Text(text='a', font_size=0.5), style=Style(line_width=None, line_color=None, fill_color=None, fill_opacity=None, dashing=None, output_size=None), transform=Affine(1.0, 0.0, 0.0,\n",
              "       0.0, 1.0, 0.0)))), diagram2=Primitive(shape=Spacer(width=0, height=0.5), style=Style(line_width=None, line_color=None, fill_color=None, fill_opacity=None, dashing=None, output_size=None), transform=Affine(1.0, 0.0, 0.0,\n",
              "       0.0, 1.0, 0.0))))), diagram2=ApplyTransform(transform=Affine(1.0, 0.0, 0.0,\n",
              "       0.0, 1.0, 1.5), diagram=Primitive(shape=Spacer(width=2.0, height=0), style=Style(line_width=None, line_color=None, fill_color=None, fill_opacity=None, dashing=None, output_size=None), transform=Affine(0.0, 1.0, 0.0,\n",
              "       -1.0, 0.0, 0.0)))), diagram2=ApplyTransform(transform=Affine(1.0, 0.0, 0.0,\n",
              "       0.0, 1.0, 4.0), diagram=Compose(envelope=<chalk.envelope.Envelope object at 0x78b38c745510>, diagram1=ApplyStyle(style=Style(line_width=(<WidthType.NORMALIZED: 2>, 0.05), line_color=None, fill_color=None, fill_opacity=None, dashing=None, output_size=None), diagram=ApplyTransform(transform=Affine(1.0, 0.0, -0.0,\n",
              "       0.0, 1.0, -0.5), diagram=Compose(envelope=<chalk.envelope.Envelope object at 0x78b38c744dd0>, diagram1=Compose(envelope=<chalk.envelope.Envelope object at 0x78b38c7448d0>, diagram1=Empty(), diagram2=ApplyName(dname=('b', 0, 0), diagram=Primitive(shape=Rectangle(width=1, height=1, radius=None), style=Style(line_width=None, line_color=None, fill_color=None, fill_opacity=None, dashing=None, output_size=None), transform=Affine(1.0, 0.0, 0.0,\n",
              "       0.0, 1.0, 0.0)))), diagram2=ApplyName(dname=('b', 0, 1), diagram=Primitive(shape=Rectangle(width=1, height=1, radius=None), style=Style(line_width=None, line_color=None, fill_color=None, fill_opacity=None, dashing=None, output_size=None), transform=Affine(1.0, 0.0, 0.0,\n",
              "       0.0, 1.0, 1.0)))))), diagram2=ApplyTransform(transform=Affine(1.0, 0.0, -0.0,\n",
              "       0.0, 1.0, -1.25), diagram=Compose(envelope=<chalk.envelope.Envelope object at 0x78b38c745290>, diagram1=ApplyStyle(style=Style(line_width=(<WidthType.NORMALIZED: 2>, 0.0), line_color=None, fill_color=None, fill_opacity=None, dashing=None, output_size=None), diagram=ApplyStyle(style=Style(line_width=None, line_color=None, fill_color=<Color black>, fill_opacity=None, dashing=None, output_size=None), diagram=Primitive(shape=Text(text='b', font_size=0.5), style=Style(line_width=None, line_color=None, fill_color=None, fill_opacity=None, dashing=None, output_size=None), transform=Affine(1.0, 0.0, 0.0,\n",
              "       0.0, 1.0, 0.0)))), diagram2=Primitive(shape=Spacer(width=0, height=0.5), style=Style(line_width=None, line_color=None, fill_color=None, fill_opacity=None, dashing=None, output_size=None), transform=Affine(1.0, 0.0, 0.0,\n",
              "       0.0, 1.0, 0.0)))))))), diagram2=ApplyTransform(transform=Affine(1.0, 0.0, 2.0,\n",
              "       0.0, 1.0, 0.0), diagram=Primitive(shape=Spacer(width=2.0, height=0), style=Style(line_width=None, line_color=None, fill_color=None, fill_opacity=None, dashing=None, output_size=None), transform=Affine(1.0, 0.0, 0.0,\n",
              "       0.0, 1.0, 0.0)))), diagram2=ApplyTransform(transform=Affine(1.0, 0.0, 3.0,\n",
              "       0.0, 1.0, 0.0), diagram=Empty())), diagram2=ApplyTransform(transform=Affine(1.0, 0.0, 4.0,\n",
              "       0.0, 1.0, 0.0), diagram=Primitive(shape=Spacer(width=2.0, height=0), style=Style(line_width=None, line_color=None, fill_color=None, fill_opacity=None, dashing=None, output_size=None), transform=Affine(1.0, 0.0, 0.0,\n",
              "       0.0, 1.0, 0.0)))), diagram2=ApplyTransform(transform=Affine(1.0, 0.0, 6.0,\n",
              "       0.0, 1.0, 0.0), diagram=ApplyTransform(transform=Affine(1.0, 0.0, -0.0,\n",
              "       0.0, 1.0, 0.25), diagram=Compose(envelope=<chalk.envelope.Envelope object at 0x78b38c765110>, diagram1=ApplyStyle(style=Style(line_width=(<WidthType.NORMALIZED: 2>, 0.05), line_color=None, fill_color=None, fill_opacity=None, dashing=None, output_size=None), diagram=ApplyTransform(transform=Affine(1.0, 0.0, -0.5,\n",
              "       0.0, 1.0, -0.5), diagram=Compose(envelope=<chalk.envelope.Envelope object at 0x78b38c764bd0>, diagram1=Compose(envelope=<chalk.envelope.Envelope object at 0x78b38c7649d0>, diagram1=Compose(envelope=<chalk.envelope.Envelope object at 0x78b38c7647d0>, diagram1=Compose(envelope=<chalk.envelope.Envelope object at 0x78b38c764610>, diagram1=Empty(), diagram2=ApplyName(dname=('out', 0, 0), diagram=Primitive(shape=Rectangle(width=1, height=1, radius=None), style=Style(line_width=None, line_color=None, fill_color=None, fill_opacity=None, dashing=None, output_size=None), transform=Affine(1.0, 0.0, 0.0,\n",
              "       0.0, 1.0, 0.0)))), diagram2=ApplyName(dname=('out', 0, 1), diagram=Primitive(shape=Rectangle(width=1, height=1, radius=None), style=Style(line_width=None, line_color=None, fill_color=None, fill_opacity=None, dashing=None, output_size=None), transform=Affine(1.0, 0.0, 0.0,\n",
              "       0.0, 1.0, 1.0)))), diagram2=ApplyName(dname=('out', 1, 0), diagram=Primitive(shape=Rectangle(width=1, height=1, radius=None), style=Style(line_width=None, line_color=None, fill_color=None, fill_opacity=None, dashing=None, output_size=None), transform=Affine(1.0, 0.0, 1.0,\n",
              "       0.0, 1.0, 0.0)))), diagram2=ApplyName(dname=('out', 1, 1), diagram=Primitive(shape=Rectangle(width=1, height=1, radius=None), style=Style(line_width=None, line_color=None, fill_color=None, fill_opacity=None, dashing=None, output_size=None), transform=Affine(1.0, 0.0, 1.0,\n",
              "       0.0, 1.0, 1.0)))))), diagram2=ApplyTransform(transform=Affine(1.0, 0.0, -0.0,\n",
              "       0.0, 1.0, -1.25), diagram=Compose(envelope=<chalk.envelope.Envelope object at 0x78b38c764f90>, diagram1=ApplyStyle(style=Style(line_width=(<WidthType.NORMALIZED: 2>, 0.0), line_color=None, fill_color=None, fill_opacity=None, dashing=None, output_size=None), diagram=ApplyStyle(style=Style(line_width=None, line_color=None, fill_color=<Color black>, fill_opacity=None, dashing=None, output_size=None), diagram=Primitive(shape=Text(text='out', font_size=0.5), style=Style(line_width=None, line_color=None, fill_color=None, fill_opacity=None, dashing=None, output_size=None), transform=Affine(1.0, 0.0, 0.0,\n",
              "       0.0, 1.0, 0.0)))), diagram2=Primitive(shape=Spacer(width=0, height=0.5), style=Style(line_width=None, line_color=None, fill_color=None, fill_opacity=None, dashing=None, output_size=None), transform=Affine(1.0, 0.0, 0.0,\n",
              "       0.0, 1.0, 0.0)))))))), diagram2=Compose(envelope=<chalk.envelope.Envelope object at 0x78b38c765c50>, diagram1=Compose(envelope=<chalk.envelope.Envelope object at 0x78b38c765b90>, diagram1=Compose(envelope=<chalk.envelope.Envelope object at 0x78b38c765b10>, diagram1=Empty(), diagram2=Empty()), diagram2=Empty()), diagram2=Empty())), diagram2=Compose(envelope=<chalk.envelope.Envelope object at 0x78b38c765f90>, diagram1=Compose(envelope=<chalk.envelope.Envelope object at 0x78b38c765ed0>, diagram1=Compose(envelope=<chalk.envelope.Envelope object at 0x78b38c765e50>, diagram1=Empty(), diagram2=Empty()), diagram2=Empty()), diagram2=Empty())), diagram2=Compose(envelope=<chalk.envelope.Envelope object at 0x78b38c7662d0>, diagram1=Compose(envelope=<chalk.envelope.Envelope object at 0x78b38c766210>, diagram1=Compose(envelope=<chalk.envelope.Envelope object at 0x78b38c766190>, diagram1=Empty(), diagram2=Empty()), diagram2=Empty()), diagram2=Empty())), diagram2=Compose(envelope=<chalk.envelope.Envelope object at 0x78b38c766610>, diagram1=Compose(envelope=<chalk.envelope.Envelope object at 0x78b38c766550>, diagram1=Compose(envelope=<chalk.envelope.Envelope object at 0x78b38c7664d0>, diagram1=Empty(), diagram2=Empty()), diagram2=Empty()), diagram2=Empty())), diagram2=Compose(envelope=<chalk.envelope.Envelope object at 0x78b38c766950>, diagram1=Compose(envelope=<chalk.envelope.Envelope object at 0x78b38c766890>, diagram1=Compose(envelope=<chalk.envelope.Envelope object at 0x78b38c766810>, diagram1=Empty(), diagram2=Empty()), diagram2=Empty()), diagram2=Empty())), diagram2=Compose(envelope=<chalk.envelope.Envelope object at 0x78b38c766c90>, diagram1=Compose(envelope=<chalk.envelope.Envelope object at 0x78b38c766bd0>, diagram1=Compose(envelope=<chalk.envelope.Envelope object at 0x78b38c766b50>, diagram1=Empty(), diagram2=Empty()), diagram2=Empty()), diagram2=Empty())), diagram2=Compose(envelope=<chalk.envelope.Envelope object at 0x78b38c766fd0>, diagram1=Compose(envelope=<chalk.envelope.Envelope object at 0x78b38c766f10>, diagram1=Compose(envelope=<chalk.envelope.Envelope object at 0x78b38c766e90>, diagram1=Empty(), diagram2=Empty()), diagram2=Empty()), diagram2=Empty())), diagram2=Compose(envelope=<chalk.envelope.Envelope object at 0x78b38c767310>, diagram1=Compose(envelope=<chalk.envelope.Envelope object at 0x78b38c767250>, diagram1=Compose(envelope=<chalk.envelope.Envelope object at 0x78b38c7671d0>, diagram1=Empty(), diagram2=Empty()), diagram2=Empty()), diagram2=Empty())), diagram2=Compose(envelope=<chalk.envelope.Envelope object at 0x78b38c767650>, diagram1=Compose(envelope=<chalk.envelope.Envelope object at 0x78b38c767590>, diagram1=Compose(envelope=<chalk.envelope.Envelope object at 0x78b38c767510>, diagram1=Empty(), diagram2=Empty()), diagram2=Empty()), diagram2=Empty()))), diagram2=ApplyTransform(transform=Affine(1.0, 0.0, -0.0,\n",
              "       0.0, 1.0, -3.7500999999999998), diagram=Compose(envelope=<chalk.envelope.Envelope object at 0x78b38c767f10>, diagram1=Compose(envelope=<chalk.envelope.Envelope object at 0x78b38c767c50>, diagram1=Primitive(shape=Spacer(width=0, height=0.5), style=Style(line_width=None, line_color=None, fill_color=None, fill_opacity=None, dashing=None, output_size=None), transform=Affine(1.0, 0.0, 0.0,\n",
              "       0.0, 1.0, 0.0)), diagram2=ApplyTransform(transform=Affine(1.0, 0.0, 0.0,\n",
              "       0.0, 1.0, 0.25), diagram=ApplyStyle(style=Style(line_width=(<WidthType.NORMALIZED: 2>, 0), line_color=None, fill_color=None, fill_opacity=None, dashing=None, output_size=None), diagram=ApplyStyle(style=Style(line_width=None, line_color=None, fill_color=<Color black>, fill_opacity=None, dashing=None, output_size=None), diagram=Primitive(shape=Text(text='Block 0 0', font_size=0.5), style=Style(line_width=None, line_color=None, fill_color=None, fill_opacity=None, dashing=None, output_size=None), transform=Affine(1.0, 0.0, 0.0,\n",
              "       0.0, 1.0, 0.0)))))), diagram2=ApplyTransform(transform=Affine(1.0, 0.0, 0.0,\n",
              "       0.0, 1.0, 0.5001), diagram=Primitive(shape=Spacer(width=0, height=0.5), style=Style(line_width=None, line_color=None, fill_color=None, fill_opacity=None, dashing=None, output_size=None), transform=Affine(1.0, 0.0, 0.0,\n",
              "       0.0, 1.0, 0.0))))))))), diagram2=ApplyTransform(transform=Affine(1.0, 0.0, 9.0,\n",
              "       0.0, 1.0, 0.0), diagram=Primitive(shape=Spacer(width=1, height=0), style=Style(line_width=None, line_color=None, fill_color=None, fill_opacity=None, dashing=None, output_size=None), transform=Affine(1.0, 0.0, 0.0,\n",
              "       0.0, 1.0, 0.0))))), diagram2=Empty()), diagram2=ApplyStyle(style=Style(line_width=None, line_color=None, fill_color=None, fill_opacity=0.0, dashing=None, output_size=None), diagram=ApplyStyle(style=Style(line_width=None, line_color=<Color gray>, fill_color=None, fill_opacity=None, dashing=None, output_size=None), diagram=Primitive(shape=Rectangle(width=12.0, height=8.40012, radius=0.5), style=Style(line_width=None, line_color=None, fill_color=None, fill_opacity=None, dashing=None, output_size=None), transform=Affine(1.0, 0.0, 0.0,\n",
              "       0.0, 1.0, 0.0))))), diagram2=Empty())))))), diagram2=Empty())))"
            ],
            "image/svg+xml": "<?xml version=\"1.0\" encoding=\"utf-8\" ?>\n<svg baseProfile=\"full\" height=\"876.7127600000002\" version=\"1.1\" width=\"726\" xmlns=\"http://www.w3.org/2000/svg\" xmlns:ev=\"http://www.w3.org/2001/xml-events\" xmlns:xlink=\"http://www.w3.org/1999/xlink\"><defs><marker id=\"arrow\" markerHeight=\"3.5\" markerWidth=\"5\" orient=\"auto\" refX=\"5.0\" refY=\"1.7\"><polygon points=\"0,0 5,1.75 0,3.5\" /></marker></defs><g style=\"fill:white;\"><g transform=\"matrix(1.0, 0.0, 0.0, 1.0, 363.0, 438.35638)\"><g transform=\"matrix(47.619047619047606, 0.0, 0.0, 47.619047619047606, 0.0, 0.0)\"><g><g transform=\"matrix(1.0, 0.0, 0.0, 1.0, -0.0, -0.0)\"><g><g style=\"fill: #ffffff;stroke: black;stroke-width: 1.5;\" transform=\"matrix(1.0, 0.0, 0.0, 1.0, 0.0, 0.0)\"><rect height=\"17.534255200000004\" style=\"vector-effect: non-scaling-stroke;\" width=\"14.520000000000003\" x=\"-7.260000000000002\" y=\"-8.767127600000002\" /></g><g transform=\"matrix(1.0, 0.0, 0.0, 1.0, -0.0, -7.942127600000003)\"><g><g><g><g><g><g><g style=\"stroke: black;stroke-width: 1.5;\" transform=\"matrix(1.0, 0.0, 0.0, 1.0, 0.0, 0.0)\"><g /></g><g transform=\"matrix(1.0, 0.0, 0.0, 1.0, 0.0, 0.75)\"><g style=\"stroke: black;stroke-width: 1.5;\" transform=\"matrix(1.0, 0.0, 0.0, 1.0, 0.0, 0.0)\"><text style=\"text-align:center; text-anchor:middle; dominant-baseline:middle;font-family:sans-serif; font-weight: bold;font-size:1px;vector-effect: non-scaling-stroke;\" transform=\"translate(-5e-05, 0)\">Broadcast</text></g></g></g><g transform=\"matrix(1.0, 0.0, 0.0, 1.0, 0.0, 1.2501)\"><g style=\"stroke: black;stroke-width: 1.5;\" transform=\"matrix(1.0, 0.0, 0.0, 1.0, 0.0, 0.0)\"><g /></g></g></g><g transform=\"matrix(1.0, 0.0, 0.0, 1.0, 0.0, 3.3501000000000003)\"><g transform=\"matrix(1.0, 0.0, 0.0, 1.0, -1.1, -1.1)\"><g><g><g><g><g><g><g><g><g><g /><g transform=\"matrix(1.0, 0.0, 0.0, 1.0, 0.0, 0.0)\"><g><g style=\"fill: #ff0000;stroke: black;stroke-width: 1.5;fill-opacity: 0.7;\" transform=\"matrix(1.0, 0.0, 0.0, 1.0, 0.0, 0.0)\"><circle cx=\"0.0\" cy=\"0.0\" r=\"0.5\" style=\"vector-effect: non-scaling-stroke\" /></g><g style=\"stroke: black;stroke-width: 1.5;\" transform=\"matrix(0.0008333333333333334, 0.0, 0.0, 0.0008333333333333334, 0.0, 0.0)\"><image transform=\"translate(-600.0, -600.0)\" xlink:href=\"https://raw.githubusercontent.com/minitorch/diagrams/main/robot.png\" /></g></g></g></g><g transform=\"matrix(1.0, 0.0, 0.0, 1.0, 1.1, 0.0)\"><g><g style=\"fill: #ff7100;stroke: black;stroke-width: 1.5;fill-opacity: 0.7;\" transform=\"matrix(1.0, 0.0, 0.0, 1.0, 0.0, 0.0)\"><circle cx=\"0.0\" cy=\"0.0\" r=\"0.5\" style=\"vector-effect: non-scaling-stroke\" /></g><g style=\"stroke: black;stroke-width: 1.5;\" transform=\"matrix(0.0008333333333333334, 0.0, 0.0, 0.0008333333333333334, 0.0, 0.0)\"><image transform=\"translate(-600.0, -600.0)\" xlink:href=\"https://raw.githubusercontent.com/minitorch/diagrams/main/robot.png\" /></g></g></g></g><g transform=\"matrix(1.0, 0.0, 0.0, 1.0, 2.2, 0.0)\"><g><g style=\"fill: #ffe300;stroke: black;stroke-width: 1.5;fill-opacity: 0.7;\" transform=\"matrix(1.0, 0.0, 0.0, 1.0, 0.0, 0.0)\"><circle cx=\"0.0\" cy=\"0.0\" r=\"0.5\" style=\"vector-effect: non-scaling-stroke\" /></g><g style=\"stroke: black;stroke-width: 1.5;\" transform=\"matrix(0.0008333333333333334, 0.0, 0.0, 0.0008333333333333334, 0.0, 0.0)\"><image transform=\"translate(-600.0, -600.0)\" xlink:href=\"https://raw.githubusercontent.com/minitorch/diagrams/main/robot.png\" /></g></g></g></g><g transform=\"matrix(1.0, 0.0, 0.0, 1.0, 0.0, 1.1)\"><g><g style=\"fill: #aaff00;stroke: black;stroke-width: 1.5;fill-opacity: 0.7;\" transform=\"matrix(1.0, 0.0, 0.0, 1.0, 0.0, 0.0)\"><circle cx=\"0.0\" cy=\"0.0\" r=\"0.5\" style=\"vector-effect: non-scaling-stroke\" /></g><g style=\"stroke: black;stroke-width: 1.5;\" transform=\"matrix(0.0008333333333333334, 0.0, 0.0, 0.0008333333333333334, 0.0, 0.0)\"><image transform=\"translate(-600.0, -600.0)\" xlink:href=\"https://raw.githubusercontent.com/minitorch/diagrams/main/robot.png\" /></g></g></g></g><g transform=\"matrix(1.0, 0.0, 0.0, 1.0, 1.1, 1.1)\"><g><g style=\"fill: #39ff00;stroke: black;stroke-width: 1.5;fill-opacity: 0.7;\" transform=\"matrix(1.0, 0.0, 0.0, 1.0, 0.0, 0.0)\"><circle cx=\"0.0\" cy=\"0.0\" r=\"0.5\" style=\"vector-effect: non-scaling-stroke\" /></g><g style=\"stroke: black;stroke-width: 1.5;\" transform=\"matrix(0.0008333333333333334, 0.0, 0.0, 0.0008333333333333334, 0.0, 0.0)\"><image transform=\"translate(-600.0, -600.0)\" xlink:href=\"https://raw.githubusercontent.com/minitorch/diagrams/main/robot.png\" /></g></g></g></g><g transform=\"matrix(1.0, 0.0, 0.0, 1.0, 2.2, 1.1)\"><g><g style=\"fill: #00ff39;stroke: black;stroke-width: 1.5;fill-opacity: 0.7;\" transform=\"matrix(1.0, 0.0, 0.0, 1.0, 0.0, 0.0)\"><circle cx=\"0.0\" cy=\"0.0\" r=\"0.5\" style=\"vector-effect: non-scaling-stroke\" /></g><g style=\"stroke: black;stroke-width: 1.5;\" transform=\"matrix(0.0008333333333333334, 0.0, 0.0, 0.0008333333333333334, 0.0, 0.0)\"><image transform=\"translate(-600.0, -600.0)\" xlink:href=\"https://raw.githubusercontent.com/minitorch/diagrams/main/robot.png\" /></g></g></g></g><g transform=\"matrix(1.0, 0.0, 0.0, 1.0, 0.0, 2.2)\"><g><g style=\"fill: #00ffaa;stroke: black;stroke-width: 1.5;fill-opacity: 0.7;\" transform=\"matrix(1.0, 0.0, 0.0, 1.0, 0.0, 0.0)\"><circle cx=\"0.0\" cy=\"0.0\" r=\"0.5\" style=\"vector-effect: non-scaling-stroke\" /></g><g style=\"stroke: black;stroke-width: 1.5;\" transform=\"matrix(0.0008333333333333334, 0.0, 0.0, 0.0008333333333333334, 0.0, 0.0)\"><image transform=\"translate(-600.0, -600.0)\" xlink:href=\"https://raw.githubusercontent.com/minitorch/diagrams/main/robot.png\" /></g></g></g></g><g transform=\"matrix(1.0, 0.0, 0.0, 1.0, 1.1, 2.2)\"><g><g style=\"fill: #00e3ff;stroke: black;stroke-width: 1.5;fill-opacity: 0.7;\" transform=\"matrix(1.0, 0.0, 0.0, 1.0, 0.0, 0.0)\"><circle cx=\"0.0\" cy=\"0.0\" r=\"0.5\" style=\"vector-effect: non-scaling-stroke\" /></g><g style=\"stroke: black;stroke-width: 1.5;\" transform=\"matrix(0.0008333333333333334, 0.0, 0.0, 0.0008333333333333334, 0.0, 0.0)\"><image transform=\"translate(-600.0, -600.0)\" xlink:href=\"https://raw.githubusercontent.com/minitorch/diagrams/main/robot.png\" /></g></g></g></g><g transform=\"matrix(1.0, 0.0, 0.0, 1.0, 2.2, 2.2)\"><g><g style=\"fill: #0071ff;stroke: black;stroke-width: 1.5;fill-opacity: 0.7;\" transform=\"matrix(1.0, 0.0, 0.0, 1.0, 0.0, 0.0)\"><circle cx=\"0.0\" cy=\"0.0\" r=\"0.5\" style=\"vector-effect: non-scaling-stroke\" /></g><g style=\"stroke: black;stroke-width: 1.5;\" transform=\"matrix(0.0008333333333333334, 0.0, 0.0, 0.0008333333333333334, 0.0, 0.0)\"><image transform=\"translate(-600.0, -600.0)\" xlink:href=\"https://raw.githubusercontent.com/minitorch/diagrams/main/robot.png\" /></g></g></g></g></g></g></g><g transform=\"matrix(1.0, 0.0, 0.0, 1.0, 0.0, 5.450100000000001)\"><g style=\"stroke: black;stroke-width: 1.5;\" transform=\"matrix(1.0, 0.0, 0.0, 1.0, 0.0, 0.0)\"><g /></g></g></g><g transform=\"matrix(1.0, 0.0, 0.0, 1.0, 0.0, 10.570166)\"><g transform=\"matrix(1.0, 0.0, 0.0, 1.0, -0.0, -0.0)\"><g><g /><g transform=\"matrix(1.0, 0.0, 0.0, 1.0, 0.0, 0.0)\"><g><g><g><g transform=\"matrix(1.0, 0.0, 0.0, 1.0, -4.5, -0.0)\"><g><g><g style=\"stroke: black;stroke-width: 1.5;\" transform=\"matrix(1.0, 0.0, 0.0, 1.0, 0.0, 0.0)\"><g /></g><g transform=\"matrix(1.0, 0.0, 0.0, 1.0, 4.5, 0.0)\"><g transform=\"matrix(1.0, 0.0, 0.0, 1.0, -0.0, 0.5000499999999999)\"><g><g transform=\"matrix(1.0, 0.0, 0.0, 1.0, -3.0, -0.0)\"><g><g><g><g><g><g><g><g><g><g><g><g><g><g transform=\"matrix(1.0, 0.0, 0.0, 1.0, -0.0, -2.0)\"><g><g><g><g transform=\"matrix(1.0, 0.0, 0.0, 1.0, -0.5, -0.0)\"><g><g><g /><g><g style=\"stroke: black;stroke-width: 0.75;\" transform=\"matrix(1.0, 0.0, 0.0, 1.0, 0.0, 0.0)\"><rect height=\"1\" style=\"vector-effect: non-scaling-stroke;\" width=\"1\" x=\"-0.5\" y=\"-0.5\" /></g></g></g><g><g style=\"stroke: black;stroke-width: 0.75;\" transform=\"matrix(1.0, 0.0, 0.0, 1.0, 1.0, 0.0)\"><rect height=\"1\" style=\"vector-effect: non-scaling-stroke;\" width=\"1\" x=\"-0.5\" y=\"-0.5\" /></g></g></g></g><g transform=\"matrix(1.0, 0.0, 0.0, 1.0, -0.0, -0.75)\"><g><g style=\"fill: #000000;stroke: black;stroke-width: 0.0;\" transform=\"matrix(1.0, 0.0, 0.0, 1.0, 0.0, 0.0)\"><text style=\"text-align:center; text-anchor:middle; dominant-baseline:middle;font-family:sans-serif; font-weight: bold;font-size:0.5px;vector-effect: non-scaling-stroke;\" transform=\"translate(-5e-05, 0)\">a</text></g><g style=\"stroke: black;stroke-width: 1.5;\" transform=\"matrix(1.0, 0.0, 0.0, 1.0, 0.0, 0.0)\"><g /></g></g></g></g><g transform=\"matrix(1.0, 0.0, 0.0, 1.0, 0.0, 1.5)\"><g style=\"stroke: black;stroke-width: 1.5;\" transform=\"matrix(0.0, -1.0, 1.0, 0.0, 0.0, 0.0)\"><g /></g></g></g><g transform=\"matrix(1.0, 0.0, 0.0, 1.0, 0.0, 4.0)\"><g><g transform=\"matrix(1.0, 0.0, 0.0, 1.0, -0.0, -0.5)\"><g><g><g /><g><g style=\"stroke: black;stroke-width: 0.75;\" transform=\"matrix(1.0, 0.0, 0.0, 1.0, 0.0, 0.0)\"><rect height=\"1\" style=\"vector-effect: non-scaling-stroke;\" width=\"1\" x=\"-0.5\" y=\"-0.5\" /></g></g></g><g><g style=\"stroke: black;stroke-width: 0.75;\" transform=\"matrix(1.0, 0.0, 0.0, 1.0, 0.0, 1.0)\"><rect height=\"1\" style=\"vector-effect: non-scaling-stroke;\" width=\"1\" x=\"-0.5\" y=\"-0.5\" /></g></g></g></g><g transform=\"matrix(1.0, 0.0, 0.0, 1.0, -0.0, -1.25)\"><g><g style=\"fill: #000000;stroke: black;stroke-width: 0.0;\" transform=\"matrix(1.0, 0.0, 0.0, 1.0, 0.0, 0.0)\"><text style=\"text-align:center; text-anchor:middle; dominant-baseline:middle;font-family:sans-serif; font-weight: bold;font-size:0.5px;vector-effect: non-scaling-stroke;\" transform=\"translate(-5e-05, 0)\">b</text></g><g style=\"stroke: black;stroke-width: 1.5;\" transform=\"matrix(1.0, 0.0, 0.0, 1.0, 0.0, 0.0)\"><g /></g></g></g></g></g></g></g><g transform=\"matrix(1.0, 0.0, 0.0, 1.0, 2.0, 0.0)\"><g style=\"stroke: black;stroke-width: 1.5;\" transform=\"matrix(1.0, 0.0, 0.0, 1.0, 0.0, 0.0)\"><g /></g></g></g><g transform=\"matrix(1.0, 0.0, 0.0, 1.0, 3.0, 0.0)\"><g /></g></g><g transform=\"matrix(1.0, 0.0, 0.0, 1.0, 4.0, 0.0)\"><g style=\"stroke: black;stroke-width: 1.5;\" transform=\"matrix(1.0, 0.0, 0.0, 1.0, 0.0, 0.0)\"><g /></g></g></g><g transform=\"matrix(1.0, 0.0, 0.0, 1.0, 6.0, 0.0)\"><g transform=\"matrix(1.0, 0.0, 0.0, 1.0, -0.0, 0.25)\"><g><g transform=\"matrix(1.0, 0.0, 0.0, 1.0, -0.5, -0.5)\"><g><g><g><g><g /><g><g style=\"stroke: black;stroke-width: 0.75;\" transform=\"matrix(1.0, 0.0, 0.0, 1.0, 0.0, 0.0)\"><rect height=\"1\" style=\"vector-effect: non-scaling-stroke;\" width=\"1\" x=\"-0.5\" y=\"-0.5\" /></g></g></g><g><g style=\"stroke: black;stroke-width: 0.75;\" transform=\"matrix(1.0, 0.0, 0.0, 1.0, 0.0, 1.0)\"><rect height=\"1\" style=\"vector-effect: non-scaling-stroke;\" width=\"1\" x=\"-0.5\" y=\"-0.5\" /></g></g></g><g><g style=\"stroke: black;stroke-width: 0.75;\" transform=\"matrix(1.0, 0.0, 0.0, 1.0, 1.0, 0.0)\"><rect height=\"1\" style=\"vector-effect: non-scaling-stroke;\" width=\"1\" x=\"-0.5\" y=\"-0.5\" /></g></g></g><g><g style=\"stroke: black;stroke-width: 0.75;\" transform=\"matrix(1.0, 0.0, 0.0, 1.0, 1.0, 1.0)\"><rect height=\"1\" style=\"vector-effect: non-scaling-stroke;\" width=\"1\" x=\"-0.5\" y=\"-0.5\" /></g></g></g></g><g transform=\"matrix(1.0, 0.0, 0.0, 1.0, -0.0, -1.25)\"><g><g style=\"fill: #000000;stroke: black;stroke-width: 0.0;\" transform=\"matrix(1.0, 0.0, 0.0, 1.0, 0.0, 0.0)\"><text style=\"text-align:center; text-anchor:middle; dominant-baseline:middle;font-family:sans-serif; font-weight: bold;font-size:0.5px;vector-effect: non-scaling-stroke;\" transform=\"translate(-5e-05, 0)\">out</text></g><g style=\"stroke: black;stroke-width: 1.5;\" transform=\"matrix(1.0, 0.0, 0.0, 1.0, 0.0, 0.0)\"><g /></g></g></g></g></g></g></g><g><g><g><g /><g /></g><g /></g><g /></g></g><g><g><g><g /><g /></g><g /></g><g /></g></g><g><g><g><g /><g /></g><g /></g><g /></g></g><g><g><g><g /><g /></g><g /></g><g /></g></g><g><g><g><g /><g /></g><g /></g><g /></g></g><g><g><g><g /><g /></g><g /></g><g /></g></g><g><g><g><g /><g /></g><g /></g><g /></g></g><g><g><g><g /><g /></g><g /></g><g /></g></g><g><g><g><g /><g /></g><g /></g><g /></g></g></g><g transform=\"matrix(1.0, 0.0, 0.0, 1.0, -0.0, -3.7500999999999998)\"><g><g><g style=\"stroke: black;stroke-width: 1.5;\" transform=\"matrix(1.0, 0.0, 0.0, 1.0, 0.0, 0.0)\"><g /></g><g transform=\"matrix(1.0, 0.0, 0.0, 1.0, 0.0, 0.25)\"><g style=\"fill: #000000;stroke: black;stroke-width: 0.0;\" transform=\"matrix(1.0, 0.0, 0.0, 1.0, 0.0, 0.0)\"><text style=\"text-align:center; text-anchor:middle; dominant-baseline:middle;font-family:sans-serif; font-weight: bold;font-size:0.5px;vector-effect: non-scaling-stroke;\" transform=\"translate(-5e-05, 0)\">Block 0 0</text></g></g></g><g transform=\"matrix(1.0, 0.0, 0.0, 1.0, 0.0, 0.5001)\"><g style=\"stroke: black;stroke-width: 1.5;\" transform=\"matrix(1.0, 0.0, 0.0, 1.0, 0.0, 0.0)\"><g /></g></g></g></g></g></g></g></g><g transform=\"matrix(1.0, 0.0, 0.0, 1.0, 9.0, 0.0)\"><g style=\"stroke: black;stroke-width: 1.5;\" transform=\"matrix(1.0, 0.0, 0.0, 1.0, 0.0, 0.0)\"><g /></g></g></g></g><g /></g><g style=\"stroke: #808080;stroke-width: 1.5;fill-opacity: 0.0;\" transform=\"matrix(1.0, 0.0, 0.0, 1.0, 0.0, 0.0)\"><rect height=\"8.40012\" rx=\"0.5\" ry=\"0.5\" style=\"vector-effect: non-scaling-stroke;\" width=\"12.0\" x=\"-6.0\" y=\"-4.20006\" /></g></g><g /></g></g></g></g></g></g><g /></g></g></g></g><g /></g></g></g></g></svg>"
          },
          "metadata": {},
          "execution_count": 15
        }
      ],
      "source": [
        "def broadcast_test(cuda):\n",
        "    def call(out, a, b, size) -> None:\n",
        "        local_i = cuda.threadIdx.x\n",
        "        local_j = cuda.threadIdx.y\n",
        "        # FILL ME IN (roughly 2 lines)\n",
        "\n",
        "    return call\n",
        "\n",
        "\n",
        "SIZE = 2\n",
        "out = np.zeros((SIZE, SIZE))\n",
        "a = np.arange(SIZE).reshape(SIZE, 1)\n",
        "b = np.arange(SIZE).reshape(1, SIZE)\n",
        "problem = CudaProblem(\n",
        "    \"Broadcast\",\n",
        "    broadcast_test,\n",
        "    [a, b],\n",
        "    out,\n",
        "    [SIZE],\n",
        "    threadsperblock=Coord(3, 3),\n",
        "    spec=zip_spec,\n",
        ")\n",
        "problem.show()"
      ]
    },
    {
      "cell_type": "code",
      "execution_count": null,
      "id": "f25686b3",
      "metadata": {
        "execution": {
          "iopub.execute_input": "2022-08-07T21:24:41.763601Z",
          "iopub.status.busy": "2022-08-07T21:24:41.763153Z",
          "iopub.status.idle": "2022-08-07T21:24:41.798938Z",
          "shell.execute_reply": "2022-08-07T21:24:41.798139Z"
        },
        "lines_to_end_of_cell_marker": 0,
        "lines_to_next_cell": 1,
        "id": "f25686b3"
      },
      "outputs": [],
      "source": [
        "problem.check()"
      ]
    },
    {
      "cell_type": "markdown",
      "id": "e9c3173e",
      "metadata": {
        "id": "e9c3173e"
      },
      "source": [
        "## Puzzle 6 - Blocks\n",
        "\n",
        "Implement a kernel that adds 10 to each position of `a` and stores it in `out`.\n",
        "You have fewer threads per block than the size of `a`."
      ]
    },
    {
      "cell_type": "markdown",
      "id": "9dd3affc",
      "metadata": {
        "id": "9dd3affc"
      },
      "source": [
        "*Tip: A block is a group of threads. The number of threads per block is limited, but we can\n",
        "have many different blocks. Variable `cuda.blockIdx` tells us what block we are in.*"
      ]
    },
    {
      "cell_type": "code",
      "execution_count": null,
      "id": "6e0a6755",
      "metadata": {
        "execution": {
          "iopub.execute_input": "2022-08-07T21:24:41.803000Z",
          "iopub.status.busy": "2022-08-07T21:24:41.802566Z",
          "iopub.status.idle": "2022-08-07T21:24:41.980798Z",
          "shell.execute_reply": "2022-08-07T21:24:41.979932Z"
        },
        "id": "6e0a6755"
      },
      "outputs": [],
      "source": [
        "def map_block_test(cuda):\n",
        "    def call(out, a, size) -> None:\n",
        "        i = cuda.blockIdx.x * cuda.blockDim.x + cuda.threadIdx.x\n",
        "        # FILL ME IN (roughly 2 lines)\n",
        "\n",
        "    return call\n",
        "\n",
        "\n",
        "SIZE = 9\n",
        "out = np.zeros((SIZE,))\n",
        "a = np.arange(SIZE)\n",
        "problem = CudaProblem(\n",
        "    \"Blocks\",\n",
        "    map_block_test,\n",
        "    [a],\n",
        "    out,\n",
        "    [SIZE],\n",
        "    threadsperblock=Coord(4, 1),\n",
        "    blockspergrid=Coord(3, 1),\n",
        "    spec=map_spec,\n",
        ")\n",
        "problem.show()"
      ]
    },
    {
      "cell_type": "code",
      "execution_count": null,
      "id": "6c02498f",
      "metadata": {
        "execution": {
          "iopub.execute_input": "2022-08-07T21:24:41.985202Z",
          "iopub.status.busy": "2022-08-07T21:24:41.984759Z",
          "iopub.status.idle": "2022-08-07T21:24:42.023573Z",
          "shell.execute_reply": "2022-08-07T21:24:42.022706Z"
        },
        "lines_to_end_of_cell_marker": 0,
        "lines_to_next_cell": 1,
        "id": "6c02498f"
      },
      "outputs": [],
      "source": [
        "problem.check()"
      ]
    },
    {
      "cell_type": "markdown",
      "id": "e1871a41",
      "metadata": {
        "id": "e1871a41"
      },
      "source": [
        "## Puzzle 7 - Blocks 2D\n",
        "\n",
        "Implement the same kernel in 2D.  You have fewer threads per block\n",
        "than the size of `a` in both directions."
      ]
    },
    {
      "cell_type": "code",
      "execution_count": null,
      "id": "8ff4f1b6",
      "metadata": {
        "execution": {
          "iopub.execute_input": "2022-08-07T21:24:42.027634Z",
          "iopub.status.busy": "2022-08-07T21:24:42.027201Z",
          "iopub.status.idle": "2022-08-07T21:24:42.601813Z",
          "shell.execute_reply": "2022-08-07T21:24:42.600919Z"
        },
        "id": "8ff4f1b6"
      },
      "outputs": [],
      "source": [
        "def map_block2D_test(cuda):\n",
        "    def call(out, a, size) -> None:\n",
        "        i = cuda.blockIdx.x * cuda.blockDim.x + cuda.threadIdx.x\n",
        "        # FILL ME IN (roughly 4 lines)\n",
        "\n",
        "    return call\n",
        "\n",
        "\n",
        "SIZE = 5\n",
        "out = np.zeros((SIZE, SIZE))\n",
        "a = np.ones((SIZE, SIZE))\n",
        "\n",
        "problem = CudaProblem(\n",
        "    \"Blocks 2D\",\n",
        "    map_block2D_test,\n",
        "    [a],\n",
        "    out,\n",
        "    [SIZE],\n",
        "    threadsperblock=Coord(3, 3),\n",
        "    blockspergrid=Coord(2, 2),\n",
        "    spec=map_spec,\n",
        ")\n",
        "problem.show()"
      ]
    },
    {
      "cell_type": "code",
      "execution_count": null,
      "id": "e485a106",
      "metadata": {
        "execution": {
          "iopub.execute_input": "2022-08-07T21:24:42.608019Z",
          "iopub.status.busy": "2022-08-07T21:24:42.607554Z",
          "iopub.status.idle": "2022-08-07T21:24:42.645410Z",
          "shell.execute_reply": "2022-08-07T21:24:42.644607Z"
        },
        "id": "e485a106"
      },
      "outputs": [],
      "source": [
        "problem.check()"
      ]
    },
    {
      "cell_type": "markdown",
      "id": "4031ed95",
      "metadata": {
        "id": "4031ed95"
      },
      "source": [
        "## Puzzle 8 - Shared\n",
        "\n",
        "Implement a kernel that adds 10 to each position of `a` and stores it in `out`.\n",
        "You have fewer threads per block than the size of `a`."
      ]
    },
    {
      "cell_type": "markdown",
      "id": "2df50159",
      "metadata": {
        "id": "2df50159"
      },
      "source": [
        "**Warning**: Each block can only have a *constant* amount of shared\n",
        " memory that threads in that block can read and write to. This needs\n",
        " to be a literal python constant not a variable. After writing to\n",
        " shared memory you need to call `cuda.syncthreads` to ensure that\n",
        " threads do not cross."
      ]
    },
    {
      "cell_type": "markdown",
      "id": "9b4a21b0",
      "metadata": {
        "id": "9b4a21b0"
      },
      "source": [
        "(This example does not really need shared memory or syncthreads, but it is a demo.)"
      ]
    },
    {
      "cell_type": "code",
      "execution_count": null,
      "id": "62213ea0",
      "metadata": {
        "execution": {
          "iopub.execute_input": "2022-08-07T21:24:42.649928Z",
          "iopub.status.busy": "2022-08-07T21:24:42.649199Z",
          "iopub.status.idle": "2022-08-07T21:24:42.854066Z",
          "shell.execute_reply": "2022-08-07T21:24:42.853252Z"
        },
        "id": "62213ea0"
      },
      "outputs": [],
      "source": [
        "TPB = 4\n",
        "def shared_test(cuda):\n",
        "    def call(out, a, size) -> None:\n",
        "        shared = cuda.shared.array(TPB, numba.float32)\n",
        "        i = cuda.blockIdx.x * cuda.blockDim.x + cuda.threadIdx.x\n",
        "        local_i = cuda.threadIdx.x\n",
        "\n",
        "        if i < size:\n",
        "            shared[local_i] = a[i]\n",
        "            cuda.syncthreads()\n",
        "\n",
        "        # FILL ME IN (roughly 2 lines)\n",
        "\n",
        "    return call\n",
        "\n",
        "\n",
        "SIZE = 8\n",
        "out = np.zeros(SIZE)\n",
        "a = np.ones(SIZE)\n",
        "problem = CudaProblem(\n",
        "    \"Shared\",\n",
        "    shared_test,\n",
        "    [a],\n",
        "    out,\n",
        "    [SIZE],\n",
        "    threadsperblock=Coord(TPB, 1),\n",
        "    blockspergrid=Coord(2, 1),\n",
        "    spec=map_spec,\n",
        ")\n",
        "problem.show()"
      ]
    },
    {
      "cell_type": "code",
      "execution_count": null,
      "id": "6193e0ea",
      "metadata": {
        "execution": {
          "iopub.execute_input": "2022-08-07T21:24:42.858447Z",
          "iopub.status.busy": "2022-08-07T21:24:42.858006Z",
          "iopub.status.idle": "2022-08-07T21:24:42.926443Z",
          "shell.execute_reply": "2022-08-07T21:24:42.925655Z"
        },
        "lines_to_end_of_cell_marker": 0,
        "lines_to_next_cell": 1,
        "id": "6193e0ea"
      },
      "outputs": [],
      "source": [
        "problem.check()"
      ]
    },
    {
      "cell_type": "markdown",
      "id": "815ee2ee",
      "metadata": {
        "id": "815ee2ee"
      },
      "source": [
        "## Puzzle 9 - Pooling\n",
        "\n",
        "Implement a kernel that sums together the last 3 position of `a` and stores it in `out`.\n",
        "You have 1 thread per position. You only need 1 global read and 1 global write per thread."
      ]
    },
    {
      "cell_type": "markdown",
      "id": "9947cff1",
      "metadata": {
        "id": "9947cff1"
      },
      "source": [
        "*Tip: Remember to be careful about syncing.*"
      ]
    },
    {
      "cell_type": "code",
      "execution_count": null,
      "id": "f35e5fdb",
      "metadata": {
        "execution": {
          "iopub.execute_input": "2022-08-07T21:24:42.930415Z",
          "iopub.status.busy": "2022-08-07T21:24:42.929976Z",
          "iopub.status.idle": "2022-08-07T21:24:43.020899Z",
          "shell.execute_reply": "2022-08-07T21:24:43.020143Z"
        },
        "id": "f35e5fdb"
      },
      "outputs": [],
      "source": [
        "def pool_spec(a):\n",
        "    out = np.zeros(*a.shape)\n",
        "    for i in range(a.shape[0]):\n",
        "        out[i] = a[max(i - 2, 0) : i + 1].sum()\n",
        "    return out\n",
        "\n",
        "\n",
        "TPB = 8\n",
        "def pool_test(cuda):\n",
        "    def call(out, a, size) -> None:\n",
        "        shared = cuda.shared.array(TPB, numba.float32)\n",
        "        i = cuda.blockIdx.x * cuda.blockDim.x + cuda.threadIdx.x\n",
        "        local_i = cuda.threadIdx.x\n",
        "        # FILL ME IN (roughly 8 lines)\n",
        "\n",
        "    return call\n",
        "\n",
        "\n",
        "SIZE = 8\n",
        "out = np.zeros(SIZE)\n",
        "a = np.arange(SIZE)\n",
        "problem = CudaProblem(\n",
        "    \"Pooling\",\n",
        "    pool_test,\n",
        "    [a],\n",
        "    out,\n",
        "    [SIZE],\n",
        "    threadsperblock=Coord(TPB, 1),\n",
        "    blockspergrid=Coord(1, 1),\n",
        "    spec=pool_spec,\n",
        ")\n",
        "problem.show()"
      ]
    },
    {
      "cell_type": "code",
      "execution_count": null,
      "id": "b9ac503e",
      "metadata": {
        "execution": {
          "iopub.execute_input": "2022-08-07T21:24:43.024701Z",
          "iopub.status.busy": "2022-08-07T21:24:43.024250Z",
          "iopub.status.idle": "2022-08-07T21:24:43.069099Z",
          "shell.execute_reply": "2022-08-07T21:24:43.068252Z"
        },
        "lines_to_end_of_cell_marker": 0,
        "lines_to_next_cell": 1,
        "id": "b9ac503e"
      },
      "outputs": [],
      "source": [
        "problem.check()"
      ]
    },
    {
      "cell_type": "markdown",
      "id": "04727aa4",
      "metadata": {
        "id": "04727aa4"
      },
      "source": [
        "## Puzzle 10 - Dot Product\n",
        "\n",
        "Implement a kernel that computes the dot-product of `a` and `b` and stores it in `out`.\n",
        "You have 1 thread per position. You only need 2 global reads and 1 global write per thread."
      ]
    },
    {
      "cell_type": "markdown",
      "id": "1a63a4c2",
      "metadata": {
        "id": "1a63a4c2"
      },
      "source": [
        "*Note: For this problem you don't need to worry about number of shared reads. We will\n",
        " handle that challenge later.*"
      ]
    },
    {
      "cell_type": "code",
      "execution_count": null,
      "id": "e5d84c0f",
      "metadata": {
        "execution": {
          "iopub.execute_input": "2022-08-07T21:24:43.073281Z",
          "iopub.status.busy": "2022-08-07T21:24:43.072839Z",
          "iopub.status.idle": "2022-08-07T21:24:43.174688Z",
          "shell.execute_reply": "2022-08-07T21:24:43.173818Z"
        },
        "id": "e5d84c0f"
      },
      "outputs": [],
      "source": [
        "def dot_spec(a, b):\n",
        "    return a @ b\n",
        "\n",
        "TPB = 8\n",
        "def dot_test(cuda):\n",
        "    def call(out, a, b, size) -> None:\n",
        "        shared = cuda.shared.array(TPB, numba.float32)\n",
        "\n",
        "        i = cuda.blockIdx.x * cuda.blockDim.x + cuda.threadIdx.x\n",
        "        local_i = cuda.threadIdx.x\n",
        "        # FILL ME IN (roughly 9 lines)\n",
        "    return call\n",
        "\n",
        "\n",
        "SIZE = 8\n",
        "out = np.zeros(1)\n",
        "a = np.arange(SIZE)\n",
        "b = np.arange(SIZE)\n",
        "problem = CudaProblem(\n",
        "    \"Dot\",\n",
        "    dot_test,\n",
        "    [a, b],\n",
        "    out,\n",
        "    [SIZE],\n",
        "    threadsperblock=Coord(SIZE, 1),\n",
        "    blockspergrid=Coord(1, 1),\n",
        "    spec=dot_spec,\n",
        ")\n",
        "problem.show()"
      ]
    },
    {
      "cell_type": "code",
      "execution_count": null,
      "id": "1452858a",
      "metadata": {
        "execution": {
          "iopub.execute_input": "2022-08-07T21:24:43.178517Z",
          "iopub.status.busy": "2022-08-07T21:24:43.178082Z",
          "iopub.status.idle": "2022-08-07T21:24:43.224369Z",
          "shell.execute_reply": "2022-08-07T21:24:43.223563Z"
        },
        "id": "1452858a"
      },
      "outputs": [],
      "source": [
        "problem.check()"
      ]
    },
    {
      "cell_type": "markdown",
      "id": "060685a2",
      "metadata": {
        "lines_to_next_cell": 2,
        "id": "060685a2"
      },
      "source": [
        "## Puzzle 11 - 1D Convolution\n",
        "\n",
        "Implement a kernel that computes a 1D convolution between `a` and `b` and stores it in `out`.\n",
        "You need to handle the general case. You only need 2 global reads and 1 global write per thread."
      ]
    },
    {
      "cell_type": "code",
      "execution_count": null,
      "id": "d311eeeb",
      "metadata": {
        "execution": {
          "iopub.execute_input": "2022-08-07T21:24:43.228540Z",
          "iopub.status.busy": "2022-08-07T21:24:43.228045Z",
          "iopub.status.idle": "2022-08-07T21:24:43.325332Z",
          "shell.execute_reply": "2022-08-07T21:24:43.324481Z"
        },
        "id": "d311eeeb"
      },
      "outputs": [],
      "source": [
        "def conv_spec(a, b):\n",
        "    out = np.zeros(*a.shape)\n",
        "    len = b.shape[0]\n",
        "    for i in range(a.shape[0]):\n",
        "        out[i] = sum([a[i + j] * b[j] for j in range(len) if i + j < a.shape[0]])\n",
        "    return out\n",
        "\n",
        "\n",
        "MAX_CONV = 4\n",
        "TPB = 8\n",
        "TPB_MAX_CONV = TPB + MAX_CONV\n",
        "def conv_test(cuda):\n",
        "    def call(out, a, b, a_size, b_size) -> None:\n",
        "        i = cuda.blockIdx.x * cuda.blockDim.x + cuda.threadIdx.x\n",
        "        local_i = cuda.threadIdx.x\n",
        "\n",
        "        # FILL ME IN (roughly 17 lines)\n",
        "\n",
        "    return call\n",
        "\n",
        "\n",
        "# Test 1\n",
        "\n",
        "SIZE = 6\n",
        "CONV = 3\n",
        "out = np.zeros(SIZE)\n",
        "a = np.arange(SIZE)\n",
        "b = np.arange(CONV)\n",
        "problem = CudaProblem(\n",
        "    \"1D Conv (Simple)\",\n",
        "    conv_test,\n",
        "    [a, b],\n",
        "    out,\n",
        "    [SIZE, CONV],\n",
        "    Coord(1, 1),\n",
        "    Coord(TPB, 1),\n",
        "    spec=conv_spec,\n",
        ")\n",
        "problem.show()"
      ]
    },
    {
      "cell_type": "code",
      "execution_count": null,
      "id": "ffb88cd0",
      "metadata": {
        "execution": {
          "iopub.execute_input": "2022-08-07T21:24:43.329452Z",
          "iopub.status.busy": "2022-08-07T21:24:43.328685Z",
          "iopub.status.idle": "2022-08-07T21:24:43.368279Z",
          "shell.execute_reply": "2022-08-07T21:24:43.367480Z"
        },
        "id": "ffb88cd0"
      },
      "outputs": [],
      "source": [
        "problem.check()"
      ]
    },
    {
      "cell_type": "markdown",
      "id": "fd6ffcb3",
      "metadata": {
        "id": "fd6ffcb3"
      },
      "source": [
        "Test 2"
      ]
    },
    {
      "cell_type": "code",
      "execution_count": null,
      "id": "60853445",
      "metadata": {
        "execution": {
          "iopub.execute_input": "2022-08-07T21:24:43.372330Z",
          "iopub.status.busy": "2022-08-07T21:24:43.371893Z",
          "iopub.status.idle": "2022-08-07T21:24:43.587696Z",
          "shell.execute_reply": "2022-08-07T21:24:43.586874Z"
        },
        "id": "60853445"
      },
      "outputs": [],
      "source": [
        "out = np.zeros(15)\n",
        "a = np.arange(15)\n",
        "b = np.arange(4)\n",
        "problem = CudaProblem(\n",
        "    \"1D Conv (Full)\",\n",
        "    conv_test,\n",
        "    [a, b],\n",
        "    out,\n",
        "    [15, 4],\n",
        "    Coord(2, 1),\n",
        "    Coord(TPB, 1),\n",
        "    spec=conv_spec,\n",
        ")\n",
        "problem.show()"
      ]
    },
    {
      "cell_type": "code",
      "execution_count": null,
      "id": "80a29f20",
      "metadata": {
        "execution": {
          "iopub.execute_input": "2022-08-07T21:24:43.592341Z",
          "iopub.status.busy": "2022-08-07T21:24:43.591898Z",
          "iopub.status.idle": "2022-08-07T21:24:43.632088Z",
          "shell.execute_reply": "2022-08-07T21:24:43.631270Z"
        },
        "id": "80a29f20"
      },
      "outputs": [],
      "source": [
        "problem.check()"
      ]
    },
    {
      "cell_type": "markdown",
      "id": "2d5f53d7",
      "metadata": {
        "id": "2d5f53d7"
      },
      "source": [
        "## Puzzle 12 - Prefix Sum\n",
        "\n",
        "Implement a kernel that computes a sum over `a` and stores it in `out`.\n",
        "If the size of `a` is greater than the block size, only store the sum of\n",
        "each block."
      ]
    },
    {
      "cell_type": "markdown",
      "id": "2e41aec0",
      "metadata": {
        "id": "2e41aec0"
      },
      "source": [
        "We will do this using the [parallel prefix sum](https://en.wikipedia.org/wiki/Prefix_sum) algorithm in shared memory.\n",
        "That is, each step of the algorithm should sum together half the remaining numbers.\n",
        "Follow this diagram:"
      ]
    },
    {
      "cell_type": "markdown",
      "id": "9c6a47dd",
      "metadata": {
        "id": "9c6a47dd"
      },
      "source": [
        "![](https://user-images.githubusercontent.com/35882/178757889-1c269623-93af-4a2e-a7e9-22cd55a42e38.png)"
      ]
    },
    {
      "cell_type": "code",
      "execution_count": null,
      "id": "130a0a8d",
      "metadata": {
        "execution": {
          "iopub.execute_input": "2022-08-07T21:24:43.636349Z",
          "iopub.status.busy": "2022-08-07T21:24:43.635880Z",
          "iopub.status.idle": "2022-08-07T21:24:43.714064Z",
          "shell.execute_reply": "2022-08-07T21:24:43.713293Z"
        },
        "id": "130a0a8d"
      },
      "outputs": [],
      "source": [
        "TPB = 8\n",
        "def sum_spec(a):\n",
        "    out = np.zeros((a.shape[0] + TPB - 1) // TPB)\n",
        "    for j, i in enumerate(range(0, a.shape[-1], TPB)):\n",
        "        out[j] = a[i : i + TPB].sum()\n",
        "    return out\n",
        "\n",
        "\n",
        "def sum_test(cuda):\n",
        "    def call(out, a, size: int) -> None:\n",
        "        cache = cuda.shared.array(TPB, numba.float32)\n",
        "        i = cuda.blockIdx.x * cuda.blockDim.x + cuda.threadIdx.x\n",
        "        local_i = cuda.threadIdx.x\n",
        "        # FILL ME IN (roughly 12 lines)\n",
        "\n",
        "    return call\n",
        "\n",
        "\n",
        "# Test 1\n",
        "\n",
        "SIZE = 8\n",
        "out = np.zeros(1)\n",
        "inp = np.arange(SIZE)\n",
        "problem = CudaProblem(\n",
        "    \"Sum (Simple)\",\n",
        "    sum_test,\n",
        "    [inp],\n",
        "    out,\n",
        "    [SIZE],\n",
        "    Coord(1, 1),\n",
        "    Coord(TPB, 1),\n",
        "    spec=sum_spec,\n",
        ")\n",
        "problem.show()"
      ]
    },
    {
      "cell_type": "code",
      "execution_count": null,
      "id": "e03a0c71",
      "metadata": {
        "execution": {
          "iopub.execute_input": "2022-08-07T21:24:43.717874Z",
          "iopub.status.busy": "2022-08-07T21:24:43.717439Z",
          "iopub.status.idle": "2022-08-07T21:24:43.762084Z",
          "shell.execute_reply": "2022-08-07T21:24:43.761264Z"
        },
        "id": "e03a0c71"
      },
      "outputs": [],
      "source": [
        "problem.check()"
      ]
    },
    {
      "cell_type": "markdown",
      "id": "ccd86af0",
      "metadata": {
        "id": "ccd86af0"
      },
      "source": [
        "Test 2"
      ]
    },
    {
      "cell_type": "code",
      "execution_count": null,
      "id": "89b021a9",
      "metadata": {
        "execution": {
          "iopub.execute_input": "2022-08-07T21:24:43.766261Z",
          "iopub.status.busy": "2022-08-07T21:24:43.765816Z",
          "iopub.status.idle": "2022-08-07T21:24:43.906583Z",
          "shell.execute_reply": "2022-08-07T21:24:43.905757Z"
        },
        "id": "89b021a9"
      },
      "outputs": [],
      "source": [
        "SIZE = 15\n",
        "out = np.zeros(2)\n",
        "inp = np.arange(SIZE)\n",
        "problem = CudaProblem(\n",
        "    \"Sum (Full)\",\n",
        "    sum_test,\n",
        "    [inp],\n",
        "    out,\n",
        "    [SIZE],\n",
        "    Coord(2, 1),\n",
        "    Coord(TPB, 1),\n",
        "    spec=sum_spec,\n",
        ")\n",
        "problem.show()"
      ]
    },
    {
      "cell_type": "code",
      "execution_count": null,
      "id": "16dad418",
      "metadata": {
        "execution": {
          "iopub.execute_input": "2022-08-07T21:24:43.910655Z",
          "iopub.status.busy": "2022-08-07T21:24:43.910219Z",
          "iopub.status.idle": "2022-08-07T21:24:43.955778Z",
          "shell.execute_reply": "2022-08-07T21:24:43.954979Z"
        },
        "id": "16dad418"
      },
      "outputs": [],
      "source": [
        "problem.check()"
      ]
    },
    {
      "cell_type": "markdown",
      "id": "162146c3",
      "metadata": {
        "id": "162146c3"
      },
      "source": [
        "## Puzzle 13 - Axis Sum\n",
        "\n",
        "Implement a kernel that computes a sum over each column of `a` and stores it in `out`."
      ]
    },
    {
      "cell_type": "code",
      "execution_count": null,
      "id": "e87fd5df",
      "metadata": {
        "execution": {
          "iopub.execute_input": "2022-08-07T21:24:43.959820Z",
          "iopub.status.busy": "2022-08-07T21:24:43.959380Z",
          "iopub.status.idle": "2022-08-07T21:24:44.280640Z",
          "shell.execute_reply": "2022-08-07T21:24:44.279832Z"
        },
        "id": "e87fd5df"
      },
      "outputs": [],
      "source": [
        "TPB = 8\n",
        "def sum_spec(a):\n",
        "    out = np.zeros((a.shape[0], (a.shape[1] + TPB - 1) // TPB))\n",
        "    for j, i in enumerate(range(0, a.shape[-1], TPB)):\n",
        "        out[..., j] = a[..., i : i + TPB].sum(-1)\n",
        "    return out\n",
        "\n",
        "\n",
        "def axis_sum_test(cuda):\n",
        "    def call(out, a, size: int) -> None:\n",
        "        cache = cuda.shared.array(TPB, numba.float32)\n",
        "        i = cuda.blockIdx.x * cuda.blockDim.x + cuda.threadIdx.x\n",
        "        local_i = cuda.threadIdx.x\n",
        "        batch = cuda.blockIdx.y\n",
        "        # FILL ME IN (roughly 12 lines)\n",
        "\n",
        "    return call\n",
        "\n",
        "\n",
        "BATCH = 4\n",
        "SIZE = 6\n",
        "out = np.zeros((BATCH, 1))\n",
        "inp = np.arange(BATCH * SIZE).reshape((BATCH, SIZE))\n",
        "problem = CudaProblem(\n",
        "    \"Axis Sum\",\n",
        "    axis_sum_test,\n",
        "    [inp],\n",
        "    out,\n",
        "    [SIZE],\n",
        "    Coord(1, BATCH),\n",
        "    Coord(TPB, 1),\n",
        "    spec=sum_spec,\n",
        ")\n",
        "problem.show()"
      ]
    },
    {
      "cell_type": "code",
      "execution_count": null,
      "id": "c3326563",
      "metadata": {
        "execution": {
          "iopub.execute_input": "2022-08-07T21:24:44.289173Z",
          "iopub.status.busy": "2022-08-07T21:24:44.288667Z",
          "iopub.status.idle": "2022-08-07T21:24:44.336305Z",
          "shell.execute_reply": "2022-08-07T21:24:44.335469Z"
        },
        "lines_to_end_of_cell_marker": 0,
        "lines_to_next_cell": 1,
        "id": "c3326563"
      },
      "outputs": [],
      "source": [
        "problem.check()"
      ]
    },
    {
      "cell_type": "markdown",
      "id": "300312e8",
      "metadata": {
        "id": "300312e8"
      },
      "source": [
        "## Puzzle 14 - Matrix Multiply!\n",
        "\n",
        "Implement a kernel that multiplies square matrices `a` and `b` and\n",
        "stores the result in `out`.\n",
        "\n",
        "*Tip: The most efficient algorithm here will copy a block into\n",
        " shared memory before computing each of the individual row-column\n",
        " dot products. This is easy to do if the matrix fits in shared\n",
        " memory.  Do that case first. Then update your code to compute\n",
        " a partial dot-product and iteratively move the part you\n",
        " copied into shared memory.* You should be able to do the hard case\n",
        " in 6 global reads."
      ]
    },
    {
      "cell_type": "code",
      "execution_count": null,
      "id": "252db1c3",
      "metadata": {
        "execution": {
          "iopub.execute_input": "2022-08-07T21:24:44.340330Z",
          "iopub.status.busy": "2022-08-07T21:24:44.339875Z",
          "iopub.status.idle": "2022-08-07T21:24:44.433833Z",
          "shell.execute_reply": "2022-08-07T21:24:44.433028Z"
        },
        "id": "252db1c3"
      },
      "outputs": [],
      "source": [
        "def matmul_spec(a, b):\n",
        "    return a @ b\n",
        "\n",
        "\n",
        "TPB = 3\n",
        "def mm_oneblock_test(cuda):\n",
        "    def call(out, a, b, size: int) -> None:\n",
        "        a_shared = cuda.shared.array((TPB, TPB), numba.float32)\n",
        "        b_shared = cuda.shared.array((TPB, TPB), numba.float32)\n",
        "\n",
        "        i = cuda.blockIdx.x * cuda.blockDim.x + cuda.threadIdx.x\n",
        "        j = cuda.blockIdx.y * cuda.blockDim.y + cuda.threadIdx.y\n",
        "        local_i = cuda.threadIdx.x\n",
        "        local_j = cuda.threadIdx.y\n",
        "        # FILL ME IN (roughly 14 lines)\n",
        "\n",
        "    return call\n",
        "\n",
        "# Test 1\n",
        "\n",
        "SIZE = 2\n",
        "out = np.zeros((SIZE, SIZE))\n",
        "inp1 = np.arange(SIZE * SIZE).reshape((SIZE, SIZE))\n",
        "inp2 = np.arange(SIZE * SIZE).reshape((SIZE, SIZE)).T\n",
        "\n",
        "problem = CudaProblem(\n",
        "    \"Matmul (Simple)\",\n",
        "    mm_oneblock_test,\n",
        "    [inp1, inp2],\n",
        "    out,\n",
        "    [SIZE],\n",
        "    Coord(1, 1),\n",
        "    Coord(TPB, TPB),\n",
        "    spec=matmul_spec,\n",
        ")\n",
        "problem.show(sparse=True)"
      ]
    },
    {
      "cell_type": "code",
      "execution_count": null,
      "id": "cb812973",
      "metadata": {
        "execution": {
          "iopub.execute_input": "2022-08-07T21:24:44.437576Z",
          "iopub.status.busy": "2022-08-07T21:24:44.437142Z",
          "iopub.status.idle": "2022-08-07T21:24:44.502001Z",
          "shell.execute_reply": "2022-08-07T21:24:44.501163Z"
        },
        "id": "cb812973"
      },
      "outputs": [],
      "source": [
        "problem.check()"
      ]
    },
    {
      "cell_type": "markdown",
      "id": "f119be2d",
      "metadata": {
        "id": "f119be2d"
      },
      "source": [
        "Test 2"
      ]
    },
    {
      "cell_type": "code",
      "execution_count": null,
      "id": "e713d056",
      "metadata": {
        "execution": {
          "iopub.execute_input": "2022-08-07T21:24:44.506178Z",
          "iopub.status.busy": "2022-08-07T21:24:44.505708Z",
          "iopub.status.idle": "2022-08-07T21:24:47.932059Z",
          "shell.execute_reply": "2022-08-07T21:24:47.931153Z"
        },
        "id": "e713d056"
      },
      "outputs": [],
      "source": [
        "SIZE = 8\n",
        "out = np.zeros((SIZE, SIZE))\n",
        "inp1 = np.arange(SIZE * SIZE).reshape((SIZE, SIZE))\n",
        "inp2 = np.arange(SIZE * SIZE).reshape((SIZE, SIZE)).T\n",
        "\n",
        "problem = CudaProblem(\n",
        "    \"Matmul (Full)\",\n",
        "    mm_oneblock_test,\n",
        "    [inp1, inp2],\n",
        "    out,\n",
        "    [SIZE],\n",
        "    Coord(3, 3),\n",
        "    Coord(TPB, TPB),\n",
        "    spec=matmul_spec,\n",
        ")\n",
        "problem.show(sparse=True)"
      ]
    },
    {
      "cell_type": "code",
      "execution_count": null,
      "id": "61bda17c",
      "metadata": {
        "execution": {
          "iopub.execute_input": "2022-08-07T21:24:47.956298Z",
          "iopub.status.busy": "2022-08-07T21:24:47.955822Z",
          "iopub.status.idle": "2022-08-07T21:24:48.019620Z",
          "shell.execute_reply": "2022-08-07T21:24:48.018792Z"
        },
        "id": "61bda17c"
      },
      "outputs": [],
      "source": [
        "problem.check()"
      ]
    }
  ],
  "metadata": {
    "jupytext": {
      "cell_metadata_filter": "-all"
    },
    "kernelspec": {
      "display_name": "Python 3",
      "name": "python3"
    },
    "language_info": {
      "codemirror_mode": {
        "name": "ipython",
        "version": 3
      },
      "file_extension": ".py",
      "mimetype": "text/x-python",
      "name": "python",
      "nbconvert_exporter": "python",
      "pygments_lexer": "ipython3",
      "version": "3.8.10"
    },
    "colab": {
      "provenance": [],
      "gpuType": "T4",
      "include_colab_link": true
    },
    "accelerator": "GPU"
  },
  "nbformat": 4,
  "nbformat_minor": 5
}